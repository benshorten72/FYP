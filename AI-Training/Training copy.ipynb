{
 "cells": [
  {
   "cell_type": "markdown",
   "metadata": {},
   "source": [
    "# AI Training\n",
    "## Edge model training"
   ]
  },
  {
   "cell_type": "code",
   "execution_count": 53,
   "metadata": {},
   "outputs": [
    {
     "name": "stderr",
     "output_type": "stream",
     "text": [
      "python(16955) MallocStackLogging: can't turn off malloc stack logging because it was not enabled.\n"
     ]
    },
    {
     "name": "stdout",
     "output_type": "stream",
     "text": [
      "Requirement already satisfied: tensorflow in /opt/anaconda3/lib/python3.12/site-packages (2.18.0)\n",
      "Requirement already satisfied: absl-py>=1.0.0 in /opt/anaconda3/lib/python3.12/site-packages (from tensorflow) (2.1.0)\n",
      "Requirement already satisfied: astunparse>=1.6.0 in /opt/anaconda3/lib/python3.12/site-packages (from tensorflow) (1.6.3)\n",
      "Requirement already satisfied: flatbuffers>=24.3.25 in /opt/anaconda3/lib/python3.12/site-packages (from tensorflow) (25.2.10)\n",
      "Requirement already satisfied: gast!=0.5.0,!=0.5.1,!=0.5.2,>=0.2.1 in /opt/anaconda3/lib/python3.12/site-packages (from tensorflow) (0.6.0)\n",
      "Requirement already satisfied: google-pasta>=0.1.1 in /opt/anaconda3/lib/python3.12/site-packages (from tensorflow) (0.2.0)\n",
      "Requirement already satisfied: libclang>=13.0.0 in /opt/anaconda3/lib/python3.12/site-packages (from tensorflow) (18.1.1)\n",
      "Requirement already satisfied: opt-einsum>=2.3.2 in /opt/anaconda3/lib/python3.12/site-packages (from tensorflow) (3.4.0)\n",
      "Requirement already satisfied: packaging in /opt/anaconda3/lib/python3.12/site-packages (from tensorflow) (24.1)\n",
      "Requirement already satisfied: protobuf!=4.21.0,!=4.21.1,!=4.21.2,!=4.21.3,!=4.21.4,!=4.21.5,<6.0.0dev,>=3.20.3 in /opt/anaconda3/lib/python3.12/site-packages (from tensorflow) (4.25.3)\n",
      "Requirement already satisfied: requests<3,>=2.21.0 in /opt/anaconda3/lib/python3.12/site-packages (from tensorflow) (2.32.3)\n",
      "Requirement already satisfied: setuptools in /opt/anaconda3/lib/python3.12/site-packages (from tensorflow) (75.1.0)\n",
      "Requirement already satisfied: six>=1.12.0 in /opt/anaconda3/lib/python3.12/site-packages (from tensorflow) (1.16.0)\n",
      "Requirement already satisfied: termcolor>=1.1.0 in /opt/anaconda3/lib/python3.12/site-packages (from tensorflow) (2.5.0)\n",
      "Requirement already satisfied: typing-extensions>=3.6.6 in /opt/anaconda3/lib/python3.12/site-packages (from tensorflow) (4.11.0)\n",
      "Requirement already satisfied: wrapt>=1.11.0 in /opt/anaconda3/lib/python3.12/site-packages (from tensorflow) (1.14.1)\n",
      "Requirement already satisfied: grpcio<2.0,>=1.24.3 in /opt/anaconda3/lib/python3.12/site-packages (from tensorflow) (1.70.0)\n",
      "Requirement already satisfied: tensorboard<2.19,>=2.18 in /opt/anaconda3/lib/python3.12/site-packages (from tensorflow) (2.18.0)\n",
      "Requirement already satisfied: keras>=3.5.0 in /opt/anaconda3/lib/python3.12/site-packages (from tensorflow) (3.8.0)\n",
      "Requirement already satisfied: numpy<2.1.0,>=1.26.0 in /opt/anaconda3/lib/python3.12/site-packages (from tensorflow) (1.26.4)\n",
      "Requirement already satisfied: h5py>=3.11.0 in /opt/anaconda3/lib/python3.12/site-packages (from tensorflow) (3.11.0)\n",
      "Requirement already satisfied: ml-dtypes<0.5.0,>=0.4.0 in /opt/anaconda3/lib/python3.12/site-packages (from tensorflow) (0.4.1)\n",
      "Requirement already satisfied: wheel<1.0,>=0.23.0 in /opt/anaconda3/lib/python3.12/site-packages (from astunparse>=1.6.0->tensorflow) (0.44.0)\n",
      "Requirement already satisfied: rich in /opt/anaconda3/lib/python3.12/site-packages (from keras>=3.5.0->tensorflow) (13.7.1)\n",
      "Requirement already satisfied: namex in /opt/anaconda3/lib/python3.12/site-packages (from keras>=3.5.0->tensorflow) (0.0.8)\n",
      "Requirement already satisfied: optree in /opt/anaconda3/lib/python3.12/site-packages (from keras>=3.5.0->tensorflow) (0.14.0)\n",
      "Requirement already satisfied: charset-normalizer<4,>=2 in /opt/anaconda3/lib/python3.12/site-packages (from requests<3,>=2.21.0->tensorflow) (3.3.2)\n",
      "Requirement already satisfied: idna<4,>=2.5 in /opt/anaconda3/lib/python3.12/site-packages (from requests<3,>=2.21.0->tensorflow) (3.7)\n",
      "Requirement already satisfied: urllib3<3,>=1.21.1 in /opt/anaconda3/lib/python3.12/site-packages (from requests<3,>=2.21.0->tensorflow) (2.2.3)\n",
      "Requirement already satisfied: certifi>=2017.4.17 in /opt/anaconda3/lib/python3.12/site-packages (from requests<3,>=2.21.0->tensorflow) (2024.8.30)\n",
      "Requirement already satisfied: markdown>=2.6.8 in /opt/anaconda3/lib/python3.12/site-packages (from tensorboard<2.19,>=2.18->tensorflow) (3.4.1)\n",
      "Requirement already satisfied: tensorboard-data-server<0.8.0,>=0.7.0 in /opt/anaconda3/lib/python3.12/site-packages (from tensorboard<2.19,>=2.18->tensorflow) (0.7.2)\n",
      "Requirement already satisfied: werkzeug>=1.0.1 in /opt/anaconda3/lib/python3.12/site-packages (from tensorboard<2.19,>=2.18->tensorflow) (3.0.3)\n",
      "Requirement already satisfied: MarkupSafe>=2.1.1 in /opt/anaconda3/lib/python3.12/site-packages (from werkzeug>=1.0.1->tensorboard<2.19,>=2.18->tensorflow) (2.1.3)\n",
      "Requirement already satisfied: markdown-it-py>=2.2.0 in /opt/anaconda3/lib/python3.12/site-packages (from rich->keras>=3.5.0->tensorflow) (2.2.0)\n",
      "Requirement already satisfied: pygments<3.0.0,>=2.13.0 in /opt/anaconda3/lib/python3.12/site-packages (from rich->keras>=3.5.0->tensorflow) (2.15.1)\n",
      "Requirement already satisfied: mdurl~=0.1 in /opt/anaconda3/lib/python3.12/site-packages (from markdown-it-py>=2.2.0->rich->keras>=3.5.0->tensorflow) (0.1.0)\n"
     ]
    }
   ],
   "source": [
    "!python3 -m pip install tensorflow\n",
    "import pandas as pd\n",
    "from sklearn.model_selection import train_test_split\n",
    "from sklearn.preprocessing import LabelEncoder\n",
    "import numpy as np\n",
    "import tensorflow as tf\n",
    "from tensorflow.keras import layers\n",
    "from sklearn.preprocessing import StandardScaler\n"
   ]
  },
  {
   "cell_type": "code",
   "execution_count": 25,
   "metadata": {},
   "outputs": [
    {
     "name": "stdout",
     "output_type": "stream",
     "text": [
      "date     0\n",
      "ind      0\n",
      "rain     0\n",
      "ind1     0\n",
      "temp     0\n",
      "ind2     0\n",
      "wetb     0\n",
      "dewpt    0\n",
      "vappr    0\n",
      "rhum     0\n",
      "msl      0\n",
      "ind3     0\n",
      "wdsp     0\n",
      "ind4     0\n",
      "wddir    0\n",
      "ww       0\n",
      "w        0\n",
      "sun      0\n",
      "vis      0\n",
      "clht     0\n",
      "clamt    0\n",
      "dtype: int64\n",
      "Epoch 1/20\n",
      "\u001b[1m3184/3184\u001b[0m \u001b[32m━━━━━━━━━━━━━━━━━━━━\u001b[0m\u001b[37m\u001b[0m \u001b[1m5s\u001b[0m 1ms/step - control_output_loss: 1437.9135 - control_output_mae: 6.2386 - edge_output_loss: 34606.1289 - edge_output_mae: 35.6869 - loss: 36044.0508 - val_control_output_loss: 0.3612 - val_control_output_mae: 0.3811 - val_edge_output_loss: 7.4296 - val_edge_output_mae: 2.2446 - val_loss: 7.7915\n",
      "Epoch 2/20\n",
      "\u001b[1m3184/3184\u001b[0m \u001b[32m━━━━━━━━━━━━━━━━━━━━\u001b[0m\u001b[37m\u001b[0m \u001b[1m4s\u001b[0m 1ms/step - control_output_loss: 2.2256 - control_output_mae: 0.8053 - edge_output_loss: 748.0011 - edge_output_mae: 10.0709 - loss: 750.2266 - val_control_output_loss: 0.3366 - val_control_output_mae: 0.3604 - val_edge_output_loss: 7.0296 - val_edge_output_mae: 2.0016 - val_loss: 7.3665\n",
      "Epoch 3/20\n",
      "\u001b[1m3184/3184\u001b[0m \u001b[32m━━━━━━━━━━━━━━━━━━━━\u001b[0m\u001b[37m\u001b[0m \u001b[1m4s\u001b[0m 1ms/step - control_output_loss: 1.7708 - control_output_mae: 0.5500 - edge_output_loss: 377.3471 - edge_output_mae: 6.4872 - loss: 379.1186 - val_control_output_loss: 0.2536 - val_control_output_mae: 0.1842 - val_edge_output_loss: 1.3349 - val_edge_output_mae: 0.8589 - val_loss: 1.5887\n",
      "Epoch 4/20\n",
      "\u001b[1m3184/3184\u001b[0m \u001b[32m━━━━━━━━━━━━━━━━━━━━\u001b[0m\u001b[37m\u001b[0m \u001b[1m4s\u001b[0m 1ms/step - control_output_loss: 0.3349 - control_output_mae: 0.2824 - edge_output_loss: 534.2467 - edge_output_mae: 7.3485 - loss: 534.5817 - val_control_output_loss: 0.4467 - val_control_output_mae: 0.5151 - val_edge_output_loss: 0.9467 - val_edge_output_mae: 0.6860 - val_loss: 1.3937\n",
      "Epoch 5/20\n",
      "\u001b[1m3184/3184\u001b[0m \u001b[32m━━━━━━━━━━━━━━━━━━━━\u001b[0m\u001b[37m\u001b[0m \u001b[1m4s\u001b[0m 1ms/step - control_output_loss: 0.2870 - control_output_mae: 0.2473 - edge_output_loss: 258.2568 - edge_output_mae: 5.1041 - loss: 258.5439 - val_control_output_loss: 0.2593 - val_control_output_mae: 0.2026 - val_edge_output_loss: 167.5955 - val_edge_output_mae: 11.0391 - val_loss: 167.8647\n",
      "Epoch 6/20\n",
      "\u001b[1m3184/3184\u001b[0m \u001b[32m━━━━━━━━━━━━━━━━━━━━\u001b[0m\u001b[37m\u001b[0m \u001b[1m4s\u001b[0m 1ms/step - control_output_loss: 0.2855 - control_output_mae: 0.2203 - edge_output_loss: 662.3102 - edge_output_mae: 8.3162 - loss: 662.5953 - val_control_output_loss: 0.2529 - val_control_output_mae: 0.1895 - val_edge_output_loss: 0.8491 - val_edge_output_mae: 0.6919 - val_loss: 1.1021\n",
      "Epoch 7/20\n",
      "\u001b[1m3184/3184\u001b[0m \u001b[32m━━━━━━━━━━━━━━━━━━━━\u001b[0m\u001b[37m\u001b[0m \u001b[1m4s\u001b[0m 1ms/step - control_output_loss: 1.0163 - control_output_mae: 0.2828 - edge_output_loss: 112.8082 - edge_output_mae: 3.4994 - loss: 113.8246 - val_control_output_loss: 0.3461 - val_control_output_mae: 0.3407 - val_edge_output_loss: 3.4118 - val_edge_output_mae: 1.6334 - val_loss: 3.7582\n",
      "Epoch 8/20\n",
      "\u001b[1m3184/3184\u001b[0m \u001b[32m━━━━━━━━━━━━━━━━━━━━\u001b[0m\u001b[37m\u001b[0m \u001b[1m4s\u001b[0m 1ms/step - control_output_loss: 0.2714 - control_output_mae: 0.2140 - edge_output_loss: 1283.1146 - edge_output_mae: 5.8590 - loss: 1283.3859 - val_control_output_loss: 0.2592 - val_control_output_mae: 0.1811 - val_edge_output_loss: 13.1738 - val_edge_output_mae: 2.7319 - val_loss: 13.4344\n",
      "Epoch 9/20\n",
      "\u001b[1m3184/3184\u001b[0m \u001b[32m━━━━━━━━━━━━━━━━━━━━\u001b[0m\u001b[37m\u001b[0m \u001b[1m4s\u001b[0m 1ms/step - control_output_loss: 0.2554 - control_output_mae: 0.1937 - edge_output_loss: 83.6167 - edge_output_mae: 3.4770 - loss: 83.8722 - val_control_output_loss: 0.2595 - val_control_output_mae: 0.1801 - val_edge_output_loss: 0.4255 - val_edge_output_mae: 0.4004 - val_loss: 0.6851\n",
      "Epoch 10/20\n",
      "\u001b[1m3184/3184\u001b[0m \u001b[32m━━━━━━━━━━━━━━━━━━━━\u001b[0m\u001b[37m\u001b[0m \u001b[1m4s\u001b[0m 1ms/step - control_output_loss: 0.2589 - control_output_mae: 0.1985 - edge_output_loss: 124.8020 - edge_output_mae: 3.0183 - loss: 125.0611 - val_control_output_loss: 0.2719 - val_control_output_mae: 0.1914 - val_edge_output_loss: 0.5305 - val_edge_output_mae: 0.5683 - val_loss: 0.8025\n",
      "Epoch 11/20\n",
      "\u001b[1m3184/3184\u001b[0m \u001b[32m━━━━━━━━━━━━━━━━━━━━\u001b[0m\u001b[37m\u001b[0m \u001b[1m4s\u001b[0m 1ms/step - control_output_loss: 0.2658 - control_output_mae: 0.1963 - edge_output_loss: 93.5958 - edge_output_mae: 3.1459 - loss: 93.8616 - val_control_output_loss: 0.2604 - val_control_output_mae: 0.1724 - val_edge_output_loss: 0.3383 - val_edge_output_mae: 0.2517 - val_loss: 0.5989\n",
      "Epoch 12/20\n",
      "\u001b[1m3184/3184\u001b[0m \u001b[32m━━━━━━━━━━━━━━━━━━━━\u001b[0m\u001b[37m\u001b[0m \u001b[1m4s\u001b[0m 1ms/step - control_output_loss: 0.2683 - control_output_mae: 0.1896 - edge_output_loss: 64.9288 - edge_output_mae: 2.7518 - loss: 65.1971 - val_control_output_loss: 0.2691 - val_control_output_mae: 0.1921 - val_edge_output_loss: 0.4097 - val_edge_output_mae: 0.4072 - val_loss: 0.6789\n",
      "Epoch 13/20\n",
      "\u001b[1m3184/3184\u001b[0m \u001b[32m━━━━━━━━━━━━━━━━━━━━\u001b[0m\u001b[37m\u001b[0m \u001b[1m4s\u001b[0m 1ms/step - control_output_loss: 0.2980 - control_output_mae: 0.2083 - edge_output_loss: 93.5658 - edge_output_mae: 2.6280 - loss: 93.8638 - val_control_output_loss: 0.2624 - val_control_output_mae: 0.1855 - val_edge_output_loss: 3.8337 - val_edge_output_mae: 1.7414 - val_loss: 4.0964\n",
      "Epoch 14/20\n",
      "\u001b[1m3184/3184\u001b[0m \u001b[32m━━━━━━━━━━━━━━━━━━━━\u001b[0m\u001b[37m\u001b[0m \u001b[1m4s\u001b[0m 1ms/step - control_output_loss: 0.2862 - control_output_mae: 0.2076 - edge_output_loss: 138.7835 - edge_output_mae: 3.1858 - loss: 139.0698 - val_control_output_loss: 0.2552 - val_control_output_mae: 0.1985 - val_edge_output_loss: 74.6322 - val_edge_output_mae: 7.4073 - val_loss: 74.8913\n",
      "Epoch 15/20\n",
      "\u001b[1m3184/3184\u001b[0m \u001b[32m━━━━━━━━━━━━━━━━━━━━\u001b[0m\u001b[37m\u001b[0m \u001b[1m4s\u001b[0m 1ms/step - control_output_loss: 0.2593 - control_output_mae: 0.1918 - edge_output_loss: 104.3166 - edge_output_mae: 2.8494 - loss: 104.5759 - val_control_output_loss: 0.2494 - val_control_output_mae: 0.1531 - val_edge_output_loss: 2.8912 - val_edge_output_mae: 1.4409 - val_loss: 3.1409\n",
      "Epoch 16/20\n",
      "\u001b[1m3184/3184\u001b[0m \u001b[32m━━━━━━━━━━━━━━━━━━━━\u001b[0m\u001b[37m\u001b[0m \u001b[1m4s\u001b[0m 1ms/step - control_output_loss: 0.2500 - control_output_mae: 0.1868 - edge_output_loss: 23.6797 - edge_output_mae: 1.5123 - loss: 23.9297 - val_control_output_loss: 0.2561 - val_control_output_mae: 0.1860 - val_edge_output_loss: 16.7475 - val_edge_output_mae: 3.3999 - val_loss: 17.0051\n",
      "Epoch 17/20\n",
      "\u001b[1m3184/3184\u001b[0m \u001b[32m━━━━━━━━━━━━━━━━━━━━\u001b[0m\u001b[37m\u001b[0m \u001b[1m4s\u001b[0m 1ms/step - control_output_loss: 0.2593 - control_output_mae: 0.1881 - edge_output_loss: 4.9945 - edge_output_mae: 0.7064 - loss: 5.2537 - val_control_output_loss: 0.2310 - val_control_output_mae: 0.1598 - val_edge_output_loss: 0.2866 - val_edge_output_mae: 0.3106 - val_loss: 0.5178\n",
      "Epoch 18/20\n",
      "\u001b[1m3184/3184\u001b[0m \u001b[32m━━━━━━━━━━━━━━━━━━━━\u001b[0m\u001b[37m\u001b[0m \u001b[1m4s\u001b[0m 1ms/step - control_output_loss: 0.2489 - control_output_mae: 0.1827 - edge_output_loss: 70.5253 - edge_output_mae: 2.3082 - loss: 70.7742 - val_control_output_loss: 0.2418 - val_control_output_mae: 0.1880 - val_edge_output_loss: 0.5690 - val_edge_output_mae: 0.6081 - val_loss: 0.8110\n",
      "Epoch 19/20\n",
      "\u001b[1m3184/3184\u001b[0m \u001b[32m━━━━━━━━━━━━━━━━━━━━\u001b[0m\u001b[37m\u001b[0m \u001b[1m4s\u001b[0m 1ms/step - control_output_loss: 0.2544 - control_output_mae: 0.1818 - edge_output_loss: 12.9347 - edge_output_mae: 1.7431 - loss: 13.1890 - val_control_output_loss: 0.2370 - val_control_output_mae: 0.1708 - val_edge_output_loss: 0.3756 - val_edge_output_mae: 0.3856 - val_loss: 0.6128\n",
      "Epoch 20/20\n",
      "\u001b[1m3184/3184\u001b[0m \u001b[32m━━━━━━━━━━━━━━━━━━━━\u001b[0m\u001b[37m\u001b[0m \u001b[1m4s\u001b[0m 1ms/step - control_output_loss: 0.2462 - control_output_mae: 0.1808 - edge_output_loss: 8.8294 - edge_output_mae: 1.3902 - loss: 9.0756 - val_control_output_loss: 0.2301 - val_control_output_mae: 0.1896 - val_edge_output_loss: 1.1762 - val_edge_output_mae: 0.9102 - val_loss: 1.4065\n",
      "Epoch 1/10\n",
      "\u001b[1m3184/3184\u001b[0m \u001b[32m━━━━━━━━━━━━━━━━━━━━\u001b[0m\u001b[37m\u001b[0m \u001b[1m2s\u001b[0m 443us/step - edge_output_mae: 0.4349 - loss: 0.9202 - val_edge_output_mae: 0.3326 - val_loss: 0.2883\n",
      "Epoch 2/10\n",
      "\u001b[1m3184/3184\u001b[0m \u001b[32m━━━━━━━━━━━━━━━━━━━━\u001b[0m\u001b[37m\u001b[0m \u001b[1m1s\u001b[0m 458us/step - edge_output_mae: 0.4151 - loss: 0.4930 - val_edge_output_mae: 0.2473 - val_loss: 0.2587\n",
      "Epoch 3/10\n",
      "\u001b[1m3184/3184\u001b[0m \u001b[32m━━━━━━━━━━━━━━━━━━━━\u001b[0m\u001b[37m\u001b[0m \u001b[1m1s\u001b[0m 423us/step - edge_output_mae: 0.4274 - loss: 0.5264 - val_edge_output_mae: 0.4736 - val_loss: 0.4285\n",
      "Epoch 4/10\n",
      "\u001b[1m3184/3184\u001b[0m \u001b[32m━━━━━━━━━━━━━━━━━━━━\u001b[0m\u001b[37m\u001b[0m \u001b[1m1s\u001b[0m 422us/step - edge_output_mae: 0.3825 - loss: 0.5036 - val_edge_output_mae: 0.2536 - val_loss: 0.2521\n",
      "Epoch 5/10\n",
      "\u001b[1m3184/3184\u001b[0m \u001b[32m━━━━━━━━━━━━━━━━━━━━\u001b[0m\u001b[37m\u001b[0m \u001b[1m1s\u001b[0m 422us/step - edge_output_mae: 0.3899 - loss: 0.4267 - val_edge_output_mae: 0.7735 - val_loss: 0.8805\n",
      "Epoch 6/10\n",
      "\u001b[1m3184/3184\u001b[0m \u001b[32m━━━━━━━━━━━━━━━━━━━━\u001b[0m\u001b[37m\u001b[0m \u001b[1m1s\u001b[0m 436us/step - edge_output_mae: 0.4182 - loss: 0.6748 - val_edge_output_mae: 0.3461 - val_loss: 0.3133\n",
      "Epoch 7/10\n",
      "\u001b[1m3184/3184\u001b[0m \u001b[32m━━━━━━━━━━━━━━━━━━━━\u001b[0m\u001b[37m\u001b[0m \u001b[1m1s\u001b[0m 432us/step - edge_output_mae: 0.3779 - loss: 0.3966 - val_edge_output_mae: 0.9565 - val_loss: 1.2975\n",
      "Epoch 8/10\n",
      "\u001b[1m3184/3184\u001b[0m \u001b[32m━━━━━━━━━━━━━━━━━━━━\u001b[0m\u001b[37m\u001b[0m \u001b[1m1s\u001b[0m 429us/step - edge_output_mae: 0.4381 - loss: 0.5147 - val_edge_output_mae: 0.2156 - val_loss: 0.2426\n",
      "Epoch 9/10\n",
      "\u001b[1m3184/3184\u001b[0m \u001b[32m━━━━━━━━━━━━━━━━━━━━\u001b[0m\u001b[37m\u001b[0m \u001b[1m1s\u001b[0m 434us/step - edge_output_mae: 0.4056 - loss: 0.4200 - val_edge_output_mae: 0.2839 - val_loss: 0.2632\n",
      "Epoch 10/10\n",
      "\u001b[1m3184/3184\u001b[0m \u001b[32m━━━━━━━━━━━━━━━━━━━━\u001b[0m\u001b[37m\u001b[0m \u001b[1m1s\u001b[0m 429us/step - edge_output_mae: 0.3458 - loss: 0.3739 - val_edge_output_mae: 0.4697 - val_loss: 0.4253\n"
     ]
    },
    {
     "data": {
      "text/html": [
       "<pre style=\"white-space:pre;overflow-x:auto;line-height:normal;font-family:Menlo,'DejaVu Sans Mono',consolas,'Courier New',monospace\"><span style=\"font-weight: bold\">Model: \"functional_10\"</span>\n",
       "</pre>\n"
      ],
      "text/plain": [
       "\u001b[1mModel: \"functional_10\"\u001b[0m\n"
      ]
     },
     "metadata": {},
     "output_type": "display_data"
    },
    {
     "data": {
      "text/html": [
       "<pre style=\"white-space:pre;overflow-x:auto;line-height:normal;font-family:Menlo,'DejaVu Sans Mono',consolas,'Courier New',monospace\">┏━━━━━━━━━━━━━━━━━━━━━━━━━━━━━━━━━┳━━━━━━━━━━━━━━━━━━━━━━━━┳━━━━━━━━━━━━━━━┓\n",
       "┃<span style=\"font-weight: bold\"> Layer (type)                    </span>┃<span style=\"font-weight: bold\"> Output Shape           </span>┃<span style=\"font-weight: bold\">       Param # </span>┃\n",
       "┡━━━━━━━━━━━━━━━━━━━━━━━━━━━━━━━━━╇━━━━━━━━━━━━━━━━━━━━━━━━╇━━━━━━━━━━━━━━━┩\n",
       "│ input_layer_6 (<span style=\"color: #0087ff; text-decoration-color: #0087ff\">InputLayer</span>)      │ (<span style=\"color: #00d7ff; text-decoration-color: #00d7ff\">None</span>, <span style=\"color: #00af00; text-decoration-color: #00af00\">19</span>)             │             <span style=\"color: #00af00; text-decoration-color: #00af00\">0</span> │\n",
       "├─────────────────────────────────┼────────────────────────┼───────────────┤\n",
       "│ e1 (<span style=\"color: #0087ff; text-decoration-color: #0087ff\">Dense</span>)                      │ (<span style=\"color: #00d7ff; text-decoration-color: #00d7ff\">None</span>, <span style=\"color: #00af00; text-decoration-color: #00af00\">64</span>)             │         <span style=\"color: #00af00; text-decoration-color: #00af00\">1,280</span> │\n",
       "├─────────────────────────────────┼────────────────────────┼───────────────┤\n",
       "│ e2 (<span style=\"color: #0087ff; text-decoration-color: #0087ff\">Dense</span>)                      │ (<span style=\"color: #00d7ff; text-decoration-color: #00d7ff\">None</span>, <span style=\"color: #00af00; text-decoration-color: #00af00\">32</span>)             │         <span style=\"color: #00af00; text-decoration-color: #00af00\">2,080</span> │\n",
       "├─────────────────────────────────┼────────────────────────┼───────────────┤\n",
       "│ edge_output (<span style=\"color: #0087ff; text-decoration-color: #0087ff\">Dense</span>)             │ (<span style=\"color: #00d7ff; text-decoration-color: #00d7ff\">None</span>, <span style=\"color: #00af00; text-decoration-color: #00af00\">1</span>)              │            <span style=\"color: #00af00; text-decoration-color: #00af00\">33</span> │\n",
       "└─────────────────────────────────┴────────────────────────┴───────────────┘\n",
       "</pre>\n"
      ],
      "text/plain": [
       "┏━━━━━━━━━━━━━━━━━━━━━━━━━━━━━━━━━┳━━━━━━━━━━━━━━━━━━━━━━━━┳━━━━━━━━━━━━━━━┓\n",
       "┃\u001b[1m \u001b[0m\u001b[1mLayer (type)                   \u001b[0m\u001b[1m \u001b[0m┃\u001b[1m \u001b[0m\u001b[1mOutput Shape          \u001b[0m\u001b[1m \u001b[0m┃\u001b[1m \u001b[0m\u001b[1m      Param #\u001b[0m\u001b[1m \u001b[0m┃\n",
       "┡━━━━━━━━━━━━━━━━━━━━━━━━━━━━━━━━━╇━━━━━━━━━━━━━━━━━━━━━━━━╇━━━━━━━━━━━━━━━┩\n",
       "│ input_layer_6 (\u001b[38;5;33mInputLayer\u001b[0m)      │ (\u001b[38;5;45mNone\u001b[0m, \u001b[38;5;34m19\u001b[0m)             │             \u001b[38;5;34m0\u001b[0m │\n",
       "├─────────────────────────────────┼────────────────────────┼───────────────┤\n",
       "│ e1 (\u001b[38;5;33mDense\u001b[0m)                      │ (\u001b[38;5;45mNone\u001b[0m, \u001b[38;5;34m64\u001b[0m)             │         \u001b[38;5;34m1,280\u001b[0m │\n",
       "├─────────────────────────────────┼────────────────────────┼───────────────┤\n",
       "│ e2 (\u001b[38;5;33mDense\u001b[0m)                      │ (\u001b[38;5;45mNone\u001b[0m, \u001b[38;5;34m32\u001b[0m)             │         \u001b[38;5;34m2,080\u001b[0m │\n",
       "├─────────────────────────────────┼────────────────────────┼───────────────┤\n",
       "│ edge_output (\u001b[38;5;33mDense\u001b[0m)             │ (\u001b[38;5;45mNone\u001b[0m, \u001b[38;5;34m1\u001b[0m)              │            \u001b[38;5;34m33\u001b[0m │\n",
       "└─────────────────────────────────┴────────────────────────┴───────────────┘\n"
      ]
     },
     "metadata": {},
     "output_type": "display_data"
    },
    {
     "data": {
      "text/html": [
       "<pre style=\"white-space:pre;overflow-x:auto;line-height:normal;font-family:Menlo,'DejaVu Sans Mono',consolas,'Courier New',monospace\"><span style=\"font-weight: bold\"> Total params: </span><span style=\"color: #00af00; text-decoration-color: #00af00\">3,461</span> (13.52 KB)\n",
       "</pre>\n"
      ],
      "text/plain": [
       "\u001b[1m Total params: \u001b[0m\u001b[38;5;34m3,461\u001b[0m (13.52 KB)\n"
      ]
     },
     "metadata": {},
     "output_type": "display_data"
    },
    {
     "data": {
      "text/html": [
       "<pre style=\"white-space:pre;overflow-x:auto;line-height:normal;font-family:Menlo,'DejaVu Sans Mono',consolas,'Courier New',monospace\"><span style=\"font-weight: bold\"> Trainable params: </span><span style=\"color: #00af00; text-decoration-color: #00af00\">33</span> (132.00 B)\n",
       "</pre>\n"
      ],
      "text/plain": [
       "\u001b[1m Trainable params: \u001b[0m\u001b[38;5;34m33\u001b[0m (132.00 B)\n"
      ]
     },
     "metadata": {},
     "output_type": "display_data"
    },
    {
     "data": {
      "text/html": [
       "<pre style=\"white-space:pre;overflow-x:auto;line-height:normal;font-family:Menlo,'DejaVu Sans Mono',consolas,'Courier New',monospace\"><span style=\"font-weight: bold\"> Non-trainable params: </span><span style=\"color: #00af00; text-decoration-color: #00af00\">3,360</span> (13.12 KB)\n",
       "</pre>\n"
      ],
      "text/plain": [
       "\u001b[1m Non-trainable params: \u001b[0m\u001b[38;5;34m3,360\u001b[0m (13.12 KB)\n"
      ]
     },
     "metadata": {},
     "output_type": "display_data"
    },
    {
     "data": {
      "text/html": [
       "<pre style=\"white-space:pre;overflow-x:auto;line-height:normal;font-family:Menlo,'DejaVu Sans Mono',consolas,'Courier New',monospace\"><span style=\"font-weight: bold\"> Optimizer params: </span><span style=\"color: #00af00; text-decoration-color: #00af00\">68</span> (276.00 B)\n",
       "</pre>\n"
      ],
      "text/plain": [
       "\u001b[1m Optimizer params: \u001b[0m\u001b[38;5;34m68\u001b[0m (276.00 B)\n"
      ]
     },
     "metadata": {},
     "output_type": "display_data"
    },
    {
     "data": {
      "text/html": [
       "<pre style=\"white-space:pre;overflow-x:auto;line-height:normal;font-family:Menlo,'DejaVu Sans Mono',consolas,'Courier New',monospace\"><span style=\"font-weight: bold\">Model: \"functional_11\"</span>\n",
       "</pre>\n"
      ],
      "text/plain": [
       "\u001b[1mModel: \"functional_11\"\u001b[0m\n"
      ]
     },
     "metadata": {},
     "output_type": "display_data"
    },
    {
     "data": {
      "text/html": [
       "<pre style=\"white-space:pre;overflow-x:auto;line-height:normal;font-family:Menlo,'DejaVu Sans Mono',consolas,'Courier New',monospace\">┏━━━━━━━━━━━━━━━━━━━━━━━━━━━━━━━━━┳━━━━━━━━━━━━━━━━━━━━━━━━┳━━━━━━━━━━━━━━━┓\n",
       "┃<span style=\"font-weight: bold\"> Layer (type)                    </span>┃<span style=\"font-weight: bold\"> Output Shape           </span>┃<span style=\"font-weight: bold\">       Param # </span>┃\n",
       "┡━━━━━━━━━━━━━━━━━━━━━━━━━━━━━━━━━╇━━━━━━━━━━━━━━━━━━━━━━━━╇━━━━━━━━━━━━━━━┩\n",
       "│ input_layer_7 (<span style=\"color: #0087ff; text-decoration-color: #0087ff\">InputLayer</span>)      │ (<span style=\"color: #00d7ff; text-decoration-color: #00d7ff\">None</span>, <span style=\"color: #00af00; text-decoration-color: #00af00\">32</span>)             │             <span style=\"color: #00af00; text-decoration-color: #00af00\">0</span> │\n",
       "├─────────────────────────────────┼────────────────────────┼───────────────┤\n",
       "│ controlmodel (<span style=\"color: #0087ff; text-decoration-color: #0087ff\">Dense</span>)            │ (<span style=\"color: #00d7ff; text-decoration-color: #00d7ff\">None</span>, <span style=\"color: #00af00; text-decoration-color: #00af00\">64</span>)             │         <span style=\"color: #00af00; text-decoration-color: #00af00\">2,112</span> │\n",
       "├─────────────────────────────────┼────────────────────────┼───────────────┤\n",
       "│ l1 (<span style=\"color: #0087ff; text-decoration-color: #0087ff\">Dense</span>)                      │ (<span style=\"color: #00d7ff; text-decoration-color: #00d7ff\">None</span>, <span style=\"color: #00af00; text-decoration-color: #00af00\">128</span>)            │         <span style=\"color: #00af00; text-decoration-color: #00af00\">8,320</span> │\n",
       "├─────────────────────────────────┼────────────────────────┼───────────────┤\n",
       "│ l2 (<span style=\"color: #0087ff; text-decoration-color: #0087ff\">Dense</span>)                      │ (<span style=\"color: #00d7ff; text-decoration-color: #00d7ff\">None</span>, <span style=\"color: #00af00; text-decoration-color: #00af00\">256</span>)            │        <span style=\"color: #00af00; text-decoration-color: #00af00\">33,024</span> │\n",
       "├─────────────────────────────────┼────────────────────────┼───────────────┤\n",
       "│ l3 (<span style=\"color: #0087ff; text-decoration-color: #0087ff\">Dense</span>)                      │ (<span style=\"color: #00d7ff; text-decoration-color: #00d7ff\">None</span>, <span style=\"color: #00af00; text-decoration-color: #00af00\">128</span>)            │        <span style=\"color: #00af00; text-decoration-color: #00af00\">32,896</span> │\n",
       "├─────────────────────────────────┼────────────────────────┼───────────────┤\n",
       "│ l4 (<span style=\"color: #0087ff; text-decoration-color: #0087ff\">Dense</span>)                      │ (<span style=\"color: #00d7ff; text-decoration-color: #00d7ff\">None</span>, <span style=\"color: #00af00; text-decoration-color: #00af00\">64</span>)             │         <span style=\"color: #00af00; text-decoration-color: #00af00\">8,256</span> │\n",
       "├─────────────────────────────────┼────────────────────────┼───────────────┤\n",
       "│ control_output (<span style=\"color: #0087ff; text-decoration-color: #0087ff\">Dense</span>)          │ (<span style=\"color: #00d7ff; text-decoration-color: #00d7ff\">None</span>, <span style=\"color: #00af00; text-decoration-color: #00af00\">1</span>)              │            <span style=\"color: #00af00; text-decoration-color: #00af00\">65</span> │\n",
       "└─────────────────────────────────┴────────────────────────┴───────────────┘\n",
       "</pre>\n"
      ],
      "text/plain": [
       "┏━━━━━━━━━━━━━━━━━━━━━━━━━━━━━━━━━┳━━━━━━━━━━━━━━━━━━━━━━━━┳━━━━━━━━━━━━━━━┓\n",
       "┃\u001b[1m \u001b[0m\u001b[1mLayer (type)                   \u001b[0m\u001b[1m \u001b[0m┃\u001b[1m \u001b[0m\u001b[1mOutput Shape          \u001b[0m\u001b[1m \u001b[0m┃\u001b[1m \u001b[0m\u001b[1m      Param #\u001b[0m\u001b[1m \u001b[0m┃\n",
       "┡━━━━━━━━━━━━━━━━━━━━━━━━━━━━━━━━━╇━━━━━━━━━━━━━━━━━━━━━━━━╇━━━━━━━━━━━━━━━┩\n",
       "│ input_layer_7 (\u001b[38;5;33mInputLayer\u001b[0m)      │ (\u001b[38;5;45mNone\u001b[0m, \u001b[38;5;34m32\u001b[0m)             │             \u001b[38;5;34m0\u001b[0m │\n",
       "├─────────────────────────────────┼────────────────────────┼───────────────┤\n",
       "│ controlmodel (\u001b[38;5;33mDense\u001b[0m)            │ (\u001b[38;5;45mNone\u001b[0m, \u001b[38;5;34m64\u001b[0m)             │         \u001b[38;5;34m2,112\u001b[0m │\n",
       "├─────────────────────────────────┼────────────────────────┼───────────────┤\n",
       "│ l1 (\u001b[38;5;33mDense\u001b[0m)                      │ (\u001b[38;5;45mNone\u001b[0m, \u001b[38;5;34m128\u001b[0m)            │         \u001b[38;5;34m8,320\u001b[0m │\n",
       "├─────────────────────────────────┼────────────────────────┼───────────────┤\n",
       "│ l2 (\u001b[38;5;33mDense\u001b[0m)                      │ (\u001b[38;5;45mNone\u001b[0m, \u001b[38;5;34m256\u001b[0m)            │        \u001b[38;5;34m33,024\u001b[0m │\n",
       "├─────────────────────────────────┼────────────────────────┼───────────────┤\n",
       "│ l3 (\u001b[38;5;33mDense\u001b[0m)                      │ (\u001b[38;5;45mNone\u001b[0m, \u001b[38;5;34m128\u001b[0m)            │        \u001b[38;5;34m32,896\u001b[0m │\n",
       "├─────────────────────────────────┼────────────────────────┼───────────────┤\n",
       "│ l4 (\u001b[38;5;33mDense\u001b[0m)                      │ (\u001b[38;5;45mNone\u001b[0m, \u001b[38;5;34m64\u001b[0m)             │         \u001b[38;5;34m8,256\u001b[0m │\n",
       "├─────────────────────────────────┼────────────────────────┼───────────────┤\n",
       "│ control_output (\u001b[38;5;33mDense\u001b[0m)          │ (\u001b[38;5;45mNone\u001b[0m, \u001b[38;5;34m1\u001b[0m)              │            \u001b[38;5;34m65\u001b[0m │\n",
       "└─────────────────────────────────┴────────────────────────┴───────────────┘\n"
      ]
     },
     "metadata": {},
     "output_type": "display_data"
    },
    {
     "data": {
      "text/html": [
       "<pre style=\"white-space:pre;overflow-x:auto;line-height:normal;font-family:Menlo,'DejaVu Sans Mono',consolas,'Courier New',monospace\"><span style=\"font-weight: bold\"> Total params: </span><span style=\"color: #00af00; text-decoration-color: #00af00\">84,673</span> (330.75 KB)\n",
       "</pre>\n"
      ],
      "text/plain": [
       "\u001b[1m Total params: \u001b[0m\u001b[38;5;34m84,673\u001b[0m (330.75 KB)\n"
      ]
     },
     "metadata": {},
     "output_type": "display_data"
    },
    {
     "data": {
      "text/html": [
       "<pre style=\"white-space:pre;overflow-x:auto;line-height:normal;font-family:Menlo,'DejaVu Sans Mono',consolas,'Courier New',monospace\"><span style=\"font-weight: bold\"> Trainable params: </span><span style=\"color: #00af00; text-decoration-color: #00af00\">84,673</span> (330.75 KB)\n",
       "</pre>\n"
      ],
      "text/plain": [
       "\u001b[1m Trainable params: \u001b[0m\u001b[38;5;34m84,673\u001b[0m (330.75 KB)\n"
      ]
     },
     "metadata": {},
     "output_type": "display_data"
    },
    {
     "data": {
      "text/html": [
       "<pre style=\"white-space:pre;overflow-x:auto;line-height:normal;font-family:Menlo,'DejaVu Sans Mono',consolas,'Courier New',monospace\"><span style=\"font-weight: bold\"> Non-trainable params: </span><span style=\"color: #00af00; text-decoration-color: #00af00\">0</span> (0.00 B)\n",
       "</pre>\n"
      ],
      "text/plain": [
       "\u001b[1m Non-trainable params: \u001b[0m\u001b[38;5;34m0\u001b[0m (0.00 B)\n"
      ]
     },
     "metadata": {},
     "output_type": "display_data"
    }
   ],
   "source": [
    "import pandas as pd\n",
    "from sklearn.preprocessing import LabelEncoder\n",
    "from tensorflow.keras import Input, Model, layers\n",
    "from sklearn.model_selection import train_test_split\n",
    "\n",
    "# Load and preprocess data\n",
    "RAIN_THRESHHOLD = 0.5\n",
    "data = pd.read_csv('weather_data.csv', low_memory=False)\n",
    "data = data.sample(frac=1, random_state=2).reset_index(drop=True)\n",
    "data = data.replace('', float('nan')).dropna()\n",
    "data = data.replace(' ', float('nan'))\n",
    "data = data.dropna(subset=['wetb', 'vappr', 'rhum', 'vis'])\n",
    "X = data.drop(columns=['rain','date'])\n",
    "y = data['rain']\n",
    "print(data.isna().sum())\n",
    "\n",
    "# Ensure all data is numeric\n",
    "X = X.astype(float)\n",
    "\n",
    "# Split into training and testing sets\n",
    "X_train, X_test, y_train, y_test = train_test_split(X, y, test_size=0.2, random_state=42)\n",
    "\n",
    "# Reshape y to (num_samples, 1) for regression\n",
    "y_train = y_train.values.reshape(-1, 1)\n",
    "y_test = y_test.values.reshape(-1, 1)\n",
    "\n",
    "# Define the model\n",
    "inputs = Input(shape=(X_train.shape[1],))\n",
    "x = layers.Dense(64, activation='relu', name='e1')(inputs)\n",
    "x_edge = layers.Dense(32, activation='relu', name='e2')(x)\n",
    "edge_outputs = layers.Dense(1, activation='linear', name='edge_output')(x_edge)\n",
    "x = layers.Dense(64, activation='relu', name='controlmodel')(x_edge)\n",
    "x = layers.Dense(128, activation='relu', name='l1')(x)\n",
    "x = layers.Dense(256, activation='relu', name='l2')(x)\n",
    "x = layers.Dense(128, activation='relu', name='l3')(x)\n",
    "x = layers.Dense(64, activation='relu', name='l4')(x)\n",
    "control_outputs = layers.Dense(1, activation='linear', name='control_output')(x)\n",
    "\n",
    "# Create and compile the combined model\n",
    "combined_model = Model(inputs=inputs, outputs=[edge_outputs, control_outputs])\n",
    "combined_model.compile(optimizer='adam',\n",
    "                       loss={'edge_output': 'mean_squared_error',\n",
    "                             'control_output': 'mean_squared_error'},\n",
    "                       metrics={'edge_output': 'mae',\n",
    "                                'control_output': 'mae'})\n",
    "\n",
    "# Train the combined model\n",
    "combined_model.fit(X_train, [y_train, y_train], \n",
    "                   epochs=20, batch_size=32, \n",
    "                   validation_data=(X_test, [y_test, y_test]))\n",
    "\n",
    "# Define the edge_model\n",
    "edge_model = Model(inputs=inputs, outputs=[combined_model.get_layer('e2').output, edge_outputs])\n",
    "\n",
    "# x§This needs training \n",
    "# Set last as untrainable, then train last ones, this is not needed for contorl model becasue its last output is trained when entire model \n",
    "# gets trained\n",
    "for layer in edge_model.layers:\n",
    "    layer.trainable = False\n",
    "\n",
    "edge_model.get_layer('edge_output').trainable = True\n",
    "\n",
    "edge_model.compile(optimizer='adam',\n",
    "                   loss={'e2': None, 'edge_output': 'mean_squared_error'},  # Ignore loss for 'e2', we only care about the output of the inference\n",
    "                   metrics={'edge_output': 'mae'})\n",
    "\n",
    "history = edge_model.fit(X_train, [y_train, y_train], \n",
    "               epochs=10, batch_size=32, \n",
    "               validation_data=(X_test, [y_test, y_test]))\n",
    "\n",
    "# Define the control_model\n",
    "control_model_input = Input(shape=(32,))  # Shape of the intermediate layer output\n",
    "z = combined_model.get_layer('controlmodel')(control_model_input)\n",
    "z = combined_model.get_layer('l1')(z)\n",
    "z = combined_model.get_layer('l2')(z)\n",
    "z = combined_model.get_layer('l3')(z)\n",
    "z = combined_model.get_layer('l4')(z)\n",
    "control_model_outputs = combined_model.get_layer('control_output')(z)\n",
    "control_model = Model(inputs=control_model_input, outputs=control_model_outputs)\n",
    "\n",
    "# Inspect the models\n",
    "edge_model.summary()\n",
    "control_model.summary()\n"
   ]
  },
  {
   "cell_type": "code",
   "execution_count": 15,
   "metadata": {},
   "outputs": [
    {
     "name": "stdout",
     "output_type": "stream",
     "text": [
      "\u001b[1m796/796\u001b[0m \u001b[32m━━━━━━━━━━━━━━━━━━━━\u001b[0m\u001b[37m\u001b[0m \u001b[1m0s\u001b[0m 479us/step - control_output_loss: 0.2200 - control_output_mae: 0.1751 - edge_output_loss: 3.1340 - edge_output_mae: 1.5192 - loss: 3.3541\n",
      "Test Loss: 3.3811850547790527\n",
      "Edge Output - MAE: 3.1479437351226807\n",
      "Edge Output - MSE - How much its off by on average: 0.2329651266336441\n",
      "Control Output - MAE: 0.1760137677192688\n",
      "Control Output - MSE: 1.51903235912323\n"
     ]
    }
   ],
   "source": [
    "\n",
    "results = combined_model.evaluate(X_test, [y_test, y_test])\n",
    "print(\"Test Loss:\", results[0])\n",
    "print(\"Edge Output - MAE:\", results[1])\n",
    "print(\"Edge Output - MSE - How much its off by on average:\", results[2])\n",
    "print(\"Control Output - MAE:\", results[3])\n",
    "print(\"Control Output - MSE:\", results[4])"
   ]
  },
  {
   "cell_type": "code",
   "execution_count": 21,
   "metadata": {},
   "outputs": [
    {
     "name": "stdout",
     "output_type": "stream",
     "text": [
      "INFO:tensorflow:Assets written to: expt/assets\n"
     ]
    },
    {
     "name": "stderr",
     "output_type": "stream",
     "text": [
      "INFO:tensorflow:Assets written to: expt/assets\n"
     ]
    },
    {
     "name": "stdout",
     "output_type": "stream",
     "text": [
      "Saved artifact at 'expt'. The following endpoints are available:\n",
      "\n",
      "* Endpoint 'serve'\n",
      "  args_0 (POSITIONAL_ONLY): TensorSpec(shape=(None, 19), dtype=tf.float32, name='keras_tensor_54')\n",
      "Output Type:\n",
      "  List[TensorSpec(shape=(None, 32), dtype=tf.float32, name=None), TensorSpec(shape=(None, 1), dtype=tf.float32, name=None)]\n",
      "Captures:\n",
      "  4531610320: TensorSpec(shape=(), dtype=tf.resource, name=None)\n",
      "  4531613584: TensorSpec(shape=(), dtype=tf.resource, name=None)\n",
      "  4531617424: TensorSpec(shape=(), dtype=tf.resource, name=None)\n",
      "  4531613392: TensorSpec(shape=(), dtype=tf.resource, name=None)\n",
      "  4531616272: TensorSpec(shape=(), dtype=tf.resource, name=None)\n",
      "  4531615888: TensorSpec(shape=(), dtype=tf.resource, name=None)\n"
     ]
    },
    {
     "name": "stderr",
     "output_type": "stream",
     "text": [
      "W0000 00:00:1741185165.733189   73505 tf_tfl_flatbuffer_helpers.cc:365] Ignored output_format.\n",
      "W0000 00:00:1741185165.735712   73505 tf_tfl_flatbuffer_helpers.cc:368] Ignored drop_control_dependency.\n",
      "2025-03-05 14:32:45.738432: I tensorflow/cc/saved_model/reader.cc:83] Reading SavedModel from: ./expt\n",
      "2025-03-05 14:32:45.738945: I tensorflow/cc/saved_model/reader.cc:52] Reading meta graph with tags { serve }\n",
      "2025-03-05 14:32:45.738952: I tensorflow/cc/saved_model/reader.cc:147] Reading SavedModel debug info (if present) from: ./expt\n",
      "2025-03-05 14:32:45.749383: I tensorflow/cc/saved_model/loader.cc:236] Restoring SavedModel bundle.\n",
      "2025-03-05 14:32:45.825329: I tensorflow/cc/saved_model/loader.cc:220] Running initialization op on SavedModel bundle at path: ./expt\n",
      "2025-03-05 14:32:45.830744: I tensorflow/cc/saved_model/loader.cc:466] SavedModel load for tags { serve }; Status: success: OK. Took 92315 microseconds.\n"
     ]
    }
   ],
   "source": [
    "\n",
    "edge_model.export(\"expt\")\n",
    "converter = tf.lite.TFLiteConverter.from_saved_model('./expt')\n",
    "tflite_model = converter.convert()\n",
    "with open('../deployment/models/edge_model.tflite', 'wb') as f:\n",
    "  f.write(tflite_model)\n",
    "\n",
    "edge_model.save('../deployment/models/edge_model.keras')\n",
    "    \n",
    "control_model.save('../deployment/models/control_model.keras')\n"
   ]
  },
  {
   "cell_type": "code",
   "execution_count": 24,
   "metadata": {},
   "outputs": [
    {
     "name": "stdout",
     "output_type": "stream",
     "text": [
      "Training Loss: [0.28839436173439026, 0.2710084021091461, 0.27692022919654846, 0.2741170823574066, 0.28040051460266113, 0.28103864192962646, 0.284660667181015, 0.2706926465034485, 0.2759763300418854, 0.28502851724624634]\n",
      "Validation Loss: [0.21689669787883759, 0.5002687573432922, 0.2974936366081238, 0.4211593270301819, 1.8763623237609863, 1.7760847806930542, 0.32529234886169434, 0.3460192382335663, 1.0404915809631348, 0.2263903170824051]\n",
      "\u001b[1m1/1\u001b[0m \u001b[32m━━━━━━━━━━━━━━━━━━━━\u001b[0m\u001b[37m\u001b[0m \u001b[1m0s\u001b[0m 52ms/step\n",
      "Edge Output: [0.2518861]\n",
      "Control Output: [0.14281805]\n"
     ]
    }
   ],
   "source": [
    "# Check combined model's training loss and validation loss\n",
    "training_loss = history.history['loss']\n",
    "validation_loss = history.history['val_loss']\n",
    "\n",
    "print(\"Training Loss:\", training_loss)\n",
    "print(\"Validation Loss:\", validation_loss)\n",
    "\n",
    "raw = [2, 0, 13.4, 0, 13.4, 13.4, 15.4, 100, 1022.1, 2, 8, 2, 220, 50, 64, 0.0, 4000, 3, 8]\n",
    "datapoint = np.array([raw], dtype=np.float32)\n",
    "\n",
    "# Predict using the combined model\n",
    "output_data = combined_model.predict(datapoint)\n",
    "\n",
    "# output_data will be a list of two arrays, one for each output (edge_output, control_output)\n",
    "edge_output = output_data[0][0]  # First output: edge_output (this is the first array in the list)\n",
    "control_output = output_data[1][0]  # Second output: control_output (this is the second array in the list)\n",
    "\n",
    "print(\"Edge Output:\", edge_output)  # This should give you the edge prediction\n",
    "print(\"Control Output:\", control_output)  # This should give you the control prediction\n"
   ]
  },
  {
   "cell_type": "markdown",
   "metadata": {
    "id": "p4QVah7jpikD"
   },
   "source": [
    "# On the AI Edge Server"
   ]
  },
  {
   "cell_type": "code",
   "execution_count": 8,
   "metadata": {
    "colab": {
     "base_uri": "https://localhost:8080/"
    },
    "id": "w8KUIFLQqDdn",
    "outputId": "89dbe9c1-4d7b-4fd8-cdf3-d21cc5437056"
   },
   "outputs": [
    {
     "name": "stderr",
     "output_type": "stream",
     "text": [
      "INFO: Created TensorFlow Lite XNNPACK delegate for CPU.\n"
     ]
    },
    {
     "data": {
      "text/plain": [
       "array([   0.      ,    0.      , 1736.833   ,    0.      ,    0.      ,\n",
       "        122.79834 ,    0.      ,    0.      ,    0.      ,  498.57092 ,\n",
       "        308.47418 ,    0.      ,    0.      ,    0.      , 2261.8982  ,\n",
       "       1048.9276  ,    0.      ,    0.      ,  886.5067  ,    0.      ,\n",
       "          0.      , 1980.9333  ,  846.6481  ,    0.      , 1223.5721  ,\n",
       "          0.      ,   91.276794, 1690.1853  , 1646.5259  ,  399.7732  ,\n",
       "          0.      ,  788.00134 ], dtype=float32)"
      ]
     },
     "execution_count": 8,
     "metadata": {},
     "output_type": "execute_result"
    }
   ],
   "source": [
    "from ai_edge_litert.interpreter import Interpreter\n",
    "interpreter = Interpreter(model_path='../deployment/models/edge_model.tflite')\n",
    "signatures = interpreter.get_signature_list()\n",
    "interpreter.allocate_tensors()\n",
    "\n",
    "# FEED IN THE INPUT DATA\n",
    "input_details = interpreter.get_input_details()\n",
    "input_data = np.array([[0,0,8.7,0,8.6,8.5,11.1,99,1003.1,2,12,2,350,61,66,0.0,15000,45,8]], dtype=np.float32)\n",
    "# Set input tensor\n",
    "input_index = input_details[0]['index']\n",
    "interpreter.set_tensor(input_index, input_data)\n",
    "# GET THE OUTPUT DATA\n",
    "interpreter.invoke()\n",
    "output_details = interpreter.get_output_details()\n",
    "rain_data = interpreter.get_tensor(output_details[0]['index'])\n",
    "node_data = interpreter.get_tensor(output_details[1]['index'])\n",
    "node_data = node_data[0] # Send this to control\n",
    "prob_rain = rain_data[0]\n",
    "\n",
    "\n",
    "# Determine if it's raining\n",
    "RAIN_THRESHOLD = 0.5\n",
    "prob_rain\n",
    "node_data"
   ]
  },
  {
   "cell_type": "markdown",
   "metadata": {},
   "source": [
    "# Control Model\n",
    "## On control model"
   ]
  },
  {
   "cell_type": "code",
   "execution_count": 78,
   "metadata": {},
   "outputs": [
    {
     "name": "stdout",
     "output_type": "stream",
     "text": [
      "\u001b[1m1/1\u001b[0m \u001b[32m━━━━━━━━━━━━━━━━━━━━\u001b[0m\u001b[37m\u001b[0m \u001b[1m0s\u001b[0m 111ms/step\n",
      "Control predictions: [[-0.01699629]]\n",
      "Training Model\n",
      "Epoch 1, Loss: 0.17388591170310974\n",
      "Epoch 2, Loss: 0.12094246596097946\n",
      "Epoch 3, Loss: 0.012411841191351414\n",
      "Epoch 4, Loss: 0.011553991585969925\n",
      "Epoch 5, Loss: 0.010628522373735905\n"
     ]
    }
   ],
   "source": [
    "import numpy as np\n",
    "import tensorflow as tf\n",
    "control_model = tf.keras.models.load_model('../deployment/models/control_model.keras')\n",
    "\n",
    "## Vars that need to be defined for the function \n",
    "# Recieve node_data, data_result\n",
    "BATCH_SIZE = 1 \n",
    "X_data = []  \n",
    "Y_data = []  \n",
    "data_result = 0.4\n",
    "data_result = np.array([data_result])\n",
    "\n",
    "edge_model_result = node_data\n",
    "edge_model_result = np.reshape(edge_model_result, (-1, 32)) \n",
    "\n",
    "control_predictions = control_model.predict(edge_model_result)\n",
    "print(\"Control predictions:\", control_predictions)\n",
    "\n",
    "# IF data result exists, add it and intermediate layer to batches\n",
    "if data_result.size > 0: \n",
    "    # Add data_result to Y and beginning nodes to X\n",
    "    X_data.append(edge_model_result) \n",
    "    Y_data.append(data_result) \n",
    "    if len(X_data) >= BATCH_SIZE:\n",
    "        numpy_X_data = np.vstack(X_data)\n",
    "        numpy_Y_data = np.vstack(Y_data)  \n",
    "\n",
    "        # Clear lists for the next batch\n",
    "        X_data.clear()\n",
    "        Y_data.clear()\n",
    "        \n",
    "        dataset = tf.data.Dataset.from_tensor_slices((numpy_X_data, numpy_Y_data))\n",
    "        dataset = dataset.batch(BATCH_SIZE)\n",
    "        # Compile and train the control_model\n",
    "        control_model.compile(optimizer='adam',\n",
    "                              loss='mean_squared_error',\n",
    "                              metrics=['mae'])\n",
    "        \n",
    "        print(\"Training Model\")\n",
    "        # Below is how models are usually trained, we need to step down from the high level api of fit() and get slightly lower down in\n",
    "        # tensorflow mush\n",
    "        # history = control_model.fit(numpy_X_data, numpy_Y_data,\n",
    "        #                             epochs=1, batch_size=BATCH_SIZE)\n",
    "        optimizer = tf.keras.optimizers.Adam(learning_rate=0.001)\n",
    "\n",
    "        for epoch in range(5):\n",
    "            with tf.GradientTape() as tape: # This will track computations performed on tensors inside the block \n",
    "                for batch_X, batch_Y in dataset:\n",
    "                    predictions = control_model(batch_X, training=True) # This is the forward pass \n",
    "                    loss = tf.keras.losses.MeanSquaredError()(batch_Y, predictions)\n",
    "                gradients = tape.gradient(loss, control_model.trainable_variables) # gradients get calculated via calling tape.gradient \n",
    "                optimizer.apply_gradients(zip(gradients, control_model.trainable_variables))\n",
    "            print(f\"Epoch {epoch+1}, Loss: {loss.numpy()}\")"
   ]
  },
  {
   "cell_type": "code",
   "execution_count": 7,
   "metadata": {},
   "outputs": [
    {
     "name": "stdout",
     "output_type": "stream",
     "text": [
      "Name: tensorflow\n",
      "Version: 2.18.0\n",
      "Summary: TensorFlow is an open source machine learning framework for everyone.\n",
      "Home-page: https://www.tensorflow.org/\n",
      "Author: Google Inc.\n",
      "Author-email: packages@tensorflow.org\n",
      "License: Apache 2.0\n",
      "Location: /opt/anaconda3/lib/python3.12/site-packages\n",
      "Requires: absl-py, astunparse, flatbuffers, gast, google-pasta, grpcio, h5py, keras, libclang, ml-dtypes, numpy, opt-einsum, packaging, protobuf, requests, setuptools, six, tensorboard, termcolor, typing-extensions, wrapt\n",
      "Required-by: \n"
     ]
    }
   ],
   "source": [
    "!pip show tensorflow"
   ]
  },
  {
   "cell_type": "markdown",
   "metadata": {},
   "source": [
    "## Split Learning on Edge"
   ]
  },
  {
   "cell_type": "code",
   "execution_count": 107,
   "metadata": {
    "scrolled": true
   },
   "outputs": [
    {
     "data": {
      "text/plain": [
       "<Variable path=adam/iteration, shape=(), dtype=int64, value=1>"
      ]
     },
     "execution_count": 107,
     "metadata": {},
     "output_type": "execute_result"
    }
   ],
   "source": [
    "# Load edge model\n",
    "edge_learning_model = tf.keras.models.load_model(\"../deployment/models/edge_model.keras\")\n",
    "\n",
    "# Reinitialize the optimizer\n",
    "optimizer = tf.keras.optimizers.Adam()\n",
    "edge_learning_model.compile(optimizer=optimizer, loss='mean_squared_error', metrics=['mae'])\n",
    "\n",
    "for layer in edge_learning_model.layers:\n",
    "    layer.trainable=True\n",
    "edge_learning_model.get_layer(\"edge_output\").trainable = False\n",
    "# Apply the received gradients\n",
    "grad_updates = [(gradients[10], edge_learning_model.trainable_variables[-2])]\n",
    "optimizer.apply_gradients(grad_updates)"
   ]
  },
  {
   "cell_type": "code",
   "execution_count": 106,
   "metadata": {},
   "outputs": [
    {
     "data": {
      "text/html": [
       "<pre style=\"white-space:pre;overflow-x:auto;line-height:normal;font-family:Menlo,'DejaVu Sans Mono',consolas,'Courier New',monospace\"><span style=\"font-weight: bold\">Model: \"functional_11\"</span>\n",
       "</pre>\n"
      ],
      "text/plain": [
       "\u001b[1mModel: \"functional_11\"\u001b[0m\n"
      ]
     },
     "metadata": {},
     "output_type": "display_data"
    },
    {
     "data": {
      "text/html": [
       "<pre style=\"white-space:pre;overflow-x:auto;line-height:normal;font-family:Menlo,'DejaVu Sans Mono',consolas,'Courier New',monospace\">┏━━━━━━━━━━━━━━━━━━━━━━━━━━━━━━━━━┳━━━━━━━━━━━━━━━━━━━━━━━━┳━━━━━━━━━━━━━━━┓\n",
       "┃<span style=\"font-weight: bold\"> Layer (type)                    </span>┃<span style=\"font-weight: bold\"> Output Shape           </span>┃<span style=\"font-weight: bold\">       Param # </span>┃\n",
       "┡━━━━━━━━━━━━━━━━━━━━━━━━━━━━━━━━━╇━━━━━━━━━━━━━━━━━━━━━━━━╇━━━━━━━━━━━━━━━┩\n",
       "│ input_layer_7 (<span style=\"color: #0087ff; text-decoration-color: #0087ff\">InputLayer</span>)      │ (<span style=\"color: #00d7ff; text-decoration-color: #00d7ff\">None</span>, <span style=\"color: #00af00; text-decoration-color: #00af00\">32</span>)             │             <span style=\"color: #00af00; text-decoration-color: #00af00\">0</span> │\n",
       "├─────────────────────────────────┼────────────────────────┼───────────────┤\n",
       "│ controlmodel (<span style=\"color: #0087ff; text-decoration-color: #0087ff\">Dense</span>)            │ (<span style=\"color: #00d7ff; text-decoration-color: #00d7ff\">None</span>, <span style=\"color: #00af00; text-decoration-color: #00af00\">64</span>)             │         <span style=\"color: #00af00; text-decoration-color: #00af00\">2,112</span> │\n",
       "├─────────────────────────────────┼────────────────────────┼───────────────┤\n",
       "│ l1 (<span style=\"color: #0087ff; text-decoration-color: #0087ff\">Dense</span>)                      │ (<span style=\"color: #00d7ff; text-decoration-color: #00d7ff\">None</span>, <span style=\"color: #00af00; text-decoration-color: #00af00\">128</span>)            │         <span style=\"color: #00af00; text-decoration-color: #00af00\">8,320</span> │\n",
       "├─────────────────────────────────┼────────────────────────┼───────────────┤\n",
       "│ l2 (<span style=\"color: #0087ff; text-decoration-color: #0087ff\">Dense</span>)                      │ (<span style=\"color: #00d7ff; text-decoration-color: #00d7ff\">None</span>, <span style=\"color: #00af00; text-decoration-color: #00af00\">256</span>)            │        <span style=\"color: #00af00; text-decoration-color: #00af00\">33,024</span> │\n",
       "├─────────────────────────────────┼────────────────────────┼───────────────┤\n",
       "│ l3 (<span style=\"color: #0087ff; text-decoration-color: #0087ff\">Dense</span>)                      │ (<span style=\"color: #00d7ff; text-decoration-color: #00d7ff\">None</span>, <span style=\"color: #00af00; text-decoration-color: #00af00\">128</span>)            │        <span style=\"color: #00af00; text-decoration-color: #00af00\">32,896</span> │\n",
       "├─────────────────────────────────┼────────────────────────┼───────────────┤\n",
       "│ l4 (<span style=\"color: #0087ff; text-decoration-color: #0087ff\">Dense</span>)                      │ (<span style=\"color: #00d7ff; text-decoration-color: #00d7ff\">None</span>, <span style=\"color: #00af00; text-decoration-color: #00af00\">64</span>)             │         <span style=\"color: #00af00; text-decoration-color: #00af00\">8,256</span> │\n",
       "├─────────────────────────────────┼────────────────────────┼───────────────┤\n",
       "│ control_output (<span style=\"color: #0087ff; text-decoration-color: #0087ff\">Dense</span>)          │ (<span style=\"color: #00d7ff; text-decoration-color: #00d7ff\">None</span>, <span style=\"color: #00af00; text-decoration-color: #00af00\">1</span>)              │            <span style=\"color: #00af00; text-decoration-color: #00af00\">65</span> │\n",
       "└─────────────────────────────────┴────────────────────────┴───────────────┘\n",
       "</pre>\n"
      ],
      "text/plain": [
       "┏━━━━━━━━━━━━━━━━━━━━━━━━━━━━━━━━━┳━━━━━━━━━━━━━━━━━━━━━━━━┳━━━━━━━━━━━━━━━┓\n",
       "┃\u001b[1m \u001b[0m\u001b[1mLayer (type)                   \u001b[0m\u001b[1m \u001b[0m┃\u001b[1m \u001b[0m\u001b[1mOutput Shape          \u001b[0m\u001b[1m \u001b[0m┃\u001b[1m \u001b[0m\u001b[1m      Param #\u001b[0m\u001b[1m \u001b[0m┃\n",
       "┡━━━━━━━━━━━━━━━━━━━━━━━━━━━━━━━━━╇━━━━━━━━━━━━━━━━━━━━━━━━╇━━━━━━━━━━━━━━━┩\n",
       "│ input_layer_7 (\u001b[38;5;33mInputLayer\u001b[0m)      │ (\u001b[38;5;45mNone\u001b[0m, \u001b[38;5;34m32\u001b[0m)             │             \u001b[38;5;34m0\u001b[0m │\n",
       "├─────────────────────────────────┼────────────────────────┼───────────────┤\n",
       "│ controlmodel (\u001b[38;5;33mDense\u001b[0m)            │ (\u001b[38;5;45mNone\u001b[0m, \u001b[38;5;34m64\u001b[0m)             │         \u001b[38;5;34m2,112\u001b[0m │\n",
       "├─────────────────────────────────┼────────────────────────┼───────────────┤\n",
       "│ l1 (\u001b[38;5;33mDense\u001b[0m)                      │ (\u001b[38;5;45mNone\u001b[0m, \u001b[38;5;34m128\u001b[0m)            │         \u001b[38;5;34m8,320\u001b[0m │\n",
       "├─────────────────────────────────┼────────────────────────┼───────────────┤\n",
       "│ l2 (\u001b[38;5;33mDense\u001b[0m)                      │ (\u001b[38;5;45mNone\u001b[0m, \u001b[38;5;34m256\u001b[0m)            │        \u001b[38;5;34m33,024\u001b[0m │\n",
       "├─────────────────────────────────┼────────────────────────┼───────────────┤\n",
       "│ l3 (\u001b[38;5;33mDense\u001b[0m)                      │ (\u001b[38;5;45mNone\u001b[0m, \u001b[38;5;34m128\u001b[0m)            │        \u001b[38;5;34m32,896\u001b[0m │\n",
       "├─────────────────────────────────┼────────────────────────┼───────────────┤\n",
       "│ l4 (\u001b[38;5;33mDense\u001b[0m)                      │ (\u001b[38;5;45mNone\u001b[0m, \u001b[38;5;34m64\u001b[0m)             │         \u001b[38;5;34m8,256\u001b[0m │\n",
       "├─────────────────────────────────┼────────────────────────┼───────────────┤\n",
       "│ control_output (\u001b[38;5;33mDense\u001b[0m)          │ (\u001b[38;5;45mNone\u001b[0m, \u001b[38;5;34m1\u001b[0m)              │            \u001b[38;5;34m65\u001b[0m │\n",
       "└─────────────────────────────────┴────────────────────────┴───────────────┘\n"
      ]
     },
     "metadata": {},
     "output_type": "display_data"
    },
    {
     "data": {
      "text/html": [
       "<pre style=\"white-space:pre;overflow-x:auto;line-height:normal;font-family:Menlo,'DejaVu Sans Mono',consolas,'Courier New',monospace\"><span style=\"font-weight: bold\"> Total params: </span><span style=\"color: #00af00; text-decoration-color: #00af00\">84,673</span> (330.75 KB)\n",
       "</pre>\n"
      ],
      "text/plain": [
       "\u001b[1m Total params: \u001b[0m\u001b[38;5;34m84,673\u001b[0m (330.75 KB)\n"
      ]
     },
     "metadata": {},
     "output_type": "display_data"
    },
    {
     "data": {
      "text/html": [
       "<pre style=\"white-space:pre;overflow-x:auto;line-height:normal;font-family:Menlo,'DejaVu Sans Mono',consolas,'Courier New',monospace\"><span style=\"font-weight: bold\"> Trainable params: </span><span style=\"color: #00af00; text-decoration-color: #00af00\">84,673</span> (330.75 KB)\n",
       "</pre>\n"
      ],
      "text/plain": [
       "\u001b[1m Trainable params: \u001b[0m\u001b[38;5;34m84,673\u001b[0m (330.75 KB)\n"
      ]
     },
     "metadata": {},
     "output_type": "display_data"
    },
    {
     "data": {
      "text/html": [
       "<pre style=\"white-space:pre;overflow-x:auto;line-height:normal;font-family:Menlo,'DejaVu Sans Mono',consolas,'Courier New',monospace\"><span style=\"font-weight: bold\"> Non-trainable params: </span><span style=\"color: #00af00; text-decoration-color: #00af00\">0</span> (0.00 B)\n",
       "</pre>\n"
      ],
      "text/plain": [
       "\u001b[1m Non-trainable params: \u001b[0m\u001b[38;5;34m0\u001b[0m (0.00 B)\n"
      ]
     },
     "metadata": {},
     "output_type": "display_data"
    },
    {
     "data": {
      "text/html": [
       "<pre style=\"white-space:pre;overflow-x:auto;line-height:normal;font-family:Menlo,'DejaVu Sans Mono',consolas,'Courier New',monospace\"><span style=\"font-weight: bold\">Model: \"functional_10\"</span>\n",
       "</pre>\n"
      ],
      "text/plain": [
       "\u001b[1mModel: \"functional_10\"\u001b[0m\n"
      ]
     },
     "metadata": {},
     "output_type": "display_data"
    },
    {
     "data": {
      "text/html": [
       "<pre style=\"white-space:pre;overflow-x:auto;line-height:normal;font-family:Menlo,'DejaVu Sans Mono',consolas,'Courier New',monospace\">┏━━━━━━━━━━━━━━━━━━━━━━━━━━━━━━━━━┳━━━━━━━━━━━━━━━━━━━━━━━━┳━━━━━━━━━━━━━━━┓\n",
       "┃<span style=\"font-weight: bold\"> Layer (type)                    </span>┃<span style=\"font-weight: bold\"> Output Shape           </span>┃<span style=\"font-weight: bold\">       Param # </span>┃\n",
       "┡━━━━━━━━━━━━━━━━━━━━━━━━━━━━━━━━━╇━━━━━━━━━━━━━━━━━━━━━━━━╇━━━━━━━━━━━━━━━┩\n",
       "│ input_layer_6 (<span style=\"color: #0087ff; text-decoration-color: #0087ff\">InputLayer</span>)      │ (<span style=\"color: #00d7ff; text-decoration-color: #00d7ff\">None</span>, <span style=\"color: #00af00; text-decoration-color: #00af00\">19</span>)             │             <span style=\"color: #00af00; text-decoration-color: #00af00\">0</span> │\n",
       "├─────────────────────────────────┼────────────────────────┼───────────────┤\n",
       "│ e1 (<span style=\"color: #0087ff; text-decoration-color: #0087ff\">Dense</span>)                      │ (<span style=\"color: #00d7ff; text-decoration-color: #00d7ff\">None</span>, <span style=\"color: #00af00; text-decoration-color: #00af00\">64</span>)             │         <span style=\"color: #00af00; text-decoration-color: #00af00\">1,280</span> │\n",
       "├─────────────────────────────────┼────────────────────────┼───────────────┤\n",
       "│ e2 (<span style=\"color: #0087ff; text-decoration-color: #0087ff\">Dense</span>)                      │ (<span style=\"color: #00d7ff; text-decoration-color: #00d7ff\">None</span>, <span style=\"color: #00af00; text-decoration-color: #00af00\">32</span>)             │         <span style=\"color: #00af00; text-decoration-color: #00af00\">2,080</span> │\n",
       "├─────────────────────────────────┼────────────────────────┼───────────────┤\n",
       "│ edge_output (<span style=\"color: #0087ff; text-decoration-color: #0087ff\">Dense</span>)             │ (<span style=\"color: #00d7ff; text-decoration-color: #00d7ff\">None</span>, <span style=\"color: #00af00; text-decoration-color: #00af00\">1</span>)              │            <span style=\"color: #00af00; text-decoration-color: #00af00\">33</span> │\n",
       "└─────────────────────────────────┴────────────────────────┴───────────────┘\n",
       "</pre>\n"
      ],
      "text/plain": [
       "┏━━━━━━━━━━━━━━━━━━━━━━━━━━━━━━━━━┳━━━━━━━━━━━━━━━━━━━━━━━━┳━━━━━━━━━━━━━━━┓\n",
       "┃\u001b[1m \u001b[0m\u001b[1mLayer (type)                   \u001b[0m\u001b[1m \u001b[0m┃\u001b[1m \u001b[0m\u001b[1mOutput Shape          \u001b[0m\u001b[1m \u001b[0m┃\u001b[1m \u001b[0m\u001b[1m      Param #\u001b[0m\u001b[1m \u001b[0m┃\n",
       "┡━━━━━━━━━━━━━━━━━━━━━━━━━━━━━━━━━╇━━━━━━━━━━━━━━━━━━━━━━━━╇━━━━━━━━━━━━━━━┩\n",
       "│ input_layer_6 (\u001b[38;5;33mInputLayer\u001b[0m)      │ (\u001b[38;5;45mNone\u001b[0m, \u001b[38;5;34m19\u001b[0m)             │             \u001b[38;5;34m0\u001b[0m │\n",
       "├─────────────────────────────────┼────────────────────────┼───────────────┤\n",
       "│ e1 (\u001b[38;5;33mDense\u001b[0m)                      │ (\u001b[38;5;45mNone\u001b[0m, \u001b[38;5;34m64\u001b[0m)             │         \u001b[38;5;34m1,280\u001b[0m │\n",
       "├─────────────────────────────────┼────────────────────────┼───────────────┤\n",
       "│ e2 (\u001b[38;5;33mDense\u001b[0m)                      │ (\u001b[38;5;45mNone\u001b[0m, \u001b[38;5;34m32\u001b[0m)             │         \u001b[38;5;34m2,080\u001b[0m │\n",
       "├─────────────────────────────────┼────────────────────────┼───────────────┤\n",
       "│ edge_output (\u001b[38;5;33mDense\u001b[0m)             │ (\u001b[38;5;45mNone\u001b[0m, \u001b[38;5;34m1\u001b[0m)              │            \u001b[38;5;34m33\u001b[0m │\n",
       "└─────────────────────────────────┴────────────────────────┴───────────────┘\n"
      ]
     },
     "metadata": {},
     "output_type": "display_data"
    },
    {
     "data": {
      "text/html": [
       "<pre style=\"white-space:pre;overflow-x:auto;line-height:normal;font-family:Menlo,'DejaVu Sans Mono',consolas,'Courier New',monospace\"><span style=\"font-weight: bold\"> Total params: </span><span style=\"color: #00af00; text-decoration-color: #00af00\">3,461</span> (13.52 KB)\n",
       "</pre>\n"
      ],
      "text/plain": [
       "\u001b[1m Total params: \u001b[0m\u001b[38;5;34m3,461\u001b[0m (13.52 KB)\n"
      ]
     },
     "metadata": {},
     "output_type": "display_data"
    },
    {
     "data": {
      "text/html": [
       "<pre style=\"white-space:pre;overflow-x:auto;line-height:normal;font-family:Menlo,'DejaVu Sans Mono',consolas,'Courier New',monospace\"><span style=\"font-weight: bold\"> Trainable params: </span><span style=\"color: #00af00; text-decoration-color: #00af00\">33</span> (132.00 B)\n",
       "</pre>\n"
      ],
      "text/plain": [
       "\u001b[1m Trainable params: \u001b[0m\u001b[38;5;34m33\u001b[0m (132.00 B)\n"
      ]
     },
     "metadata": {},
     "output_type": "display_data"
    },
    {
     "data": {
      "text/html": [
       "<pre style=\"white-space:pre;overflow-x:auto;line-height:normal;font-family:Menlo,'DejaVu Sans Mono',consolas,'Courier New',monospace\"><span style=\"font-weight: bold\"> Non-trainable params: </span><span style=\"color: #00af00; text-decoration-color: #00af00\">3,360</span> (13.12 KB)\n",
       "</pre>\n"
      ],
      "text/plain": [
       "\u001b[1m Non-trainable params: \u001b[0m\u001b[38;5;34m3,360\u001b[0m (13.12 KB)\n"
      ]
     },
     "metadata": {},
     "output_type": "display_data"
    },
    {
     "data": {
      "text/html": [
       "<pre style=\"white-space:pre;overflow-x:auto;line-height:normal;font-family:Menlo,'DejaVu Sans Mono',consolas,'Courier New',monospace\"><span style=\"font-weight: bold\"> Optimizer params: </span><span style=\"color: #00af00; text-decoration-color: #00af00\">68</span> (276.00 B)\n",
       "</pre>\n"
      ],
      "text/plain": [
       "\u001b[1m Optimizer params: \u001b[0m\u001b[38;5;34m68\u001b[0m (276.00 B)\n"
      ]
     },
     "metadata": {},
     "output_type": "display_data"
    }
   ],
   "source": [
    "control_model.summary()\n",
    "edge_model.summary()"
   ]
  }
 ],
 "metadata": {
  "colab": {
   "provenance": []
  },
  "kernelspec": {
   "display_name": "Python 3 (ipykernel)",
   "language": "python",
   "name": "python3"
  },
  "language_info": {
   "codemirror_mode": {
    "name": "ipython",
    "version": 3
   },
   "file_extension": ".py",
   "mimetype": "text/x-python",
   "name": "python",
   "nbconvert_exporter": "python",
   "pygments_lexer": "ipython3",
   "version": "3.12.7"
  }
 },
 "nbformat": 4,
 "nbformat_minor": 4
}
