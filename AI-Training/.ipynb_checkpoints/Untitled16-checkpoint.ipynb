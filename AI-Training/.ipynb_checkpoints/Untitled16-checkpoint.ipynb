{
 "cells": [
  {
   "cell_type": "code",
   "execution_count": 27,
   "metadata": {
    "id": "fpN0RiQAmNh_"
   },
   "outputs": [],
   "source": [
    "import tensorflow as tf\n",
    "from tensorflow.keras import layers\n"
   ]
  },
  {
   "cell_type": "code",
   "execution_count": 25,
   "metadata": {
    "id": "67GLBk7kmYdn"
   },
   "outputs": [],
   "source": [
    "import numpy as np\n",
    "import pandas as pd\n",
    "from sklearn.model_selection import train_test_split\n",
    "from sklearn.preprocessing import LabelEncoder"
   ]
  },
  {
   "cell_type": "code",
   "execution_count": 3,
   "metadata": {
    "id": "MFI85wyPmfjq"
   },
   "outputs": [],
   "source": [
    "x = np.array([np.random.normal() for _ in range(15)]).reshape(15,1)\n",
    "y = np.array([np.random.choice([0,1]) for _ in range(15)])"
   ]
  },
  {
   "cell_type": "code",
   "execution_count": 4,
   "metadata": {
    "colab": {
     "base_uri": "https://localhost:8080/"
    },
    "id": "EGQ3KoEsncyS",
    "outputId": "b56539fa-535d-4dd2-97fb-ee1bdd9c39ea"
   },
   "outputs": [
    {
     "data": {
      "text/plain": [
       "<tf.Tensor: shape=(15, 2), dtype=float32, numpy=\n",
       "array([[1., 0.],\n",
       "       [1., 0.],\n",
       "       [1., 0.],\n",
       "       [0., 1.],\n",
       "       [0., 1.],\n",
       "       [0., 1.],\n",
       "       [0., 1.],\n",
       "       [0., 1.],\n",
       "       [0., 1.],\n",
       "       [1., 0.],\n",
       "       [0., 1.],\n",
       "       [1., 0.],\n",
       "       [1., 0.],\n",
       "       [1., 0.],\n",
       "       [1., 0.]], dtype=float32)>"
      ]
     },
     "execution_count": 4,
     "metadata": {},
     "output_type": "execute_result"
    }
   ],
   "source": [
    "tf.one_hot(y,2)"
   ]
  },
  {
   "cell_type": "code",
   "execution_count": 5,
   "metadata": {
    "id": "163kU4Z7mP36"
   },
   "outputs": [],
   "source": [
    "model = tf.keras.models.Sequential()\n",
    "model.add(tf.keras.layers.Input(shape=(1,), name='inp_layer'))\n",
    "model.add(tf.keras.layers.Dense(units=1))\n",
    "model.add(tf.keras.layers.Dense(units=15))\n",
    "\n",
    "model.add(tf.keras.layers.Dense(units=2, activation='softmax'))"
   ]
  },
  {
   "cell_type": "code",
   "execution_count": 6,
   "metadata": {
    "id": "_NHZR7IXnEOp"
   },
   "outputs": [],
   "source": [
    "model.compile(optimizer='adam', loss='sparse_categorical_crossentropy', metrics=['accuracy'])"
   ]
  },
  {
   "cell_type": "code",
   "execution_count": 7,
   "metadata": {
    "colab": {
     "base_uri": "https://localhost:8080/"
    },
    "id": "mFvWQ08QnI__",
    "outputId": "d4ea41c1-6b5a-42ca-d71f-ba4945c85cbe"
   },
   "outputs": [
    {
     "name": "stdout",
     "output_type": "stream",
     "text": [
      "\u001b[1m1/1\u001b[0m \u001b[32m━━━━━━━━━━━━━━━━━━━━\u001b[0m\u001b[37m\u001b[0m \u001b[1m0s\u001b[0m 348ms/step - accuracy: 0.6667 - loss: 0.6873\n"
     ]
    },
    {
     "data": {
      "text/plain": [
       "<keras.src.callbacks.history.History at 0x1505d3a30>"
      ]
     },
     "execution_count": 7,
     "metadata": {},
     "output_type": "execute_result"
    }
   ],
   "source": [
    "model.fit(x, y, epochs=1)"
   ]
  },
  {
   "cell_type": "code",
   "execution_count": 34,
   "metadata": {},
   "outputs": [
    {
     "name": "stdout",
     "output_type": "stream",
     "text": [
      "Data shape: (127351, 21)\n",
      "Epoch 1/20\n",
      "\u001b[1m3184/3184\u001b[0m \u001b[32m━━━━━━━━━━━━━━━━━━━━\u001b[0m\u001b[37m\u001b[0m \u001b[1m4s\u001b[0m 945us/step - accuracy: 0.9070 - loss: 2.6205 - val_accuracy: 0.9311 - val_loss: 0.2081\n",
      "Epoch 2/20\n",
      "\u001b[1m3184/3184\u001b[0m \u001b[32m━━━━━━━━━━━━━━━━━━━━\u001b[0m\u001b[37m\u001b[0m \u001b[1m3s\u001b[0m 801us/step - accuracy: 0.9275 - loss: 0.2081 - val_accuracy: 0.9295 - val_loss: 0.2030\n",
      "Epoch 3/20\n",
      "\u001b[1m3184/3184\u001b[0m \u001b[32m━━━━━━━━━━━━━━━━━━━━\u001b[0m\u001b[37m\u001b[0m \u001b[1m5s\u001b[0m 710us/step - accuracy: 0.9306 - loss: 0.1610 - val_accuracy: 0.9345 - val_loss: 0.1241\n",
      "Epoch 4/20\n",
      "\u001b[1m3184/3184\u001b[0m \u001b[32m━━━━━━━━━━━━━━━━━━━━\u001b[0m\u001b[37m\u001b[0m \u001b[1m2s\u001b[0m 739us/step - accuracy: 0.9338 - loss: 0.1347 - val_accuracy: 0.9322 - val_loss: 0.1274\n",
      "Epoch 5/20\n",
      "\u001b[1m3184/3184\u001b[0m \u001b[32m━━━━━━━━━━━━━━━━━━━━\u001b[0m\u001b[37m\u001b[0m \u001b[1m2s\u001b[0m 723us/step - accuracy: 0.9394 - loss: 0.1196 - val_accuracy: 0.9457 - val_loss: 0.1101\n",
      "Epoch 6/20\n",
      "\u001b[1m3184/3184\u001b[0m \u001b[32m━━━━━━━━━━━━━━━━━━━━\u001b[0m\u001b[37m\u001b[0m \u001b[1m2s\u001b[0m 720us/step - accuracy: 0.9425 - loss: 0.1143 - val_accuracy: 0.9453 - val_loss: 0.1105\n",
      "Epoch 7/20\n",
      "\u001b[1m3184/3184\u001b[0m \u001b[32m━━━━━━━━━━━━━━━━━━━━\u001b[0m\u001b[37m\u001b[0m \u001b[1m2s\u001b[0m 632us/step - accuracy: 0.9426 - loss: 0.1144 - val_accuracy: 0.9431 - val_loss: 0.1154\n",
      "Epoch 8/20\n",
      "\u001b[1m3184/3184\u001b[0m \u001b[32m━━━━━━━━━━━━━━━━━━━━\u001b[0m\u001b[37m\u001b[0m \u001b[1m2s\u001b[0m 665us/step - accuracy: 0.9428 - loss: 0.1134 - val_accuracy: 0.9478 - val_loss: 0.1061\n",
      "Epoch 9/20\n",
      "\u001b[1m3184/3184\u001b[0m \u001b[32m━━━━━━━━━━━━━━━━━━━━\u001b[0m\u001b[37m\u001b[0m \u001b[1m3s\u001b[0m 1ms/step - accuracy: 0.9427 - loss: 0.1136 - val_accuracy: 0.9480 - val_loss: 0.1076\n",
      "Epoch 10/20\n",
      "\u001b[1m3184/3184\u001b[0m \u001b[32m━━━━━━━━━━━━━━━━━━━━\u001b[0m\u001b[37m\u001b[0m \u001b[1m2s\u001b[0m 757us/step - accuracy: 0.9442 - loss: 0.1110 - val_accuracy: 0.9391 - val_loss: 0.1107\n",
      "Epoch 11/20\n",
      "\u001b[1m3184/3184\u001b[0m \u001b[32m━━━━━━━━━━━━━━━━━━━━\u001b[0m\u001b[37m\u001b[0m \u001b[1m3s\u001b[0m 790us/step - accuracy: 0.9453 - loss: 0.1099 - val_accuracy: 0.9466 - val_loss: 0.1066\n",
      "Epoch 12/20\n",
      "\u001b[1m3184/3184\u001b[0m \u001b[32m━━━━━━━━━━━━━━━━━━━━\u001b[0m\u001b[37m\u001b[0m \u001b[1m2s\u001b[0m 649us/step - accuracy: 0.9447 - loss: 0.1104 - val_accuracy: 0.9456 - val_loss: 0.1082\n",
      "Epoch 13/20\n",
      "\u001b[1m3184/3184\u001b[0m \u001b[32m━━━━━━━━━━━━━━━━━━━━\u001b[0m\u001b[37m\u001b[0m \u001b[1m2s\u001b[0m 668us/step - accuracy: 0.9468 - loss: 0.1090 - val_accuracy: 0.9482 - val_loss: 0.1087\n",
      "Epoch 14/20\n",
      "\u001b[1m3184/3184\u001b[0m \u001b[32m━━━━━━━━━━━━━━━━━━━━\u001b[0m\u001b[37m\u001b[0m \u001b[1m2s\u001b[0m 758us/step - accuracy: 0.9473 - loss: 0.1075 - val_accuracy: 0.9463 - val_loss: 0.1086\n",
      "Epoch 15/20\n",
      "\u001b[1m3184/3184\u001b[0m \u001b[32m━━━━━━━━━━━━━━━━━━━━\u001b[0m\u001b[37m\u001b[0m \u001b[1m2s\u001b[0m 643us/step - accuracy: 0.9463 - loss: 0.1092 - val_accuracy: 0.9461 - val_loss: 0.1081\n",
      "Epoch 16/20\n",
      "\u001b[1m3184/3184\u001b[0m \u001b[32m━━━━━━━━━━━━━━━━━━━━\u001b[0m\u001b[37m\u001b[0m \u001b[1m2s\u001b[0m 704us/step - accuracy: 0.9474 - loss: 0.1070 - val_accuracy: 0.9491 - val_loss: 0.1054\n",
      "Epoch 17/20\n",
      "\u001b[1m3184/3184\u001b[0m \u001b[32m━━━━━━━━━━━━━━━━━━━━\u001b[0m\u001b[37m\u001b[0m \u001b[1m2s\u001b[0m 655us/step - accuracy: 0.9479 - loss: 0.1067 - val_accuracy: 0.9481 - val_loss: 0.1038\n",
      "Epoch 18/20\n",
      "\u001b[1m3184/3184\u001b[0m \u001b[32m━━━━━━━━━━━━━━━━━━━━\u001b[0m\u001b[37m\u001b[0m \u001b[1m2s\u001b[0m 636us/step - accuracy: 0.9470 - loss: 0.1048 - val_accuracy: 0.9437 - val_loss: 0.1079\n",
      "Epoch 19/20\n",
      "\u001b[1m3184/3184\u001b[0m \u001b[32m━━━━━━━━━━━━━━━━━━━━\u001b[0m\u001b[37m\u001b[0m \u001b[1m2s\u001b[0m 674us/step - accuracy: 0.9466 - loss: 0.1067 - val_accuracy: 0.9497 - val_loss: 0.0997\n",
      "Epoch 20/20\n",
      "\u001b[1m3184/3184\u001b[0m \u001b[32m━━━━━━━━━━━━━━━━━━━━\u001b[0m\u001b[37m\u001b[0m \u001b[1m2s\u001b[0m 626us/step - accuracy: 0.9482 - loss: 0.1039 - val_accuracy: 0.9487 - val_loss: 0.1016\n",
      "\u001b[1m796/796\u001b[0m \u001b[32m━━━━━━━━━━━━━━━━━━━━\u001b[0m\u001b[37m\u001b[0m \u001b[1m1s\u001b[0m 735us/step - accuracy: 0.9475 - loss: 0.1026\n"
     ]
    }
   ],
   "source": [
    "import tensorflow as tf\n",
    "from tensorflow.keras import layers\n",
    "import pandas as pd\n",
    "from sklearn.model_selection import train_test_split\n",
    "from sklearn.preprocessing import LabelEncoder\n",
    "import numpy as np\n",
    "\n",
    "RAIN_THRESHHOLD = 0.5\n",
    "# Load data\n",
    "data = pd.read_csv('weather_data.csv', low_memory=False)\n",
    "data = data.sample(frac=1, random_state=2).reset_index(drop=True)\n",
    "\n",
    "print(\"Data shape:\", data.shape)\n",
    "\n",
    "# Preprocessing\n",
    "# Handle missing values\n",
    "data = data.replace('', float('nan')).dropna()\n",
    "\n",
    "# Separate features and target, convert to encoding\n",
    "y = data['rain'].apply(lambda x: 1 if x > RAIN_THRESHHOLD else 0)\n",
    "\n",
    "X = data.drop(columns=['rain', 'date'])\n",
    "\n",
    "# Encode categorical columns\n",
    "for col in X.select_dtypes(include=['object']).columns:\n",
    "    X[col] = LabelEncoder().fit_transform(X[col])\n",
    "\n",
    "# Ensure all data is numeric\n",
    "X = X.astype(float)\n",
    "\n",
    "# Split data into train and test sets\n",
    "X_train, X_test, y_train, y_test = train_test_split(X, y, test_size=0.2, random_state=42)\n",
    "\n",
    "# Ensure target variable is integer-encoded for sparse_categorical_crossentropy\n",
    "y_train = y_train.astype(int)\n",
    "y_test = y_test.astype(int)\n",
    "\n",
    "# Build the model\n",
    "model = tf.keras.Sequential([\n",
    "    tf.keras.Input(shape=(X_train.shape[1],)),  # Input layer\n",
    "    layers.Dense(64, activation='relu'),        # Hidden layer 1\n",
    "    layers.Dense(32, activation='relu'),        # Hidden layer 2\n",
    "    layers.Dense(2, activation='softmax')       # Output layer (2 classes)\n",
    "])\n",
    "\n",
    "model.compile(optimizer='adam', loss='sparse_categorical_crossentropy', metrics=['accuracy'])\n",
    "\n",
    "history = model.fit(X_train, y_train, epochs=20, batch_size=32, validation_data=(X_test, y_test))\n",
    "\n",
    "loss, accuracy = model.evaluate(X_test, y_test)"
   ]
  },
  {
   "cell_type": "code",
   "execution_count": 35,
   "metadata": {
    "colab": {
     "base_uri": "https://localhost:8080/"
    },
    "id": "b6ixK3AjnUnR",
    "outputId": "ad93ac26-e665-4906-9266-2dab839d0eff"
   },
   "outputs": [
    {
     "name": "stdout",
     "output_type": "stream",
     "text": [
      "INFO:tensorflow:Assets written to: expt/assets\n"
     ]
    },
    {
     "name": "stderr",
     "output_type": "stream",
     "text": [
      "INFO:tensorflow:Assets written to: expt/assets\n"
     ]
    },
    {
     "name": "stdout",
     "output_type": "stream",
     "text": [
      "Saved artifact at 'expt'. The following endpoints are available:\n",
      "\n",
      "* Endpoint 'serve'\n",
      "  args_0 (POSITIONAL_ONLY): TensorSpec(shape=(None, 19), dtype=tf.float32, name='keras_tensor_31')\n",
      "Output Type:\n",
      "  TensorSpec(shape=(None, 2), dtype=tf.float32, name=None)\n",
      "Captures:\n",
      "  13074016736: TensorSpec(shape=(), dtype=tf.resource, name=None)\n",
      "  13074016560: TensorSpec(shape=(), dtype=tf.resource, name=None)\n",
      "  13074018144: TensorSpec(shape=(), dtype=tf.resource, name=None)\n",
      "  13104853056: TensorSpec(shape=(), dtype=tf.resource, name=None)\n",
      "  13104854640: TensorSpec(shape=(), dtype=tf.resource, name=None)\n",
      "  13104854464: TensorSpec(shape=(), dtype=tf.resource, name=None)\n"
     ]
    }
   ],
   "source": [
    "model.export(\"expt\")"
   ]
  },
  {
   "cell_type": "markdown",
   "metadata": {
    "id": "EeE0iTTQnpWf"
   },
   "source": [
    "# tflite"
   ]
  },
  {
   "cell_type": "code",
   "execution_count": 9,
   "metadata": {
    "colab": {
     "base_uri": "https://localhost:8080/"
    },
    "id": "RQ3_Fk_fnpBm",
    "outputId": "5f96bacb-bf76-4c6f-fae7-e766ce012676"
   },
   "outputs": [
    {
     "name": "stdout",
     "output_type": "stream",
     "text": [
      "Requirement already satisfied: ai-edge-litert in /Library/Frameworks/Python.framework/Versions/3.9/lib/python3.9/site-packages (1.1.2)\n",
      "Requirement already satisfied: flatbuffers in /Library/Frameworks/Python.framework/Versions/3.9/lib/python3.9/site-packages (from ai-edge-litert) (25.2.10)\n",
      "Requirement already satisfied: numpy>=1.23.2 in /Library/Frameworks/Python.framework/Versions/3.9/lib/python3.9/site-packages (from ai-edge-litert) (2.0.2)\n",
      "\u001b[33mWARNING: You are using pip version 21.2.4; however, version 25.0.1 is available.\n",
      "You should consider upgrading via the '/Library/Frameworks/Python.framework/Versions/3.9/bin/python3 -m pip install --upgrade pip' command.\u001b[0m\n"
     ]
    }
   ],
   "source": [
    "!python3 -m pip install ai-edge-litert"
   ]
  },
  {
   "cell_type": "code",
   "execution_count": null,
   "metadata": {},
   "outputs": [],
   "source": []
  },
  {
   "cell_type": "code",
   "execution_count": 36,
   "metadata": {
    "id": "eH9GVTaHoqqC",
    "scrolled": true
   },
   "outputs": [
    {
     "name": "stderr",
     "output_type": "stream",
     "text": [
      "W0000 00:00:1740344458.312776  795004 tf_tfl_flatbuffer_helpers.cc:365] Ignored output_format.\n",
      "W0000 00:00:1740344458.315182  795004 tf_tfl_flatbuffer_helpers.cc:368] Ignored drop_control_dependency.\n",
      "2025-02-23 21:00:58.324334: I tensorflow/cc/saved_model/reader.cc:83] Reading SavedModel from: ./expt\n",
      "2025-02-23 21:00:58.327094: I tensorflow/cc/saved_model/reader.cc:52] Reading meta graph with tags { serve }\n",
      "2025-02-23 21:00:58.327115: I tensorflow/cc/saved_model/reader.cc:147] Reading SavedModel debug info (if present) from: ./expt\n",
      "2025-02-23 21:00:58.378042: I tensorflow/cc/saved_model/loader.cc:236] Restoring SavedModel bundle.\n",
      "2025-02-23 21:00:58.470327: I tensorflow/cc/saved_model/loader.cc:220] Running initialization op on SavedModel bundle at path: ./expt\n",
      "2025-02-23 21:00:58.480066: I tensorflow/cc/saved_model/loader.cc:466] SavedModel load for tags { serve }; Status: success: OK. Took 156160 microseconds.\n"
     ]
    }
   ],
   "source": [
    "converter = tf.lite.TFLiteConverter.from_saved_model('./expt')\n",
    "\n",
    "tflite_model = converter.convert()\n",
    "with open('../deployment/models/model.tflite', 'wb') as f:\n",
    "  f.write(tflite_model)"
   ]
  },
  {
   "cell_type": "markdown",
   "metadata": {
    "id": "p4QVah7jpikD"
   },
   "source": [
    "# On the AI Edge Server"
   ]
  },
  {
   "cell_type": "code",
   "execution_count": 40,
   "metadata": {
    "colab": {
     "base_uri": "https://localhost:8080/"
    },
    "id": "w8KUIFLQqDdn",
    "outputId": "89dbe9c1-4d7b-4fd8-cdf3-d21cc5437056"
   },
   "outputs": [
    {
     "name": "stdout",
     "output_type": "stream",
     "text": [
      "class a\n"
     ]
    }
   ],
   "source": [
    "from ai_edge_litert.interpreter import Interpreter\n",
    "interpreter = Interpreter(model_path='../deployment/models/model.tflite')\n",
    "signatures = interpreter.get_signature_list()\n",
    "interpreter.allocate_tensors()\n",
    "\n",
    "# FEED IN THE INPUT DATA\n",
    "input_details = interpreter.get_input_details()\n",
    "input_data = np.array([[0,0,9.2,0,9.2,9.1,11.6,100,992.1,2,23,2,160,65,66,0.0,2000,4,8]], dtype=np.float32)\n",
    "# Set input tensor\n",
    "input_index = input_details[0]['index']\n",
    "interpreter.set_tensor(input_index, input_data)\n",
    "# GET THE OUTPUT DATA\n",
    "interpreter.invoke()\n",
    "output_details = interpreter.get_output_details()\n",
    "output_data = interpreter.get_tensor(output_details[0]['index'])\n",
    "\n",
    "a, b = output_data[0]\n",
    "\n",
    "from time import sleep\n",
    "import random\n",
    "sleep(random.randint(1,10))\n",
    "\n",
    "print(a,b)"
   ]
  },
  {
   "cell_type": "code",
   "execution_count": 18,
   "metadata": {
    "colab": {
     "base_uri": "https://localhost:8080/"
    },
    "id": "as-WRt680Zkz",
    "outputId": "2136fa89-728b-4b25-c0e9-d2c763a2bb95"
   },
   "outputs": [
    {
     "data": {
      "text/plain": [
       "(np.float32(0.5110711), np.float32(0.48892897))"
      ]
     },
     "execution_count": 18,
     "metadata": {},
     "output_type": "execute_result"
    }
   ],
   "source": [
    "a,b"
   ]
  },
  {
   "cell_type": "code",
   "execution_count": 19,
   "metadata": {
    "colab": {
     "base_uri": "https://localhost:8080/"
    },
    "id": "N3482Q9v0OIG",
    "outputId": "ad2b2a47-1679-44b8-9d1a-c8a4d1793e64"
   },
   "outputs": [
    {
     "data": {
      "text/plain": [
       "array([[0.5110711 , 0.48892897]], dtype=float32)"
      ]
     },
     "execution_count": 19,
     "metadata": {},
     "output_type": "execute_result"
    }
   ],
   "source": [
    "output_data"
   ]
  }
 ],
 "metadata": {
  "colab": {
   "provenance": []
  },
  "kernelspec": {
   "display_name": "Python 3 (ipykernel)",
   "language": "python",
   "name": "python3"
  },
  "language_info": {
   "codemirror_mode": {
    "name": "ipython",
    "version": 3
   },
   "file_extension": ".py",
   "mimetype": "text/x-python",
   "name": "python",
   "nbconvert_exporter": "python",
   "pygments_lexer": "ipython3",
   "version": "3.9.10"
  }
 },
 "nbformat": 4,
 "nbformat_minor": 4
}
