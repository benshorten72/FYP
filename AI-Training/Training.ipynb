{
 "cells": [
  {
   "cell_type": "markdown",
   "metadata": {},
   "source": [
    "# AI Training\n",
    "## Edge model training"
   ]
  },
  {
   "cell_type": "code",
   "execution_count": 1,
   "metadata": {},
   "outputs": [
    {
     "name": "stdout",
     "output_type": "stream",
     "text": [
      "Requirement already satisfied: tensorflow in /Library/Frameworks/Python.framework/Versions/3.9/lib/python3.9/site-packages (2.18.0)\n",
      "Requirement already satisfied: protobuf!=4.21.0,!=4.21.1,!=4.21.2,!=4.21.3,!=4.21.4,!=4.21.5,<6.0.0dev,>=3.20.3 in /Library/Frameworks/Python.framework/Versions/3.9/lib/python3.9/site-packages (from tensorflow) (5.29.3)\n",
      "Requirement already satisfied: six>=1.12.0 in /Library/Frameworks/Python.framework/Versions/3.9/lib/python3.9/site-packages (from tensorflow) (1.16.0)\n",
      "Requirement already satisfied: setuptools in /Library/Frameworks/Python.framework/Versions/3.9/lib/python3.9/site-packages (from tensorflow) (58.1.0)\n",
      "Requirement already satisfied: astunparse>=1.6.0 in /Library/Frameworks/Python.framework/Versions/3.9/lib/python3.9/site-packages (from tensorflow) (1.6.3)\n",
      "Requirement already satisfied: tensorflow-io-gcs-filesystem>=0.23.1 in /Library/Frameworks/Python.framework/Versions/3.9/lib/python3.9/site-packages (from tensorflow) (0.37.1)\n",
      "Requirement already satisfied: typing-extensions>=3.6.6 in /Library/Frameworks/Python.framework/Versions/3.9/lib/python3.9/site-packages (from tensorflow) (4.12.2)\n",
      "Requirement already satisfied: ml-dtypes<0.5.0,>=0.4.0 in /Library/Frameworks/Python.framework/Versions/3.9/lib/python3.9/site-packages (from tensorflow) (0.4.1)\n",
      "Requirement already satisfied: termcolor>=1.1.0 in /Library/Frameworks/Python.framework/Versions/3.9/lib/python3.9/site-packages (from tensorflow) (2.5.0)\n",
      "Requirement already satisfied: requests<3,>=2.21.0 in /Library/Frameworks/Python.framework/Versions/3.9/lib/python3.9/site-packages (from tensorflow) (2.32.3)\n",
      "Requirement already satisfied: keras>=3.5.0 in /Library/Frameworks/Python.framework/Versions/3.9/lib/python3.9/site-packages (from tensorflow) (3.8.0)\n",
      "Requirement already satisfied: google-pasta>=0.1.1 in /Library/Frameworks/Python.framework/Versions/3.9/lib/python3.9/site-packages (from tensorflow) (0.2.0)\n",
      "Requirement already satisfied: libclang>=13.0.0 in /Library/Frameworks/Python.framework/Versions/3.9/lib/python3.9/site-packages (from tensorflow) (18.1.1)\n",
      "Requirement already satisfied: tensorboard<2.19,>=2.18 in /Library/Frameworks/Python.framework/Versions/3.9/lib/python3.9/site-packages (from tensorflow) (2.18.0)\n",
      "Requirement already satisfied: numpy<2.1.0,>=1.26.0 in /Library/Frameworks/Python.framework/Versions/3.9/lib/python3.9/site-packages (from tensorflow) (2.0.2)\n",
      "Requirement already satisfied: absl-py>=1.0.0 in /Library/Frameworks/Python.framework/Versions/3.9/lib/python3.9/site-packages (from tensorflow) (2.1.0)\n",
      "Requirement already satisfied: gast!=0.5.0,!=0.5.1,!=0.5.2,>=0.2.1 in /Library/Frameworks/Python.framework/Versions/3.9/lib/python3.9/site-packages (from tensorflow) (0.6.0)\n",
      "Requirement already satisfied: grpcio<2.0,>=1.24.3 in /Library/Frameworks/Python.framework/Versions/3.9/lib/python3.9/site-packages (from tensorflow) (1.70.0)\n",
      "Requirement already satisfied: flatbuffers>=24.3.25 in /Library/Frameworks/Python.framework/Versions/3.9/lib/python3.9/site-packages (from tensorflow) (25.2.10)\n",
      "Requirement already satisfied: h5py>=3.11.0 in /Library/Frameworks/Python.framework/Versions/3.9/lib/python3.9/site-packages (from tensorflow) (3.12.1)\n",
      "Requirement already satisfied: packaging in /Library/Frameworks/Python.framework/Versions/3.9/lib/python3.9/site-packages (from tensorflow) (24.1)\n",
      "Requirement already satisfied: wrapt>=1.11.0 in /Library/Frameworks/Python.framework/Versions/3.9/lib/python3.9/site-packages (from tensorflow) (1.17.2)\n",
      "Requirement already satisfied: opt-einsum>=2.3.2 in /Library/Frameworks/Python.framework/Versions/3.9/lib/python3.9/site-packages (from tensorflow) (3.4.0)\n",
      "Requirement already satisfied: wheel<1.0,>=0.23.0 in /Library/Frameworks/Python.framework/Versions/3.9/lib/python3.9/site-packages (from astunparse>=1.6.0->tensorflow) (0.45.1)\n",
      "Requirement already satisfied: optree in /Library/Frameworks/Python.framework/Versions/3.9/lib/python3.9/site-packages (from keras>=3.5.0->tensorflow) (0.14.0)\n",
      "Requirement already satisfied: namex in /Library/Frameworks/Python.framework/Versions/3.9/lib/python3.9/site-packages (from keras>=3.5.0->tensorflow) (0.0.8)\n",
      "Requirement already satisfied: rich in /Library/Frameworks/Python.framework/Versions/3.9/lib/python3.9/site-packages (from keras>=3.5.0->tensorflow) (13.9.4)\n",
      "Requirement already satisfied: charset-normalizer<4,>=2 in /Library/Frameworks/Python.framework/Versions/3.9/lib/python3.9/site-packages (from requests<3,>=2.21.0->tensorflow) (3.3.2)\n",
      "Requirement already satisfied: urllib3<3,>=1.21.1 in /Library/Frameworks/Python.framework/Versions/3.9/lib/python3.9/site-packages (from requests<3,>=2.21.0->tensorflow) (2.2.1)\n",
      "Requirement already satisfied: certifi>=2017.4.17 in /Library/Frameworks/Python.framework/Versions/3.9/lib/python3.9/site-packages (from requests<3,>=2.21.0->tensorflow) (2024.6.2)\n",
      "Requirement already satisfied: idna<4,>=2.5 in /Library/Frameworks/Python.framework/Versions/3.9/lib/python3.9/site-packages (from requests<3,>=2.21.0->tensorflow) (3.7)\n",
      "Requirement already satisfied: werkzeug>=1.0.1 in /Library/Frameworks/Python.framework/Versions/3.9/lib/python3.9/site-packages (from tensorboard<2.19,>=2.18->tensorflow) (2.0.2)\n",
      "Requirement already satisfied: markdown>=2.6.8 in /Library/Frameworks/Python.framework/Versions/3.9/lib/python3.9/site-packages (from tensorboard<2.19,>=2.18->tensorflow) (3.7)\n",
      "Requirement already satisfied: tensorboard-data-server<0.8.0,>=0.7.0 in /Library/Frameworks/Python.framework/Versions/3.9/lib/python3.9/site-packages (from tensorboard<2.19,>=2.18->tensorflow) (0.7.2)\n",
      "Requirement already satisfied: importlib-metadata>=4.4 in /Library/Frameworks/Python.framework/Versions/3.9/lib/python3.9/site-packages (from markdown>=2.6.8->tensorboard<2.19,>=2.18->tensorflow) (8.6.1)\n",
      "Requirement already satisfied: zipp>=3.20 in /Library/Frameworks/Python.framework/Versions/3.9/lib/python3.9/site-packages (from importlib-metadata>=4.4->markdown>=2.6.8->tensorboard<2.19,>=2.18->tensorflow) (3.20.2)\n",
      "Requirement already satisfied: pygments<3.0.0,>=2.13.0 in /Library/Frameworks/Python.framework/Versions/3.9/lib/python3.9/site-packages (from rich->keras>=3.5.0->tensorflow) (2.19.1)\n",
      "Requirement already satisfied: markdown-it-py>=2.2.0 in /Library/Frameworks/Python.framework/Versions/3.9/lib/python3.9/site-packages (from rich->keras>=3.5.0->tensorflow) (3.0.0)\n",
      "Requirement already satisfied: mdurl~=0.1 in /Library/Frameworks/Python.framework/Versions/3.9/lib/python3.9/site-packages (from markdown-it-py>=2.2.0->rich->keras>=3.5.0->tensorflow) (0.1.2)\n",
      "\u001b[33mWARNING: You are using pip version 21.2.4; however, version 25.0.1 is available.\n",
      "You should consider upgrading via the '/Library/Frameworks/Python.framework/Versions/3.9/bin/python3 -m pip install --upgrade pip' command.\u001b[0m\n"
     ]
    }
   ],
   "source": [
    "!python3 -m pip install tensorflow\n",
    "import pandas as pd\n",
    "from sklearn.model_selection import train_test_split\n",
    "from sklearn.preprocessing import LabelEncoder\n",
    "import numpy as np\n",
    "import tensorflow as tf\n",
    "from tensorflow.keras import layers\n",
    "from sklearn.preprocessing import StandardScaler\n"
   ]
  },
  {
   "cell_type": "code",
   "execution_count": 13,
   "metadata": {},
   "outputs": [
    {
     "name": "stdout",
     "output_type": "stream",
     "text": [
      "date     0\n",
      "ind      0\n",
      "rain     0\n",
      "ind1     0\n",
      "temp     0\n",
      "ind2     0\n",
      "wetb     0\n",
      "dewpt    0\n",
      "vappr    0\n",
      "rhum     0\n",
      "msl      0\n",
      "ind3     0\n",
      "wdsp     0\n",
      "ind4     0\n",
      "wddir    0\n",
      "ww       0\n",
      "w        0\n",
      "sun      0\n",
      "vis      0\n",
      "clht     0\n",
      "clamt    0\n",
      "dtype: int64\n",
      "Epoch 1/30\n",
      "\u001b[1m3184/3184\u001b[0m \u001b[32m━━━━━━━━━━━━━━━━━━━━\u001b[0m\u001b[37m\u001b[0m \u001b[1m6s\u001b[0m 1ms/step - control_output_loss: 160.9835 - control_output_mae: 2.3720 - edge_output_loss: 14000.2979 - edge_output_mae: 34.2581 - loss: 14161.2793 - val_control_output_loss: 1.4006 - val_control_output_mae: 1.0015 - val_edge_output_loss: 88.8663 - val_edge_output_mae: 8.0245 - val_loss: 90.2720\n",
      "Epoch 2/30\n",
      "\u001b[1m3184/3184\u001b[0m \u001b[32m━━━━━━━━━━━━━━━━━━━━\u001b[0m\u001b[37m\u001b[0m \u001b[1m6s\u001b[0m 2ms/step - control_output_loss: 1.0781 - control_output_mae: 0.5726 - edge_output_loss: 1726.9899 - edge_output_mae: 11.6927 - loss: 1728.0688 - val_control_output_loss: 0.4656 - val_control_output_mae: 0.4943 - val_edge_output_loss: 3.3812 - val_edge_output_mae: 1.4594 - val_loss: 3.8471\n",
      "Epoch 3/30\n",
      "\u001b[1m3184/3184\u001b[0m \u001b[32m━━━━━━━━━━━━━━━━━━━━\u001b[0m\u001b[37m\u001b[0m \u001b[1m5s\u001b[0m 1ms/step - control_output_loss: 13.8623 - control_output_mae: 0.5705 - edge_output_loss: 618.5154 - edge_output_mae: 5.8273 - loss: 632.3771 - val_control_output_loss: 0.2673 - val_control_output_mae: 0.2386 - val_edge_output_loss: 2.5183 - val_edge_output_mae: 0.9850 - val_loss: 2.7862\n",
      "Epoch 4/30\n",
      "\u001b[1m3184/3184\u001b[0m \u001b[32m━━━━━━━━━━━━━━━━━━━━\u001b[0m\u001b[37m\u001b[0m \u001b[1m4s\u001b[0m 1ms/step - control_output_loss: 0.2672 - control_output_mae: 0.2381 - edge_output_loss: 91.0392 - edge_output_mae: 3.0366 - loss: 91.3065 - val_control_output_loss: 0.2547 - val_control_output_mae: 0.1802 - val_edge_output_loss: 0.7412 - val_edge_output_mae: 0.5071 - val_loss: 0.9961\n",
      "Epoch 5/30\n",
      "\u001b[1m3184/3184\u001b[0m \u001b[32m━━━━━━━━━━━━━━━━━━━━\u001b[0m\u001b[37m\u001b[0m \u001b[1m4s\u001b[0m 1ms/step - control_output_loss: 0.2568 - control_output_mae: 0.2326 - edge_output_loss: 136.7804 - edge_output_mae: 3.3065 - loss: 137.0372 - val_control_output_loss: 0.2589 - val_control_output_mae: 0.2030 - val_edge_output_loss: 0.5822 - val_edge_output_mae: 0.5517 - val_loss: 0.8412\n",
      "Epoch 6/30\n",
      "\u001b[1m3184/3184\u001b[0m \u001b[32m━━━━━━━━━━━━━━━━━━━━\u001b[0m\u001b[37m\u001b[0m \u001b[1m4s\u001b[0m 1ms/step - control_output_loss: 0.2552 - control_output_mae: 0.2048 - edge_output_loss: 249.1621 - edge_output_mae: 3.3908 - loss: 249.4168 - val_control_output_loss: 0.2501 - val_control_output_mae: 0.1946 - val_edge_output_loss: 0.7836 - val_edge_output_mae: 0.7334 - val_loss: 1.0338\n",
      "Epoch 7/30\n",
      "\u001b[1m3184/3184\u001b[0m \u001b[32m━━━━━━━━━━━━━━━━━━━━\u001b[0m\u001b[37m\u001b[0m \u001b[1m5s\u001b[0m 2ms/step - control_output_loss: 0.2570 - control_output_mae: 0.2033 - edge_output_loss: 173.9349 - edge_output_mae: 4.2351 - loss: 174.1921 - val_control_output_loss: 0.2527 - val_control_output_mae: 0.1960 - val_edge_output_loss: 0.4172 - val_edge_output_mae: 0.4419 - val_loss: 0.6701\n",
      "Epoch 8/30\n",
      "\u001b[1m3184/3184\u001b[0m \u001b[32m━━━━━━━━━━━━━━━━━━━━\u001b[0m\u001b[37m\u001b[0m \u001b[1m6s\u001b[0m 2ms/step - control_output_loss: 0.2659 - control_output_mae: 0.2026 - edge_output_loss: 250.1563 - edge_output_mae: 2.8768 - loss: 250.4221 - val_control_output_loss: 0.2612 - val_control_output_mae: 0.2018 - val_edge_output_loss: 1.1894 - val_edge_output_mae: 0.9235 - val_loss: 1.4507\n",
      "Epoch 9/30\n",
      "\u001b[1m3184/3184\u001b[0m \u001b[32m━━━━━━━━━━━━━━━━━━━━\u001b[0m\u001b[37m\u001b[0m \u001b[1m4s\u001b[0m 1ms/step - control_output_loss: 0.2653 - control_output_mae: 0.1926 - edge_output_loss: 245.9867 - edge_output_mae: 4.7931 - loss: 246.2518 - val_control_output_loss: 0.2455 - val_control_output_mae: 0.1495 - val_edge_output_loss: 0.2721 - val_edge_output_mae: 0.2702 - val_loss: 0.5177\n",
      "Epoch 10/30\n",
      "\u001b[1m3184/3184\u001b[0m \u001b[32m━━━━━━━━━━━━━━━━━━━━\u001b[0m\u001b[37m\u001b[0m \u001b[1m6s\u001b[0m 2ms/step - control_output_loss: 0.2542 - control_output_mae: 0.1921 - edge_output_loss: 25.7566 - edge_output_mae: 1.3760 - loss: 26.0108 - val_control_output_loss: 0.2318 - val_control_output_mae: 0.1721 - val_edge_output_loss: 0.6773 - val_edge_output_mae: 0.6278 - val_loss: 0.9093\n",
      "Epoch 11/30\n",
      "\u001b[1m3184/3184\u001b[0m \u001b[32m━━━━━━━━━━━━━━━━━━━━\u001b[0m\u001b[37m\u001b[0m \u001b[1m5s\u001b[0m 1ms/step - control_output_loss: 0.2470 - control_output_mae: 0.1883 - edge_output_loss: 69.0341 - edge_output_mae: 3.0832 - loss: 69.2812 - val_control_output_loss: 0.2458 - val_control_output_mae: 0.1602 - val_edge_output_loss: 226.0672 - val_edge_output_mae: 13.0002 - val_loss: 226.3242\n",
      "Epoch 12/30\n",
      "\u001b[1m3184/3184\u001b[0m \u001b[32m━━━━━━━━━━━━━━━━━━━━\u001b[0m\u001b[37m\u001b[0m \u001b[1m4s\u001b[0m 1ms/step - control_output_loss: 0.2623 - control_output_mae: 0.1877 - edge_output_loss: 96.4307 - edge_output_mae: 2.9104 - loss: 96.6930 - val_control_output_loss: 0.2490 - val_control_output_mae: 0.1661 - val_edge_output_loss: 0.7641 - val_edge_output_mae: 0.6412 - val_loss: 1.0131\n",
      "Epoch 13/30\n",
      "\u001b[1m3184/3184\u001b[0m \u001b[32m━━━━━━━━━━━━━━━━━━━━\u001b[0m\u001b[37m\u001b[0m \u001b[1m4s\u001b[0m 1ms/step - control_output_loss: 0.2534 - control_output_mae: 0.1893 - edge_output_loss: 8.6307 - edge_output_mae: 0.7904 - loss: 8.8842 - val_control_output_loss: 0.2475 - val_control_output_mae: 0.1477 - val_edge_output_loss: 0.6310 - val_edge_output_mae: 0.6148 - val_loss: 0.8786\n",
      "Epoch 14/30\n",
      "\u001b[1m3184/3184\u001b[0m \u001b[32m━━━━━━━━━━━━━━━━━━━━\u001b[0m\u001b[37m\u001b[0m \u001b[1m4s\u001b[0m 1ms/step - control_output_loss: 0.2503 - control_output_mae: 0.1847 - edge_output_loss: 19.0060 - edge_output_mae: 1.5803 - loss: 19.2563 - val_control_output_loss: 0.2362 - val_control_output_mae: 0.1929 - val_edge_output_loss: 0.7005 - val_edge_output_mae: 0.6721 - val_loss: 0.9368\n",
      "Epoch 15/30\n",
      "\u001b[1m3184/3184\u001b[0m \u001b[32m━━━━━━━━━━━━━━━━━━━━\u001b[0m\u001b[37m\u001b[0m \u001b[1m4s\u001b[0m 1ms/step - control_output_loss: 0.2410 - control_output_mae: 0.1808 - edge_output_loss: 40.8456 - edge_output_mae: 1.9596 - loss: 41.0866 - val_control_output_loss: 0.2333 - val_control_output_mae: 0.1690 - val_edge_output_loss: 2.6865 - val_edge_output_mae: 1.4178 - val_loss: 2.9201\n",
      "Epoch 16/30\n",
      "\u001b[1m3184/3184\u001b[0m \u001b[32m━━━━━━━━━━━━━━━━━━━━\u001b[0m\u001b[37m\u001b[0m \u001b[1m4s\u001b[0m 1ms/step - control_output_loss: 0.2428 - control_output_mae: 0.1814 - edge_output_loss: 21.2388 - edge_output_mae: 1.7793 - loss: 21.4816 - val_control_output_loss: 0.2156 - val_control_output_mae: 0.1573 - val_edge_output_loss: 1.9952 - val_edge_output_mae: 1.1852 - val_loss: 2.2110\n",
      "Epoch 17/30\n",
      "\u001b[1m3184/3184\u001b[0m \u001b[32m━━━━━━━━━━━━━━━━━━━━\u001b[0m\u001b[37m\u001b[0m \u001b[1m4s\u001b[0m 1ms/step - control_output_loss: 0.2323 - control_output_mae: 0.1754 - edge_output_loss: 9.5218 - edge_output_mae: 0.9221 - loss: 9.7542 - val_control_output_loss: 0.2191 - val_control_output_mae: 0.1645 - val_edge_output_loss: 3.0985 - val_edge_output_mae: 1.5352 - val_loss: 3.3178\n",
      "Epoch 18/30\n",
      "\u001b[1m3184/3184\u001b[0m \u001b[32m━━━━━━━━━━━━━━━━━━━━\u001b[0m\u001b[37m\u001b[0m \u001b[1m4s\u001b[0m 1ms/step - control_output_loss: 0.2340 - control_output_mae: 0.1740 - edge_output_loss: 23.4999 - edge_output_mae: 2.0370 - loss: 23.7339 - val_control_output_loss: 0.2370 - val_control_output_mae: 0.1966 - val_edge_output_loss: 63.5943 - val_edge_output_mae: 6.8065 - val_loss: 63.8346\n",
      "Epoch 19/30\n",
      "\u001b[1m3184/3184\u001b[0m \u001b[32m━━━━━━━━━━━━━━━━━━━━\u001b[0m\u001b[37m\u001b[0m \u001b[1m4s\u001b[0m 1ms/step - control_output_loss: 0.2371 - control_output_mae: 0.1729 - edge_output_loss: 43.8986 - edge_output_mae: 2.2095 - loss: 44.1357 - val_control_output_loss: 0.2163 - val_control_output_mae: 0.1424 - val_edge_output_loss: 5.3471 - val_edge_output_mae: 1.9763 - val_loss: 5.5638\n",
      "Epoch 20/30\n",
      "\u001b[1m3184/3184\u001b[0m \u001b[32m━━━━━━━━━━━━━━━━━━━━\u001b[0m\u001b[37m\u001b[0m \u001b[1m4s\u001b[0m 1ms/step - control_output_loss: 0.2366 - control_output_mae: 0.1750 - edge_output_loss: 8.0369 - edge_output_mae: 1.2385 - loss: 8.2735 - val_control_output_loss: 0.2323 - val_control_output_mae: 0.1915 - val_edge_output_loss: 3.7140 - val_edge_output_mae: 1.7134 - val_loss: 3.9465\n",
      "Epoch 21/30\n",
      "\u001b[1m3184/3184\u001b[0m \u001b[32m━━━━━━━━━━━━━━━━━━━━\u001b[0m\u001b[37m\u001b[0m \u001b[1m4s\u001b[0m 1ms/step - control_output_loss: 0.2327 - control_output_mae: 0.1727 - edge_output_loss: 10.5340 - edge_output_mae: 1.3571 - loss: 10.7667 - val_control_output_loss: 0.2310 - val_control_output_mae: 0.1755 - val_edge_output_loss: 0.4866 - val_edge_output_mae: 0.5265 - val_loss: 0.7177\n",
      "Epoch 22/30\n",
      "\u001b[1m3184/3184\u001b[0m \u001b[32m━━━━━━━━━━━━━━━━━━━━\u001b[0m\u001b[37m\u001b[0m \u001b[1m4s\u001b[0m 1ms/step - control_output_loss: 0.2397 - control_output_mae: 0.1759 - edge_output_loss: 16.7453 - edge_output_mae: 1.5349 - loss: 16.9850 - val_control_output_loss: 0.2385 - val_control_output_mae: 0.1499 - val_edge_output_loss: 0.2601 - val_edge_output_mae: 0.2556 - val_loss: 0.4988\n",
      "Epoch 23/30\n",
      "\u001b[1m3184/3184\u001b[0m \u001b[32m━━━━━━━━━━━━━━━━━━━━\u001b[0m\u001b[37m\u001b[0m \u001b[1m4s\u001b[0m 1ms/step - control_output_loss: 0.2172 - control_output_mae: 0.1676 - edge_output_loss: 9.1005 - edge_output_mae: 1.5109 - loss: 9.3177 - val_control_output_loss: 0.2205 - val_control_output_mae: 0.1812 - val_edge_output_loss: 2.6117 - val_edge_output_mae: 1.4371 - val_loss: 2.8324\n",
      "Epoch 24/30\n",
      "\u001b[1m3184/3184\u001b[0m \u001b[32m━━━━━━━━━━━━━━━━━━━━\u001b[0m\u001b[37m\u001b[0m \u001b[1m4s\u001b[0m 1ms/step - control_output_loss: 0.2159 - control_output_mae: 0.1666 - edge_output_loss: 9.0922 - edge_output_mae: 1.5846 - loss: 9.3081 - val_control_output_loss: 0.2072 - val_control_output_mae: 0.1603 - val_edge_output_loss: 19.8480 - val_edge_output_mae: 3.8470 - val_loss: 20.0563\n",
      "Epoch 25/30\n",
      "\u001b[1m3184/3184\u001b[0m \u001b[32m━━━━━━━━━━━━━━━━━━━━\u001b[0m\u001b[37m\u001b[0m \u001b[1m5s\u001b[0m 1ms/step - control_output_loss: 0.2113 - control_output_mae: 0.1608 - edge_output_loss: 10.5925 - edge_output_mae: 1.0744 - loss: 10.8038 - val_control_output_loss: 0.1982 - val_control_output_mae: 0.1440 - val_edge_output_loss: 9.1669 - val_edge_output_mae: 2.6302 - val_loss: 9.3656\n",
      "Epoch 26/30\n",
      "\u001b[1m3184/3184\u001b[0m \u001b[32m━━━━━━━━━━━━━━━━━━━━\u001b[0m\u001b[37m\u001b[0m \u001b[1m4s\u001b[0m 1ms/step - control_output_loss: 0.2143 - control_output_mae: 0.1600 - edge_output_loss: 7.0625 - edge_output_mae: 1.1534 - loss: 7.2769 - val_control_output_loss: 0.2026 - val_control_output_mae: 0.1500 - val_edge_output_loss: 28.1183 - val_edge_output_mae: 4.5643 - val_loss: 28.3222\n",
      "Epoch 27/30\n",
      "\u001b[1m3184/3184\u001b[0m \u001b[32m━━━━━━━━━━━━━━━━━━━━\u001b[0m\u001b[37m\u001b[0m \u001b[1m4s\u001b[0m 1ms/step - control_output_loss: 0.2015 - control_output_mae: 0.1554 - edge_output_loss: 4.9667 - edge_output_mae: 0.9639 - loss: 5.1682 - val_control_output_loss: 0.1889 - val_control_output_mae: 0.1301 - val_edge_output_loss: 0.2202 - val_edge_output_mae: 0.2482 - val_loss: 0.4091\n",
      "Epoch 28/30\n",
      "\u001b[1m3184/3184\u001b[0m \u001b[32m━━━━━━━━━━━━━━━━━━━━\u001b[0m\u001b[37m\u001b[0m \u001b[1m4s\u001b[0m 1ms/step - control_output_loss: 0.2009 - control_output_mae: 0.1497 - edge_output_loss: 1.8112 - edge_output_mae: 0.7623 - loss: 2.0121 - val_control_output_loss: 0.2044 - val_control_output_mae: 0.1563 - val_edge_output_loss: 50.7939 - val_edge_output_mae: 6.1532 - val_loss: 51.0008\n",
      "Epoch 29/30\n",
      "\u001b[1m3184/3184\u001b[0m \u001b[32m━━━━━━━━━━━━━━━━━━━━\u001b[0m\u001b[37m\u001b[0m \u001b[1m5s\u001b[0m 1ms/step - control_output_loss: 0.2187 - control_output_mae: 0.1576 - edge_output_loss: 3.6761 - edge_output_mae: 0.9834 - loss: 3.8948 - val_control_output_loss: 0.1973 - val_control_output_mae: 0.1562 - val_edge_output_loss: 0.2305 - val_edge_output_mae: 0.2591 - val_loss: 0.4280\n",
      "Epoch 30/30\n",
      "\u001b[1m3184/3184\u001b[0m \u001b[32m━━━━━━━━━━━━━━━━━━━━\u001b[0m\u001b[37m\u001b[0m \u001b[1m4s\u001b[0m 1ms/step - control_output_loss: 0.2146 - control_output_mae: 0.1561 - edge_output_loss: 4.0841 - edge_output_mae: 0.5775 - loss: 4.2987 - val_control_output_loss: 0.2031 - val_control_output_mae: 0.1653 - val_edge_output_loss: 0.4397 - val_edge_output_mae: 0.5464 - val_loss: 0.6429\n",
      "Epoch 1/30\n",
      "\u001b[1m3184/3184\u001b[0m \u001b[32m━━━━━━━━━━━━━━━━━━━━\u001b[0m\u001b[37m\u001b[0m \u001b[1m2s\u001b[0m 533us/step - edge_output_mae: 0.3443 - loss: 0.5545 - val_edge_output_mae: 0.3061 - val_loss: 0.2561\n",
      "Epoch 2/30\n",
      "\u001b[1m3184/3184\u001b[0m \u001b[32m━━━━━━━━━━━━━━━━━━━━\u001b[0m\u001b[37m\u001b[0m \u001b[1m2s\u001b[0m 535us/step - edge_output_mae: 0.3284 - loss: 0.3172 - val_edge_output_mae: 0.2201 - val_loss: 0.2040\n",
      "Epoch 3/30\n",
      "\u001b[1m3184/3184\u001b[0m \u001b[32m━━━━━━━━━━━━━━━━━━━━\u001b[0m\u001b[37m\u001b[0m \u001b[1m2s\u001b[0m 513us/step - edge_output_mae: 0.3127 - loss: 0.2950 - val_edge_output_mae: 0.1923 - val_loss: 0.2039\n",
      "Epoch 4/30\n",
      "\u001b[1m3184/3184\u001b[0m \u001b[32m━━━━━━━━━━━━━━━━━━━━\u001b[0m\u001b[37m\u001b[0m \u001b[1m2s\u001b[0m 526us/step - edge_output_mae: 0.2955 - loss: 0.2791 - val_edge_output_mae: 1.3825 - val_loss: 2.4754\n",
      "Epoch 5/30\n",
      "\u001b[1m3184/3184\u001b[0m \u001b[32m━━━━━━━━━━━━━━━━━━━━\u001b[0m\u001b[37m\u001b[0m \u001b[1m2s\u001b[0m 544us/step - edge_output_mae: 0.3263 - loss: 0.3740 - val_edge_output_mae: 0.3612 - val_loss: 0.2676\n",
      "Epoch 6/30\n",
      "\u001b[1m3184/3184\u001b[0m \u001b[32m━━━━━━━━━━━━━━━━━━━━\u001b[0m\u001b[37m\u001b[0m \u001b[1m2s\u001b[0m 549us/step - edge_output_mae: 0.3206 - loss: 0.3376 - val_edge_output_mae: 0.2789 - val_loss: 0.2367\n",
      "Epoch 7/30\n",
      "\u001b[1m3184/3184\u001b[0m \u001b[32m━━━━━━━━━━━━━━━━━━━━\u001b[0m\u001b[37m\u001b[0m \u001b[1m2s\u001b[0m 515us/step - edge_output_mae: 0.3082 - loss: 0.2962 - val_edge_output_mae: 0.2849 - val_loss: 0.2271\n",
      "Epoch 8/30\n",
      "\u001b[1m3184/3184\u001b[0m \u001b[32m━━━━━━━━━━━━━━━━━━━━\u001b[0m\u001b[37m\u001b[0m \u001b[1m2s\u001b[0m 516us/step - edge_output_mae: 0.3196 - loss: 0.3074 - val_edge_output_mae: 1.0052 - val_loss: 1.3983\n",
      "Epoch 9/30\n",
      "\u001b[1m3184/3184\u001b[0m \u001b[32m━━━━━━━━━━━━━━━━━━━━\u001b[0m\u001b[37m\u001b[0m \u001b[1m2s\u001b[0m 510us/step - edge_output_mae: 0.3224 - loss: 0.3281 - val_edge_output_mae: 0.1689 - val_loss: 0.1931\n",
      "Epoch 10/30\n",
      "\u001b[1m3184/3184\u001b[0m \u001b[32m━━━━━━━━━━━━━━━━━━━━\u001b[0m\u001b[37m\u001b[0m \u001b[1m2s\u001b[0m 509us/step - edge_output_mae: 0.2854 - loss: 0.2671 - val_edge_output_mae: 0.4718 - val_loss: 0.3981\n",
      "Epoch 11/30\n",
      "\u001b[1m3184/3184\u001b[0m \u001b[32m━━━━━━━━━━━━━━━━━━━━\u001b[0m\u001b[37m\u001b[0m \u001b[1m2s\u001b[0m 528us/step - edge_output_mae: 0.3120 - loss: 0.2869 - val_edge_output_mae: 0.1927 - val_loss: 0.1998\n",
      "Epoch 12/30\n",
      "\u001b[1m3184/3184\u001b[0m \u001b[32m━━━━━━━━━━━━━━━━━━━━\u001b[0m\u001b[37m\u001b[0m \u001b[1m2s\u001b[0m 541us/step - edge_output_mae: 0.3088 - loss: 0.2860 - val_edge_output_mae: 0.3304 - val_loss: 0.2744\n",
      "Epoch 13/30\n",
      "\u001b[1m3184/3184\u001b[0m \u001b[32m━━━━━━━━━━━━━━━━━━━━\u001b[0m\u001b[37m\u001b[0m \u001b[1m2s\u001b[0m 509us/step - edge_output_mae: 0.3103 - loss: 0.2961 - val_edge_output_mae: 0.1678 - val_loss: 0.1929\n",
      "Epoch 14/30\n",
      "\u001b[1m3184/3184\u001b[0m \u001b[32m━━━━━━━━━━━━━━━━━━━━\u001b[0m\u001b[37m\u001b[0m \u001b[1m2s\u001b[0m 516us/step - edge_output_mae: 0.2679 - loss: 0.2642 - val_edge_output_mae: 0.7878 - val_loss: 0.8356\n",
      "Epoch 15/30\n",
      "\u001b[1m3184/3184\u001b[0m \u001b[32m━━━━━━━━━━━━━━━━━━━━\u001b[0m\u001b[37m\u001b[0m \u001b[1m2s\u001b[0m 725us/step - edge_output_mae: 0.3115 - loss: 0.2904 - val_edge_output_mae: 2.2342 - val_loss: 6.5410\n",
      "Epoch 16/30\n",
      "\u001b[1m3184/3184\u001b[0m \u001b[32m━━━━━━━━━━━━━━━━━━━━\u001b[0m\u001b[37m\u001b[0m \u001b[1m2s\u001b[0m 514us/step - edge_output_mae: 0.3667 - loss: 0.6305 - val_edge_output_mae: 0.6536 - val_loss: 0.5856\n",
      "Epoch 17/30\n",
      "\u001b[1m3184/3184\u001b[0m \u001b[32m━━━━━━━━━━━━━━━━━━━━\u001b[0m\u001b[37m\u001b[0m \u001b[1m2s\u001b[0m 521us/step - edge_output_mae: 0.3466 - loss: 0.3161 - val_edge_output_mae: 0.5545 - val_loss: 0.4510\n",
      "Epoch 18/30\n",
      "\u001b[1m3184/3184\u001b[0m \u001b[32m━━━━━━━━━━━━━━━━━━━━\u001b[0m\u001b[37m\u001b[0m \u001b[1m2s\u001b[0m 529us/step - edge_output_mae: 0.3308 - loss: 0.3286 - val_edge_output_mae: 0.2268 - val_loss: 0.2155\n",
      "Epoch 19/30\n",
      "\u001b[1m3184/3184\u001b[0m \u001b[32m━━━━━━━━━━━━━━━━━━━━\u001b[0m\u001b[37m\u001b[0m \u001b[1m2s\u001b[0m 518us/step - edge_output_mae: 0.3066 - loss: 0.3017 - val_edge_output_mae: 0.9749 - val_loss: 1.2589\n",
      "Epoch 20/30\n",
      "\u001b[1m3184/3184\u001b[0m \u001b[32m━━━━━━━━━━━━━━━━━━━━\u001b[0m\u001b[37m\u001b[0m \u001b[1m2s\u001b[0m 537us/step - edge_output_mae: 0.3106 - loss: 0.2869 - val_edge_output_mae: 0.4855 - val_loss: 0.4083\n",
      "Epoch 21/30\n",
      "\u001b[1m3184/3184\u001b[0m \u001b[32m━━━━━━━━━━━━━━━━━━━━\u001b[0m\u001b[37m\u001b[0m \u001b[1m2s\u001b[0m 513us/step - edge_output_mae: 0.3200 - loss: 0.2924 - val_edge_output_mae: 0.9328 - val_loss: 1.1323\n",
      "Epoch 22/30\n",
      "\u001b[1m3184/3184\u001b[0m \u001b[32m━━━━━━━━━━━━━━━━━━━━\u001b[0m\u001b[37m\u001b[0m \u001b[1m2s\u001b[0m 514us/step - edge_output_mae: 0.3066 - loss: 0.3013 - val_edge_output_mae: 1.0130 - val_loss: 1.4294\n",
      "Epoch 23/30\n",
      "\u001b[1m3184/3184\u001b[0m \u001b[32m━━━━━━━━━━━━━━━━━━━━\u001b[0m\u001b[37m\u001b[0m \u001b[1m2s\u001b[0m 541us/step - edge_output_mae: 0.3035 - loss: 0.2954 - val_edge_output_mae: 0.1914 - val_loss: 0.1970\n",
      "Epoch 24/30\n",
      "\u001b[1m3184/3184\u001b[0m \u001b[32m━━━━━━━━━━━━━━━━━━━━\u001b[0m\u001b[37m\u001b[0m \u001b[1m2s\u001b[0m 545us/step - edge_output_mae: 0.2830 - loss: 0.2777 - val_edge_output_mae: 0.1839 - val_loss: 0.1976\n",
      "Epoch 25/30\n",
      "\u001b[1m3184/3184\u001b[0m \u001b[32m━━━━━━━━━━━━━━━━━━━━\u001b[0m\u001b[37m\u001b[0m \u001b[1m2s\u001b[0m 513us/step - edge_output_mae: 0.2788 - loss: 0.2699 - val_edge_output_mae: 0.1651 - val_loss: 0.1909\n",
      "Epoch 26/30\n",
      "\u001b[1m3184/3184\u001b[0m \u001b[32m━━━━━━━━━━━━━━━━━━━━\u001b[0m\u001b[37m\u001b[0m \u001b[1m2s\u001b[0m 508us/step - edge_output_mae: 0.3030 - loss: 0.3120 - val_edge_output_mae: 0.1730 - val_loss: 0.1954\n",
      "Epoch 27/30\n",
      "\u001b[1m3184/3184\u001b[0m \u001b[32m━━━━━━━━━━━━━━━━━━━━\u001b[0m\u001b[37m\u001b[0m \u001b[1m2s\u001b[0m 519us/step - edge_output_mae: 0.2970 - loss: 0.2834 - val_edge_output_mae: 0.8038 - val_loss: 0.8649\n",
      "Epoch 28/30\n",
      "\u001b[1m3184/3184\u001b[0m \u001b[32m━━━━━━━━━━━━━━━━━━━━\u001b[0m\u001b[37m\u001b[0m \u001b[1m2s\u001b[0m 525us/step - edge_output_mae: 0.3337 - loss: 0.3249 - val_edge_output_mae: 0.2145 - val_loss: 0.1997\n",
      "Epoch 29/30\n",
      "\u001b[1m3184/3184\u001b[0m \u001b[32m━━━━━━━━━━━━━━━━━━━━\u001b[0m\u001b[37m\u001b[0m \u001b[1m2s\u001b[0m 529us/step - edge_output_mae: 0.3071 - loss: 0.2906 - val_edge_output_mae: 0.2390 - val_loss: 0.2154\n",
      "Epoch 30/30\n",
      "\u001b[1m3184/3184\u001b[0m \u001b[32m━━━━━━━━━━━━━━━━━━━━\u001b[0m\u001b[37m\u001b[0m \u001b[1m2s\u001b[0m 510us/step - edge_output_mae: 0.2932 - loss: 0.2794 - val_edge_output_mae: 0.1623 - val_loss: 0.1908\n"
     ]
    },
    {
     "data": {
      "text/html": [
       "<pre style=\"white-space:pre;overflow-x:auto;line-height:normal;font-family:Menlo,'DejaVu Sans Mono',consolas,'Courier New',monospace\"><span style=\"font-weight: bold\">Model: \"functional_13\"</span>\n",
       "</pre>\n"
      ],
      "text/plain": [
       "\u001b[1mModel: \"functional_13\"\u001b[0m\n"
      ]
     },
     "metadata": {},
     "output_type": "display_data"
    },
    {
     "data": {
      "text/html": [
       "<pre style=\"white-space:pre;overflow-x:auto;line-height:normal;font-family:Menlo,'DejaVu Sans Mono',consolas,'Courier New',monospace\">┏━━━━━━━━━━━━━━━━━━━━━━━━━━━━━━━━━┳━━━━━━━━━━━━━━━━━━━━━━━━┳━━━━━━━━━━━━━━━┓\n",
       "┃<span style=\"font-weight: bold\"> Layer (type)                    </span>┃<span style=\"font-weight: bold\"> Output Shape           </span>┃<span style=\"font-weight: bold\">       Param # </span>┃\n",
       "┡━━━━━━━━━━━━━━━━━━━━━━━━━━━━━━━━━╇━━━━━━━━━━━━━━━━━━━━━━━━╇━━━━━━━━━━━━━━━┩\n",
       "│ input_layer_8 (<span style=\"color: #0087ff; text-decoration-color: #0087ff\">InputLayer</span>)      │ (<span style=\"color: #00d7ff; text-decoration-color: #00d7ff\">None</span>, <span style=\"color: #00af00; text-decoration-color: #00af00\">19</span>)             │             <span style=\"color: #00af00; text-decoration-color: #00af00\">0</span> │\n",
       "├─────────────────────────────────┼────────────────────────┼───────────────┤\n",
       "│ e1 (<span style=\"color: #0087ff; text-decoration-color: #0087ff\">Dense</span>)                      │ (<span style=\"color: #00d7ff; text-decoration-color: #00d7ff\">None</span>, <span style=\"color: #00af00; text-decoration-color: #00af00\">64</span>)             │         <span style=\"color: #00af00; text-decoration-color: #00af00\">1,280</span> │\n",
       "├─────────────────────────────────┼────────────────────────┼───────────────┤\n",
       "│ e2 (<span style=\"color: #0087ff; text-decoration-color: #0087ff\">Dense</span>)                      │ (<span style=\"color: #00d7ff; text-decoration-color: #00d7ff\">None</span>, <span style=\"color: #00af00; text-decoration-color: #00af00\">32</span>)             │         <span style=\"color: #00af00; text-decoration-color: #00af00\">2,080</span> │\n",
       "├─────────────────────────────────┼────────────────────────┼───────────────┤\n",
       "│ edge_output (<span style=\"color: #0087ff; text-decoration-color: #0087ff\">Dense</span>)             │ (<span style=\"color: #00d7ff; text-decoration-color: #00d7ff\">None</span>, <span style=\"color: #00af00; text-decoration-color: #00af00\">1</span>)              │            <span style=\"color: #00af00; text-decoration-color: #00af00\">33</span> │\n",
       "└─────────────────────────────────┴────────────────────────┴───────────────┘\n",
       "</pre>\n"
      ],
      "text/plain": [
       "┏━━━━━━━━━━━━━━━━━━━━━━━━━━━━━━━━━┳━━━━━━━━━━━━━━━━━━━━━━━━┳━━━━━━━━━━━━━━━┓\n",
       "┃\u001b[1m \u001b[0m\u001b[1mLayer (type)                   \u001b[0m\u001b[1m \u001b[0m┃\u001b[1m \u001b[0m\u001b[1mOutput Shape          \u001b[0m\u001b[1m \u001b[0m┃\u001b[1m \u001b[0m\u001b[1m      Param #\u001b[0m\u001b[1m \u001b[0m┃\n",
       "┡━━━━━━━━━━━━━━━━━━━━━━━━━━━━━━━━━╇━━━━━━━━━━━━━━━━━━━━━━━━╇━━━━━━━━━━━━━━━┩\n",
       "│ input_layer_8 (\u001b[38;5;33mInputLayer\u001b[0m)      │ (\u001b[38;5;45mNone\u001b[0m, \u001b[38;5;34m19\u001b[0m)             │             \u001b[38;5;34m0\u001b[0m │\n",
       "├─────────────────────────────────┼────────────────────────┼───────────────┤\n",
       "│ e1 (\u001b[38;5;33mDense\u001b[0m)                      │ (\u001b[38;5;45mNone\u001b[0m, \u001b[38;5;34m64\u001b[0m)             │         \u001b[38;5;34m1,280\u001b[0m │\n",
       "├─────────────────────────────────┼────────────────────────┼───────────────┤\n",
       "│ e2 (\u001b[38;5;33mDense\u001b[0m)                      │ (\u001b[38;5;45mNone\u001b[0m, \u001b[38;5;34m32\u001b[0m)             │         \u001b[38;5;34m2,080\u001b[0m │\n",
       "├─────────────────────────────────┼────────────────────────┼───────────────┤\n",
       "│ edge_output (\u001b[38;5;33mDense\u001b[0m)             │ (\u001b[38;5;45mNone\u001b[0m, \u001b[38;5;34m1\u001b[0m)              │            \u001b[38;5;34m33\u001b[0m │\n",
       "└─────────────────────────────────┴────────────────────────┴───────────────┘\n"
      ]
     },
     "metadata": {},
     "output_type": "display_data"
    },
    {
     "data": {
      "text/html": [
       "<pre style=\"white-space:pre;overflow-x:auto;line-height:normal;font-family:Menlo,'DejaVu Sans Mono',consolas,'Courier New',monospace\"><span style=\"font-weight: bold\"> Total params: </span><span style=\"color: #00af00; text-decoration-color: #00af00\">3,461</span> (13.52 KB)\n",
       "</pre>\n"
      ],
      "text/plain": [
       "\u001b[1m Total params: \u001b[0m\u001b[38;5;34m3,461\u001b[0m (13.52 KB)\n"
      ]
     },
     "metadata": {},
     "output_type": "display_data"
    },
    {
     "data": {
      "text/html": [
       "<pre style=\"white-space:pre;overflow-x:auto;line-height:normal;font-family:Menlo,'DejaVu Sans Mono',consolas,'Courier New',monospace\"><span style=\"font-weight: bold\"> Trainable params: </span><span style=\"color: #00af00; text-decoration-color: #00af00\">33</span> (132.00 B)\n",
       "</pre>\n"
      ],
      "text/plain": [
       "\u001b[1m Trainable params: \u001b[0m\u001b[38;5;34m33\u001b[0m (132.00 B)\n"
      ]
     },
     "metadata": {},
     "output_type": "display_data"
    },
    {
     "data": {
      "text/html": [
       "<pre style=\"white-space:pre;overflow-x:auto;line-height:normal;font-family:Menlo,'DejaVu Sans Mono',consolas,'Courier New',monospace\"><span style=\"font-weight: bold\"> Non-trainable params: </span><span style=\"color: #00af00; text-decoration-color: #00af00\">3,360</span> (13.12 KB)\n",
       "</pre>\n"
      ],
      "text/plain": [
       "\u001b[1m Non-trainable params: \u001b[0m\u001b[38;5;34m3,360\u001b[0m (13.12 KB)\n"
      ]
     },
     "metadata": {},
     "output_type": "display_data"
    },
    {
     "data": {
      "text/html": [
       "<pre style=\"white-space:pre;overflow-x:auto;line-height:normal;font-family:Menlo,'DejaVu Sans Mono',consolas,'Courier New',monospace\"><span style=\"font-weight: bold\"> Optimizer params: </span><span style=\"color: #00af00; text-decoration-color: #00af00\">68</span> (276.00 B)\n",
       "</pre>\n"
      ],
      "text/plain": [
       "\u001b[1m Optimizer params: \u001b[0m\u001b[38;5;34m68\u001b[0m (276.00 B)\n"
      ]
     },
     "metadata": {},
     "output_type": "display_data"
    },
    {
     "data": {
      "text/html": [
       "<pre style=\"white-space:pre;overflow-x:auto;line-height:normal;font-family:Menlo,'DejaVu Sans Mono',consolas,'Courier New',monospace\"><span style=\"font-weight: bold\">Model: \"functional_14\"</span>\n",
       "</pre>\n"
      ],
      "text/plain": [
       "\u001b[1mModel: \"functional_14\"\u001b[0m\n"
      ]
     },
     "metadata": {},
     "output_type": "display_data"
    },
    {
     "data": {
      "text/html": [
       "<pre style=\"white-space:pre;overflow-x:auto;line-height:normal;font-family:Menlo,'DejaVu Sans Mono',consolas,'Courier New',monospace\">┏━━━━━━━━━━━━━━━━━━━━━━━━━━━━━━━━━┳━━━━━━━━━━━━━━━━━━━━━━━━┳━━━━━━━━━━━━━━━┓\n",
       "┃<span style=\"font-weight: bold\"> Layer (type)                    </span>┃<span style=\"font-weight: bold\"> Output Shape           </span>┃<span style=\"font-weight: bold\">       Param # </span>┃\n",
       "┡━━━━━━━━━━━━━━━━━━━━━━━━━━━━━━━━━╇━━━━━━━━━━━━━━━━━━━━━━━━╇━━━━━━━━━━━━━━━┩\n",
       "│ input_layer_9 (<span style=\"color: #0087ff; text-decoration-color: #0087ff\">InputLayer</span>)      │ (<span style=\"color: #00d7ff; text-decoration-color: #00d7ff\">None</span>, <span style=\"color: #00af00; text-decoration-color: #00af00\">32</span>)             │             <span style=\"color: #00af00; text-decoration-color: #00af00\">0</span> │\n",
       "├─────────────────────────────────┼────────────────────────┼───────────────┤\n",
       "│ controlmodel (<span style=\"color: #0087ff; text-decoration-color: #0087ff\">Dense</span>)            │ (<span style=\"color: #00d7ff; text-decoration-color: #00d7ff\">None</span>, <span style=\"color: #00af00; text-decoration-color: #00af00\">64</span>)             │         <span style=\"color: #00af00; text-decoration-color: #00af00\">2,112</span> │\n",
       "├─────────────────────────────────┼────────────────────────┼───────────────┤\n",
       "│ l1 (<span style=\"color: #0087ff; text-decoration-color: #0087ff\">Dense</span>)                      │ (<span style=\"color: #00d7ff; text-decoration-color: #00d7ff\">None</span>, <span style=\"color: #00af00; text-decoration-color: #00af00\">128</span>)            │         <span style=\"color: #00af00; text-decoration-color: #00af00\">8,320</span> │\n",
       "├─────────────────────────────────┼────────────────────────┼───────────────┤\n",
       "│ l2 (<span style=\"color: #0087ff; text-decoration-color: #0087ff\">Dense</span>)                      │ (<span style=\"color: #00d7ff; text-decoration-color: #00d7ff\">None</span>, <span style=\"color: #00af00; text-decoration-color: #00af00\">256</span>)            │        <span style=\"color: #00af00; text-decoration-color: #00af00\">33,024</span> │\n",
       "├─────────────────────────────────┼────────────────────────┼───────────────┤\n",
       "│ l3 (<span style=\"color: #0087ff; text-decoration-color: #0087ff\">Dense</span>)                      │ (<span style=\"color: #00d7ff; text-decoration-color: #00d7ff\">None</span>, <span style=\"color: #00af00; text-decoration-color: #00af00\">128</span>)            │        <span style=\"color: #00af00; text-decoration-color: #00af00\">32,896</span> │\n",
       "├─────────────────────────────────┼────────────────────────┼───────────────┤\n",
       "│ l4 (<span style=\"color: #0087ff; text-decoration-color: #0087ff\">Dense</span>)                      │ (<span style=\"color: #00d7ff; text-decoration-color: #00d7ff\">None</span>, <span style=\"color: #00af00; text-decoration-color: #00af00\">64</span>)             │         <span style=\"color: #00af00; text-decoration-color: #00af00\">8,256</span> │\n",
       "├─────────────────────────────────┼────────────────────────┼───────────────┤\n",
       "│ l5 (<span style=\"color: #0087ff; text-decoration-color: #0087ff\">Dense</span>)                      │ (<span style=\"color: #00d7ff; text-decoration-color: #00d7ff\">None</span>, <span style=\"color: #00af00; text-decoration-color: #00af00\">64</span>)             │         <span style=\"color: #00af00; text-decoration-color: #00af00\">4,160</span> │\n",
       "├─────────────────────────────────┼────────────────────────┼───────────────┤\n",
       "│ control_output (<span style=\"color: #0087ff; text-decoration-color: #0087ff\">Dense</span>)          │ (<span style=\"color: #00d7ff; text-decoration-color: #00d7ff\">None</span>, <span style=\"color: #00af00; text-decoration-color: #00af00\">1</span>)              │            <span style=\"color: #00af00; text-decoration-color: #00af00\">65</span> │\n",
       "└─────────────────────────────────┴────────────────────────┴───────────────┘\n",
       "</pre>\n"
      ],
      "text/plain": [
       "┏━━━━━━━━━━━━━━━━━━━━━━━━━━━━━━━━━┳━━━━━━━━━━━━━━━━━━━━━━━━┳━━━━━━━━━━━━━━━┓\n",
       "┃\u001b[1m \u001b[0m\u001b[1mLayer (type)                   \u001b[0m\u001b[1m \u001b[0m┃\u001b[1m \u001b[0m\u001b[1mOutput Shape          \u001b[0m\u001b[1m \u001b[0m┃\u001b[1m \u001b[0m\u001b[1m      Param #\u001b[0m\u001b[1m \u001b[0m┃\n",
       "┡━━━━━━━━━━━━━━━━━━━━━━━━━━━━━━━━━╇━━━━━━━━━━━━━━━━━━━━━━━━╇━━━━━━━━━━━━━━━┩\n",
       "│ input_layer_9 (\u001b[38;5;33mInputLayer\u001b[0m)      │ (\u001b[38;5;45mNone\u001b[0m, \u001b[38;5;34m32\u001b[0m)             │             \u001b[38;5;34m0\u001b[0m │\n",
       "├─────────────────────────────────┼────────────────────────┼───────────────┤\n",
       "│ controlmodel (\u001b[38;5;33mDense\u001b[0m)            │ (\u001b[38;5;45mNone\u001b[0m, \u001b[38;5;34m64\u001b[0m)             │         \u001b[38;5;34m2,112\u001b[0m │\n",
       "├─────────────────────────────────┼────────────────────────┼───────────────┤\n",
       "│ l1 (\u001b[38;5;33mDense\u001b[0m)                      │ (\u001b[38;5;45mNone\u001b[0m, \u001b[38;5;34m128\u001b[0m)            │         \u001b[38;5;34m8,320\u001b[0m │\n",
       "├─────────────────────────────────┼────────────────────────┼───────────────┤\n",
       "│ l2 (\u001b[38;5;33mDense\u001b[0m)                      │ (\u001b[38;5;45mNone\u001b[0m, \u001b[38;5;34m256\u001b[0m)            │        \u001b[38;5;34m33,024\u001b[0m │\n",
       "├─────────────────────────────────┼────────────────────────┼───────────────┤\n",
       "│ l3 (\u001b[38;5;33mDense\u001b[0m)                      │ (\u001b[38;5;45mNone\u001b[0m, \u001b[38;5;34m128\u001b[0m)            │        \u001b[38;5;34m32,896\u001b[0m │\n",
       "├─────────────────────────────────┼────────────────────────┼───────────────┤\n",
       "│ l4 (\u001b[38;5;33mDense\u001b[0m)                      │ (\u001b[38;5;45mNone\u001b[0m, \u001b[38;5;34m64\u001b[0m)             │         \u001b[38;5;34m8,256\u001b[0m │\n",
       "├─────────────────────────────────┼────────────────────────┼───────────────┤\n",
       "│ l5 (\u001b[38;5;33mDense\u001b[0m)                      │ (\u001b[38;5;45mNone\u001b[0m, \u001b[38;5;34m64\u001b[0m)             │         \u001b[38;5;34m4,160\u001b[0m │\n",
       "├─────────────────────────────────┼────────────────────────┼───────────────┤\n",
       "│ control_output (\u001b[38;5;33mDense\u001b[0m)          │ (\u001b[38;5;45mNone\u001b[0m, \u001b[38;5;34m1\u001b[0m)              │            \u001b[38;5;34m65\u001b[0m │\n",
       "└─────────────────────────────────┴────────────────────────┴───────────────┘\n"
      ]
     },
     "metadata": {},
     "output_type": "display_data"
    },
    {
     "data": {
      "text/html": [
       "<pre style=\"white-space:pre;overflow-x:auto;line-height:normal;font-family:Menlo,'DejaVu Sans Mono',consolas,'Courier New',monospace\"><span style=\"font-weight: bold\"> Total params: </span><span style=\"color: #00af00; text-decoration-color: #00af00\">88,833</span> (347.00 KB)\n",
       "</pre>\n"
      ],
      "text/plain": [
       "\u001b[1m Total params: \u001b[0m\u001b[38;5;34m88,833\u001b[0m (347.00 KB)\n"
      ]
     },
     "metadata": {},
     "output_type": "display_data"
    },
    {
     "data": {
      "text/html": [
       "<pre style=\"white-space:pre;overflow-x:auto;line-height:normal;font-family:Menlo,'DejaVu Sans Mono',consolas,'Courier New',monospace\"><span style=\"font-weight: bold\"> Trainable params: </span><span style=\"color: #00af00; text-decoration-color: #00af00\">88,833</span> (347.00 KB)\n",
       "</pre>\n"
      ],
      "text/plain": [
       "\u001b[1m Trainable params: \u001b[0m\u001b[38;5;34m88,833\u001b[0m (347.00 KB)\n"
      ]
     },
     "metadata": {},
     "output_type": "display_data"
    },
    {
     "data": {
      "text/html": [
       "<pre style=\"white-space:pre;overflow-x:auto;line-height:normal;font-family:Menlo,'DejaVu Sans Mono',consolas,'Courier New',monospace\"><span style=\"font-weight: bold\"> Non-trainable params: </span><span style=\"color: #00af00; text-decoration-color: #00af00\">0</span> (0.00 B)\n",
       "</pre>\n"
      ],
      "text/plain": [
       "\u001b[1m Non-trainable params: \u001b[0m\u001b[38;5;34m0\u001b[0m (0.00 B)\n"
      ]
     },
     "metadata": {},
     "output_type": "display_data"
    }
   ],
   "source": [
    "import pandas as pd\n",
    "from sklearn.preprocessing import LabelEncoder\n",
    "from tensorflow.keras import Input, Model, layers\n",
    "from sklearn.model_selection import train_test_split\n",
    "\n",
    "# Load and preprocess data\n",
    "RAIN_THRESHHOLD = 0.5\n",
    "data = pd.read_csv('weather_data.csv', low_memory=False)\n",
    "data = data.sample(frac=1, random_state=2).reset_index(drop=True)\n",
    "data = data.replace('', float('nan')).dropna()\n",
    "data = data.replace(' ', float('nan'))\n",
    "data = data.dropna(subset=['wetb', 'vappr', 'rhum', 'vis'])\n",
    "X = data.drop(columns=['rain','date'])\n",
    "y = data['rain']\n",
    "print(data.isna().sum())\n",
    "\n",
    "# Ensure all data is numeric\n",
    "X = X.astype(float)\n",
    "\n",
    "# Split into training and testing sets\n",
    "X_train, X_test, y_train, y_test = train_test_split(X, y, test_size=0.2, random_state=42)\n",
    "\n",
    "# Reshape y to (num_samples, 1) for regression\n",
    "y_train = y_train.values.reshape(-1, 1)\n",
    "y_test = y_test.values.reshape(-1, 1)\n",
    "\n",
    "# Define the model\n",
    "inputs = Input(shape=(X_train.shape[1],))\n",
    "x = layers.Dense(64, activation='relu', name='e1')(inputs)\n",
    "x_edge = layers.Dense(32, activation='relu', name='e2')(x)\n",
    "edge_outputs = layers.Dense(1, activation='linear', name='edge_output')(x_edge)\n",
    "x = layers.Dense(64, activation='relu', name='controlmodel')(x_edge)\n",
    "x = layers.Dense(128, activation='relu', name='l1')(x)\n",
    "x = layers.Dense(256, activation='relu', name='l2')(x)\n",
    "x = layers.Dense(128, activation='relu', name='l3')(x)\n",
    "x = layers.Dense(64, activation='relu', name='l4')(x)\n",
    "x = layers.Dense(64, activation='relu', name='l5')(x)\n",
    "control_outputs = layers.Dense(1, activation='linear', name='control_output')(x)\n",
    "\n",
    "# Create and compile the combined model\n",
    "combined_model = Model(inputs=inputs, outputs=[edge_outputs, control_outputs])\n",
    "combined_model.compile(optimizer='adam',\n",
    "                       loss={'edge_output': 'mean_squared_error',\n",
    "                             'control_output': 'mean_squared_error'},\n",
    "                       metrics={'edge_output': 'mae',\n",
    "                                'control_output': 'mae'})\n",
    "\n",
    "# Train the combined model\n",
    "combined_model.fit(X_train, [y_train, y_train], \n",
    "                   epochs=30, batch_size=32, \n",
    "                   validation_data=(X_test, [y_test, y_test]))\n",
    "\n",
    "# Define the edge_model\n",
    "edge_model = Model(inputs=inputs, outputs=[combined_model.get_layer('e2').output, edge_outputs])\n",
    "\n",
    "# x§This needs training \n",
    "# Set last as untrainable, then train last ones, this is not needed for contorl model becasue its last output is trained when entire model \n",
    "# gets trained\n",
    "for layer in edge_model.layers:\n",
    "    layer.trainable = False\n",
    "\n",
    "edge_model.get_layer('edge_output').trainable= True\n",
    "\n",
    "edge_model.compile(optimizer='adam',\n",
    "                   loss={'e2': None, 'edge_output': 'mean_squared_error'},\n",
    "                   metrics={'edge_output': 'mae'})\n",
    "\n",
    "history = edge_model.fit(X_train, [y_train, y_train], \n",
    "               epochs=30, batch_size=32, \n",
    "               validation_data=(X_test, [y_test, y_test]))\n",
    "\n",
    "# Define the control_model\n",
    "control_model_input = Input(shape=(32,))  # Shape of the intermediate layer output\n",
    "z = combined_model.get_layer('controlmodel')(control_model_input)\n",
    "z = combined_model.get_layer('l1')(z)\n",
    "z = combined_model.get_layer('l2')(z)\n",
    "z = combined_model.get_layer('l3')(z)\n",
    "z = combined_model.get_layer('l4')(z)\n",
    "z = combined_model.get_layer('l5')(z)\n",
    "\n",
    "control_model_outputs = combined_model.get_layer('control_output')(z)\n",
    "control_model = Model(inputs=control_model_input, outputs=control_model_outputs)\n",
    "\n",
    "# Inspect the models\n",
    "edge_model.summary()\n",
    "control_model.summary()\n"
   ]
  },
  {
   "cell_type": "code",
   "execution_count": 12,
   "metadata": {},
   "outputs": [
    {
     "name": "stdout",
     "output_type": "stream",
     "text": [
      "\u001b[1m796/796\u001b[0m \u001b[32m━━━━━━━━━━━━━━━━━━━━\u001b[0m\u001b[37m\u001b[0m \u001b[1m0s\u001b[0m 573us/step - control_output_loss: 0.1849 - control_output_mae: 0.1578 - edge_output_loss: 0.3360 - edge_output_mae: 0.4254 - loss: 0.5208\n",
      "Test Loss: 0.541490375995636\n",
      "Edge Output - MAE: 0.34628161787986755\n",
      "Edge Output - MSE - How much its off by on average: 0.19510380923748016\n",
      "Control Output - MAE: 0.15660102665424347\n",
      "Control Output - MSE: 0.42397430539131165\n"
     ]
    }
   ],
   "source": [
    "\n",
    "results = combined_model.evaluate(X_test, [y_test, y_test])\n",
    "print(\"Test Loss:\", results[0])\n",
    "print(\"Edge Output - MAE:\", results[1])\n",
    "print(\"Edge Output - MSE - How much its off by on average:\", results[2])\n",
    "print(\"Control Output - MAE:\", results[3])\n",
    "print(\"Control Output - MSE:\", results[4])"
   ]
  },
  {
   "cell_type": "code",
   "execution_count": 15,
   "metadata": {},
   "outputs": [
    {
     "name": "stdout",
     "output_type": "stream",
     "text": [
      "INFO:tensorflow:Assets written to: expt/assets\n"
     ]
    },
    {
     "name": "stderr",
     "output_type": "stream",
     "text": [
      "INFO:tensorflow:Assets written to: expt/assets\n"
     ]
    },
    {
     "name": "stdout",
     "output_type": "stream",
     "text": [
      "Saved artifact at 'expt'. The following endpoints are available:\n",
      "\n",
      "* Endpoint 'serve'\n",
      "  args_0 (POSITIONAL_ONLY): TensorSpec(shape=(None, 19), dtype=tf.float32, name='keras_tensor_76')\n",
      "Output Type:\n",
      "  List[TensorSpec(shape=(None, 32), dtype=tf.float32, name=None), TensorSpec(shape=(None, 1), dtype=tf.float32, name=None)]\n",
      "Captures:\n",
      "  13042796144: TensorSpec(shape=(), dtype=tf.resource, name=None)\n",
      "  13042796320: TensorSpec(shape=(), dtype=tf.resource, name=None)\n",
      "  12985234528: TensorSpec(shape=(), dtype=tf.resource, name=None)\n",
      "  12985256768: TensorSpec(shape=(), dtype=tf.resource, name=None)\n",
      "  13018981824: TensorSpec(shape=(), dtype=tf.resource, name=None)\n",
      "  13018983408: TensorSpec(shape=(), dtype=tf.resource, name=None)\n"
     ]
    },
    {
     "name": "stderr",
     "output_type": "stream",
     "text": [
      "W0000 00:00:1743706598.820083 2240442 tf_tfl_flatbuffer_helpers.cc:365] Ignored output_format.\n",
      "W0000 00:00:1743706598.821132 2240442 tf_tfl_flatbuffer_helpers.cc:368] Ignored drop_control_dependency.\n",
      "2025-04-03 19:56:38.822749: I tensorflow/cc/saved_model/reader.cc:83] Reading SavedModel from: ./expt\n",
      "2025-04-03 19:56:38.823221: I tensorflow/cc/saved_model/reader.cc:52] Reading meta graph with tags { serve }\n",
      "2025-04-03 19:56:38.823226: I tensorflow/cc/saved_model/reader.cc:147] Reading SavedModel debug info (if present) from: ./expt\n",
      "2025-04-03 19:56:38.834946: I tensorflow/cc/saved_model/loader.cc:236] Restoring SavedModel bundle.\n",
      "2025-04-03 19:56:38.888195: I tensorflow/cc/saved_model/loader.cc:220] Running initialization op on SavedModel bundle at path: ./expt\n",
      "2025-04-03 19:56:38.893695: I tensorflow/cc/saved_model/loader.cc:466] SavedModel load for tags { serve }; Status: success: OK. Took 70946 microseconds.\n"
     ]
    }
   ],
   "source": [
    "\n",
    "edge_model.export(\"expt\")\n",
    "converter = tf.lite.TFLiteConverter.from_saved_model('./expt')\n",
    "tflite_model = converter.convert()\n",
    "with open('../deployment/models/trained_edge_model.tflite', 'wb') as f:\n",
    "  f.write(tflite_model)\n",
    "\n",
    "edge_model.save('../deployment/models/trained_edge_model.keras')\n",
    "    \n",
    "control_model.save('../deployment/models/trained_control_model.keras')\n"
   ]
  },
  {
   "cell_type": "code",
   "execution_count": 14,
   "metadata": {},
   "outputs": [
    {
     "name": "stdout",
     "output_type": "stream",
     "text": [
      "Training Loss: [0.25178205966949463, 0.23968347907066345, 0.24461109936237335, 0.24302606284618378, 0.23791706562042236, 0.24550817906856537, 0.243641659617424, 0.2393542379140854, 0.24527223408222198, 0.23985464870929718]\n",
      "Validation Loss: [0.217668354511261, 0.2463953047990799, 0.2797223925590515, 0.21911336481571198, 0.27226147055625916, 0.26257964968681335, 0.270867258310318, 0.20820137858390808, 0.2942362129688263, 0.3463376760482788]\n",
      "\u001b[1m1/1\u001b[0m \u001b[32m━━━━━━━━━━━━━━━━━━━━\u001b[0m\u001b[37m\u001b[0m \u001b[1m0s\u001b[0m 41ms/step\n",
      "Edge Output: [0.06930117]\n",
      "Control Output: [0.43953162]\n"
     ]
    }
   ],
   "source": [
    "# Check combined model's training loss and validation loss\n",
    "training_loss = history.history['loss']\n",
    "validation_loss = history.history['val_loss']\n",
    "\n",
    "print(\"Training Loss:\", training_loss)\n",
    "print(\"Validation Loss:\", validation_loss)\n",
    "\n",
    "raw = [2, 0, 13.4, 0, 13.4, 13.4, 15.4, 100, 1022.1, 2, 8, 2, 220, 50, 64, 0.0, 4000, 3, 8]\n",
    "datapoint = np.array([raw], dtype=np.float32)\n",
    "\n",
    "# Predict using the combined model\n",
    "output_data = combined_model.predict(datapoint)\n",
    "\n",
    "# output_data will be a list of two arrays, one for each output (edge_output, control_output)\n",
    "edge_output = output_data[0][0]  # First output: edge_output (this is the first array in the list)\n",
    "control_output = output_data[1][0]  # Second output: control_output (this is the second array in the list)\n",
    "\n",
    "print(\"Edge Output:\", edge_output)  # This should give you the edge prediction\n",
    "print(\"Control Output:\", control_output)  # This should give you the control prediction\n"
   ]
  },
  {
   "cell_type": "markdown",
   "metadata": {
    "id": "p4QVah7jpikD"
   },
   "source": [
    "# On the AI Edge Server"
   ]
  },
  {
   "cell_type": "code",
   "execution_count": 15,
   "metadata": {
    "colab": {
     "base_uri": "https://localhost:8080/"
    },
    "id": "w8KUIFLQqDdn",
    "outputId": "89dbe9c1-4d7b-4fd8-cdf3-d21cc5437056"
   },
   "outputs": [
    {
     "data": {
      "text/plain": [
       "array([415.3908  ,   0.      ,   0.      ,   0.      ,   0.      ,\n",
       "         0.      ,   0.      ,   0.      ,   0.      ,   0.      ,\n",
       "        31.634277,   0.      ,   0.      ,   0.      ,   0.      ,\n",
       "         0.      ,   0.      ,   0.      ,   0.      ,   0.      ,\n",
       "        66.00993 ,   0.      ,   0.      ,   0.      ,   0.      ,\n",
       "         0.      , 146.64545 , 914.6798  ,   0.      ,   0.      ,\n",
       "         0.      , 129.53992 ], dtype=float32)"
      ]
     },
     "execution_count": 15,
     "metadata": {},
     "output_type": "execute_result"
    }
   ],
   "source": [
    "from ai_edge_litert.interpreter import Interpreter\n",
    "interpreter = Interpreter(model_path='../deployment/models/edge_model.tflite')\n",
    "signatures = interpreter.get_signature_list()\n",
    "interpreter.allocate_tensors()\n",
    "\n",
    "# FEED IN THE INPUT DATA\n",
    "input_details = interpreter.get_input_details()\n",
    "input_data = np.array([[0,0,8.7,0,8.6,8.5,11.1,99,1003.1,2,12,2,350,61,66,0.0,15000,45,8]], dtype=np.float32)\n",
    "# Set input tensor\n",
    "input_index = input_details[0]['index']\n",
    "interpreter.set_tensor(input_index, input_data)\n",
    "# GET THE OUTPUT DATA\n",
    "interpreter.invoke()\n",
    "output_details = interpreter.get_output_details()\n",
    "rain_data = interpreter.get_tensor(output_details[0]['index'])\n",
    "node_data = interpreter.get_tensor(output_details[1]['index'])\n",
    "node_data = node_data[0] # Send this to control\n",
    "prob_rain = rain_data[0]\n",
    "\n",
    "\n",
    "# Determine if it's raining\n",
    "RAIN_THRESHOLD = 0.5\n",
    "prob_rain\n",
    "node_data"
   ]
  },
  {
   "cell_type": "markdown",
   "metadata": {},
   "source": [
    "# Control Model\n",
    "## On control model"
   ]
  },
  {
   "cell_type": "code",
   "execution_count": 16,
   "metadata": {},
   "outputs": [
    {
     "name": "stdout",
     "output_type": "stream",
     "text": [
      "\u001b[1m1/1\u001b[0m \u001b[32m━━━━━━━━━━━━━━━━━━━━\u001b[0m\u001b[37m\u001b[0m \u001b[1m0s\u001b[0m 58ms/step\n",
      "Control predictions: [[0.12695009]]\n",
      "Training Model\n",
      "Epoch 1, Loss: 0.07455626130104065\n",
      "Epoch 2, Loss: 0.06499973684549332\n",
      "Epoch 3, Loss: 0.04834967106580734\n",
      "Epoch 4, Loss: 0.02800249494612217\n",
      "Epoch 5, Loss: 0.013295230455696583\n"
     ]
    },
    {
     "name": "stderr",
     "output_type": "stream",
     "text": [
      "2025-03-26 20:21:30.535635: I tensorflow/core/framework/local_rendezvous.cc:405] Local rendezvous is aborting with status: OUT_OF_RANGE: End of sequence\n"
     ]
    }
   ],
   "source": [
    "import numpy as np\n",
    "import tensorflow as tf\n",
    "control_model = tf.keras.models.load_model('../deployment/models/control_model.keras')\n",
    "\n",
    "## Vars that need to be defined for the function \n",
    "# Recieve node_data, data_result\n",
    "BATCH_SIZE = 1 \n",
    "X_data = []  \n",
    "Y_data = []  \n",
    "data_result = 0.4\n",
    "data_result = np.array([data_result])\n",
    "\n",
    "edge_model_result = node_data\n",
    "edge_model_result = np.reshape(edge_model_result, (-1, 32)) \n",
    "\n",
    "control_predictions = control_model.predict(edge_model_result)\n",
    "print(\"Control predictions:\", control_predictions)\n",
    "\n",
    "# IF data result exists, add it and intermediate layer to batches\n",
    "if data_result.size > 0: \n",
    "    # Add data_result to Y and beginning nodes to X\n",
    "    X_data.append(edge_model_result) \n",
    "    Y_data.append(data_result) \n",
    "    if len(X_data) >= BATCH_SIZE:\n",
    "        numpy_X_data = np.vstack(X_data)\n",
    "        numpy_Y_data = np.vstack(Y_data)  \n",
    "\n",
    "        # Clear lists for the next batch\n",
    "        X_data.clear()\n",
    "        Y_data.clear()\n",
    "        \n",
    "        dataset = tf.data.Dataset.from_tensor_slices((numpy_X_data, numpy_Y_data))\n",
    "        dataset = dataset.batch(BATCH_SIZE)\n",
    "        # Compile and train the control_model\n",
    "        edge_model_result = tf.convert_to_tensor(edge_model_result, dtype=tf.float32)  # Convert to Tensor\n",
    "        control_model.compile(optimizer='adam',\n",
    "                              loss='mean_squared_error',\n",
    "                              metrics=['mae'])\n",
    "\n",
    "        #Get edge gradients\n",
    "        with tf.GradientTape(persistent=True) as tape:\n",
    "            tape.watch(edge_model_result)  # Track edge model output\n",
    "            control_predictions = control_model(edge_model_result, training=True)\n",
    "            loss = tf.keras.losses.MeanSquaredError()(data_result, control_predictions)\n",
    "        edge_output_grad = tape.gradient(loss, edge_model_result)\n",
    "        \n",
    "        print(\"Training Model\")\n",
    "        # Below is how models are usually trained, we need to step down from the high level api of fit() and get slightly lower down in\n",
    "        # tensorflow mush\n",
    "        # history = control_model.fit(numpy_X_data, numpy_Y_data,\n",
    "        #                             epochs=1, batch_size=BATCH_SIZE)\n",
    "        optimizer = tf.keras.optimizers.Adam(learning_rate=0.001)\n",
    "\n",
    "        for epoch in range(5):\n",
    "            with tf.GradientTape() as tape: # This will track computations performed on tensors inside the block \n",
    "                for batch_X, batch_Y in dataset:\n",
    "                    predictions = control_model(batch_X, training=True) # This is the forward pass \n",
    "                    loss = tf.keras.losses.MeanSquaredError()(batch_Y, predictions)\n",
    "                control_gradients = tape.gradient(loss, control_model.trainable_variables) # gradients get calculated via calling tape.gradient \n",
    "                optimizer.apply_gradients(zip(control_gradients, control_model.trainable_variables))\n",
    "            print(f\"Epoch {epoch+1}, Loss: {loss.numpy()}\")\n",
    "            \n"
   ]
  },
  {
   "cell_type": "code",
   "execution_count": 17,
   "metadata": {},
   "outputs": [
    {
     "name": "stdout",
     "output_type": "stream",
     "text": [
      "Name: tensorflow\n",
      "Version: 2.18.0\n",
      "Summary: TensorFlow is an open source machine learning framework for everyone.\n",
      "Home-page: https://www.tensorflow.org/\n",
      "Author: Google Inc.\n",
      "Author-email: packages@tensorflow.org\n",
      "License: Apache 2.0\n",
      "Location: /opt/anaconda3/lib/python3.12/site-packages\n",
      "Requires: absl-py, astunparse, flatbuffers, gast, google-pasta, grpcio, h5py, keras, libclang, ml-dtypes, numpy, opt-einsum, packaging, protobuf, requests, setuptools, six, tensorboard, termcolor, typing-extensions, wrapt\n",
      "Required-by: \n"
     ]
    }
   ],
   "source": [
    "!pip show tensorflow"
   ]
  },
  {
   "cell_type": "markdown",
   "metadata": {},
   "source": [
    "## Split Learning on Edge v1"
   ]
  },
  {
   "cell_type": "code",
   "execution_count": 18,
   "metadata": {
    "scrolled": true
   },
   "outputs": [],
   "source": [
    "# # Load edge model\n",
    "# edge_learning_model = tf.keras.models.load_model(\"../deployment/models/edge_model.keras\")\n",
    "\n",
    "# # Reinitialize the optimizer\n",
    "# optimizer = tf.keras.optimizers.Adam()\n",
    "# edge_learning_model.compile(optimizer=optimizer, loss='mean_squared_error', metrics=['mae'])\n",
    "\n",
    "# for layer in edge_learning_model.layers:\n",
    "#     layer.trainable=True\n",
    "# edge_learning_model.get_layer(\"edge_output\").trainable = False\n",
    "# # Apply the received gradients\n",
    "# grad_updates = [(gradients[10], edge_learning_model.trainable_variables[-2])]\n",
    "# optimizer.apply_gradients(grad_updates)"
   ]
  },
  {
   "cell_type": "code",
   "execution_count": 19,
   "metadata": {},
   "outputs": [],
   "source": [
    "# control_model.summary()\n",
    "# edge_model.summary()"
   ]
  },
  {
   "cell_type": "code",
   "execution_count": 20,
   "metadata": {},
   "outputs": [],
   "source": [
    "# edge_learning_model = tf.keras.models.load_model(\"../deployment/models/edge_model.keras\")\n",
    "# for layer in edge_learning_model.layers:\n",
    "#     layer.trainable = True\n",
    "# edge_learning_model.get_layer(\"edge_output\").trainable=False"
   ]
  },
  {
   "cell_type": "code",
   "execution_count": null,
   "metadata": {},
   "outputs": [],
   "source": []
  },
  {
   "cell_type": "code",
   "execution_count": 21,
   "metadata": {},
   "outputs": [
    {
     "name": "stdout",
     "output_type": "stream",
     "text": [
      "[[0.0000e+00 0.0000e+00 8.7000e+00 0.0000e+00 8.6000e+00 8.5000e+00\n",
      "  1.1100e+01 9.9000e+01 1.0031e+03 2.0000e+00 1.2000e+01 2.0000e+00\n",
      "  3.5000e+02 6.1000e+01 6.6000e+01 0.0000e+00 1.5000e+04 4.5000e+01\n",
      "  8.0000e+00]]\n",
      "[<Variable path=e1/kernel, shape=(19, 64), dtype=float32, value=[[-2.6573771e-01  4.1963282e-01 -6.9021044e+00 ... -6.3333832e-02\n",
      "   1.8328018e-01 -2.3332907e-01]\n",
      " [-1.5872814e-01 -1.7659296e-01 -2.2302914e+00 ... -3.8706038e-02\n",
      "   3.2268986e-01  1.5744790e-01]\n",
      " [ 6.2916189e-02 -1.6619353e-01  1.7655957e-01 ... -1.3904998e-01\n",
      "   4.8682518e-02 -1.7637646e-01]\n",
      " ...\n",
      " [-3.3217636e-01 -1.3478510e-01 -5.7403995e-03 ...  1.5349241e-01\n",
      "   2.3962392e-02  2.1852884e-03]\n",
      " [-2.1697301e-01 -3.8918626e-02 -1.8884225e-02 ...  8.7985210e-02\n",
      "  -2.0280710e-01  1.3662296e-02]\n",
      " [-1.4357294e-01 -4.8413452e-02  3.4863114e-02 ...  1.3774540e-02\n",
      "   6.0951140e-02  4.8851609e-02]]>, <Variable path=e1/bias, shape=(64,), dtype=float32, value=[-0.17048174 -0.20096089 -0.04104858 -0.02430137 -0.04245195 -0.25336808\n",
      "  0.02817336 -0.02633209 -0.06369809 -0.15690672  0.         -0.13664162\n",
      " -0.01701058 -0.15149322 -0.04527604 -0.03993614 -0.01015161 -0.05888187\n",
      " -0.13517742 -0.15451328  0.         -0.07278968  0.          0.\n",
      " -0.14364819 -0.05936887 -0.01956792 -0.05621662 -0.15908079 -0.07669775\n",
      "  0.         -0.10396439  0.         -0.1369417   0.          0.\n",
      " -0.04508407 -0.01758796 -0.03568331 -0.02988929 -0.05146546 -0.12937894\n",
      " -0.20407203  0.         -0.11294676 -0.02131979 -0.03356363 -0.05182259\n",
      " -0.12662332  0.          0.         -0.19079357 -0.10680822 -0.19889887\n",
      " -0.02968273 -0.1732647  -0.10916639 -0.06814924  0.         -0.02672316\n",
      "  0.         -0.06502677 -0.03646784 -0.02104864]>, <Variable path=e2/kernel, shape=(64, 32), dtype=float32, value=[[-0.03261458 -0.18515182  0.03622352 ...  0.20011067 -0.17898719\n",
      "  -0.23029763]\n",
      " [ 0.05297916 -0.18798372  0.07712539 ... -0.20117402  0.06139305\n",
      "   0.05757807]\n",
      " [ 0.02646169 -0.06917533 -0.10946157 ... -0.29198435  0.19805507\n",
      "  -0.01961727]\n",
      " ...\n",
      " [ 0.21121435 -0.11892793 -0.08474583 ... -0.12380368 -0.14017294\n",
      "   0.12875412]\n",
      " [-0.04092233 -0.02162409  0.19803306 ...  0.18414754  0.01167347\n",
      "   0.18656698]\n",
      " [-0.06472034 -0.03838718 -0.16564873 ... -0.00224137  0.04302817\n",
      "  -0.3396507 ]]>, <Variable path=e2/bias, shape=(32,), dtype=float32, value=[ 0.0028357  -0.0317566  -0.06257118 -0.04013004 -0.04317634 -0.00539486\n",
      " -0.14064054 -0.03678332 -0.03583336 -0.03367263 -0.01329036 -0.06168041\n",
      " -0.10758935 -0.07550673 -0.05389007  0.         -0.01278354  0.24236327\n",
      " -0.10796829 -0.00620438  0.00550177 -0.13435541  0.         -0.016542\n",
      " -0.18395898  0.         -0.02216484 -0.03896352 -0.13492464 -0.06304712\n",
      " -0.08773388  0.02396068]>]\n"
     ]
    },
    {
     "data": {
      "text/plain": [
       "<Variable path=adam/iteration, shape=(), dtype=int64, value=1>"
      ]
     },
     "execution_count": 21,
     "metadata": {},
     "output_type": "execute_result"
    }
   ],
   "source": [
    "import tensorflow as tf\n",
    "import numpy as np\n",
    "\n",
    "# Load edge model\n",
    "edge_learning_model = tf.keras.models.load_model(\"../deployment/models/edge_model.keras\")\n",
    "input_data = np.array([[0,0,8.7,0,8.6,8.5,11.1,99,1003.1,2,12,2,350,61,66,0.0,15000,45,8]], dtype=np.float32)\n",
    "print(input_data)\n",
    "edge_learning_model = tf.keras.models.load_model(\"../deployment/models/edge_model.keras\")\n",
    "for layer in edge_learning_model.layers:\n",
    "    layer.trainable = True\n",
    "edge_learning_model.get_layer(\"edge_output\").trainable=False\n",
    "\n",
    "# Reinitialize the optimizer\n",
    "print(edge_learning_model.trainable_variables)\n",
    "optimizer = tf.keras.optimizers.Adam(learning_rate=0.0001)\n",
    "edge_learning_model.compile(optimizer=optimizer, loss='mean_squared_error', metrics=['mae'])\n",
    "\n",
    "# Assume edge_output_grad is received from the control machine\n",
    "edge_output_grad = tf.convert_to_tensor(edge_output_grad, dtype=tf.float32)\n",
    "edge_output_grad_temp=edge_output_grad\n",
    "# Perform backpropagation on edge model\n",
    "with tf.GradientTape() as tape:\n",
    "    edge_output = edge_learning_model(input_data, training=True)  # Forward pass\n",
    "tape.watch(edge_output)\n",
    "\n",
    "# Compute edge model gradients\n",
    "edge_model_grads = tape.gradient(edge_output, edge_learning_model.trainable_variables, output_gradients=edge_output_grad)\n",
    "\n",
    "# Apply gradients to update edge model\n",
    "optimizer.apply_gradients(zip(edge_model_grads, edge_learning_model.trainable_variables))\n",
    "\n",
    "#Output layer for inference now needs to be retrained so just unfreeze it and refreeze other layers \n"
   ]
  },
  {
   "cell_type": "markdown",
   "metadata": {},
   "source": [
    "# S1"
   ]
  },
  {
   "cell_type": "code",
   "execution_count": 22,
   "metadata": {},
   "outputs": [
    {
     "name": "stdout",
     "output_type": "stream",
     "text": [
      "date     0\n",
      "ind      0\n",
      "rain     0\n",
      "ind1     0\n",
      "temp     0\n",
      "ind2     0\n",
      "wetb     0\n",
      "dewpt    0\n",
      "vappr    0\n",
      "rhum     0\n",
      "msl      0\n",
      "ind3     0\n",
      "wdsp     0\n",
      "ind4     0\n",
      "wddir    0\n",
      "ww       0\n",
      "w        0\n",
      "sun      0\n",
      "vis      0\n",
      "clht     0\n",
      "clamt    0\n",
      "dtype: int64\n",
      "Epoch 1/20\n",
      "\u001b[1m3184/3184\u001b[0m \u001b[32m━━━━━━━━━━━━━━━━━━━━\u001b[0m\u001b[37m\u001b[0m \u001b[1m5s\u001b[0m 1ms/step - control_output_loss: 1527.8674 - control_output_mae: 4.3009 - edge_output_loss: 133042.8281 - edge_output_mae: 71.3840 - loss: 134570.6562 - val_control_output_loss: 3.8620 - val_control_output_mae: 1.6879 - val_edge_output_loss: 8.3348 - val_edge_output_mae: 2.4276 - val_loss: 12.1974\n",
      "Epoch 2/20\n",
      "\u001b[1m3184/3184\u001b[0m \u001b[32m━━━━━━━━━━━━━━━━━━━━\u001b[0m\u001b[37m\u001b[0m \u001b[1m4s\u001b[0m 1ms/step - control_output_loss: 1.9459 - control_output_mae: 0.4858 - edge_output_loss: 3.2221 - edge_output_mae: 1.2142 - loss: 5.1680 - val_control_output_loss: 0.8602 - val_control_output_mae: 0.7588 - val_edge_output_loss: 3.9321 - val_edge_output_mae: 1.7691 - val_loss: 4.7925\n",
      "Epoch 3/20\n",
      "\u001b[1m3184/3184\u001b[0m \u001b[32m━━━━━━━━━━━━━━━━━━━━\u001b[0m\u001b[37m\u001b[0m \u001b[1m4s\u001b[0m 1ms/step - control_output_loss: 0.3897 - control_output_mae: 0.3657 - edge_output_loss: 32.0676 - edge_output_mae: 2.2313 - loss: 32.4573 - val_control_output_loss: 0.7395 - val_control_output_mae: 0.6879 - val_edge_output_loss: 2.2649 - val_edge_output_mae: 1.2683 - val_loss: 3.0048\n",
      "Epoch 4/20\n",
      "\u001b[1m3184/3184\u001b[0m \u001b[32m━━━━━━━━━━━━━━━━━━━━\u001b[0m\u001b[37m\u001b[0m \u001b[1m4s\u001b[0m 1ms/step - control_output_loss: 0.2894 - control_output_mae: 0.2688 - edge_output_loss: 18.7586 - edge_output_mae: 1.4949 - loss: 19.0479 - val_control_output_loss: 0.3721 - val_control_output_mae: 0.4490 - val_edge_output_loss: 11689.4043 - val_edge_output_mae: 93.3974 - val_loss: 11690.3262\n",
      "Epoch 5/20\n",
      "\u001b[1m3184/3184\u001b[0m \u001b[32m━━━━━━━━━━━━━━━━━━━━\u001b[0m\u001b[37m\u001b[0m \u001b[1m4s\u001b[0m 1ms/step - control_output_loss: 0.2504 - control_output_mae: 0.2199 - edge_output_loss: 156.3282 - edge_output_mae: 3.9535 - loss: 156.5785 - val_control_output_loss: 0.2597 - val_control_output_mae: 0.2072 - val_edge_output_loss: 0.4407 - val_edge_output_mae: 0.4107 - val_loss: 0.7005\n",
      "Epoch 6/20\n",
      "\u001b[1m3184/3184\u001b[0m \u001b[32m━━━━━━━━━━━━━━━━━━━━\u001b[0m\u001b[37m\u001b[0m \u001b[1m4s\u001b[0m 1ms/step - control_output_loss: 0.2612 - control_output_mae: 0.2157 - edge_output_loss: 31.1962 - edge_output_mae: 2.3104 - loss: 31.4574 - val_control_output_loss: 0.2597 - val_control_output_mae: 0.2145 - val_edge_output_loss: 0.3193 - val_edge_output_mae: 0.3064 - val_loss: 0.5791\n",
      "Epoch 7/20\n",
      "\u001b[1m3184/3184\u001b[0m \u001b[32m━━━━━━━━━━━━━━━━━━━━\u001b[0m\u001b[37m\u001b[0m \u001b[1m4s\u001b[0m 1ms/step - control_output_loss: 0.2607 - control_output_mae: 0.2084 - edge_output_loss: 36.6236 - edge_output_mae: 2.1807 - loss: 36.8843 - val_control_output_loss: 0.2813 - val_control_output_mae: 0.1994 - val_edge_output_loss: 0.5248 - val_edge_output_mae: 0.5053 - val_loss: 0.8062\n",
      "Epoch 8/20\n",
      "\u001b[1m3184/3184\u001b[0m \u001b[32m━━━━━━━━━━━━━━━━━━━━\u001b[0m\u001b[37m\u001b[0m \u001b[1m4s\u001b[0m 1ms/step - control_output_loss: 0.2872 - control_output_mae: 0.2028 - edge_output_loss: 49.7121 - edge_output_mae: 2.6339 - loss: 49.9994 - val_control_output_loss: 0.2687 - val_control_output_mae: 0.2031 - val_edge_output_loss: 0.3339 - val_edge_output_mae: 0.3465 - val_loss: 0.6027\n",
      "Epoch 9/20\n",
      "\u001b[1m3184/3184\u001b[0m \u001b[32m━━━━━━━━━━━━━━━━━━━━\u001b[0m\u001b[37m\u001b[0m \u001b[1m4s\u001b[0m 1ms/step - control_output_loss: 0.2735 - control_output_mae: 0.1985 - edge_output_loss: 18.5509 - edge_output_mae: 1.7039 - loss: 18.8243 - val_control_output_loss: 0.2634 - val_control_output_mae: 0.2071 - val_edge_output_loss: 0.4518 - val_edge_output_mae: 0.4727 - val_loss: 0.7153\n",
      "Epoch 10/20\n",
      "\u001b[1m3184/3184\u001b[0m \u001b[32m━━━━━━━━━━━━━━━━━━━━\u001b[0m\u001b[37m\u001b[0m \u001b[1m4s\u001b[0m 1ms/step - control_output_loss: 0.2697 - control_output_mae: 0.1967 - edge_output_loss: 37.2053 - edge_output_mae: 2.3176 - loss: 37.4749 - val_control_output_loss: 0.2710 - val_control_output_mae: 0.1883 - val_edge_output_loss: 0.6416 - val_edge_output_mae: 0.6395 - val_loss: 0.9127\n",
      "Epoch 11/20\n",
      "\u001b[1m3184/3184\u001b[0m \u001b[32m━━━━━━━━━━━━━━━━━━━━\u001b[0m\u001b[37m\u001b[0m \u001b[1m4s\u001b[0m 1ms/step - control_output_loss: 0.2819 - control_output_mae: 0.2031 - edge_output_loss: 34.2649 - edge_output_mae: 2.4811 - loss: 34.5468 - val_control_output_loss: 0.2598 - val_control_output_mae: 0.1926 - val_edge_output_loss: 0.2850 - val_edge_output_mae: 0.2981 - val_loss: 0.5449\n",
      "Epoch 12/20\n",
      "\u001b[1m3184/3184\u001b[0m \u001b[32m━━━━━━━━━━━━━━━━━━━━\u001b[0m\u001b[37m\u001b[0m \u001b[1m4s\u001b[0m 1ms/step - control_output_loss: 0.2567 - control_output_mae: 0.1957 - edge_output_loss: 39.1037 - edge_output_mae: 3.1358 - loss: 39.3604 - val_control_output_loss: 0.2603 - val_control_output_mae: 0.1851 - val_edge_output_loss: 3.1775 - val_edge_output_mae: 1.5236 - val_loss: 3.4380\n",
      "Epoch 13/20\n",
      "\u001b[1m3184/3184\u001b[0m \u001b[32m━━━━━━━━━━━━━━━━━━━━\u001b[0m\u001b[37m\u001b[0m \u001b[1m4s\u001b[0m 1ms/step - control_output_loss: 0.2712 - control_output_mae: 0.1948 - edge_output_loss: 19.6447 - edge_output_mae: 1.6223 - loss: 19.9159 - val_control_output_loss: 0.2588 - val_control_output_mae: 0.1753 - val_edge_output_loss: 1.1320 - val_edge_output_mae: 0.9463 - val_loss: 1.3909\n",
      "Epoch 14/20\n",
      "\u001b[1m3184/3184\u001b[0m \u001b[32m━━━━━━━━━━━━━━━━━━━━\u001b[0m\u001b[37m\u001b[0m \u001b[1m4s\u001b[0m 1ms/step - control_output_loss: 0.2497 - control_output_mae: 0.1904 - edge_output_loss: 13.0939 - edge_output_mae: 1.0070 - loss: 13.3436 - val_control_output_loss: 0.2579 - val_control_output_mae: 0.1791 - val_edge_output_loss: 0.5923 - val_edge_output_mae: 0.5816 - val_loss: 0.8503\n",
      "Epoch 15/20\n",
      "\u001b[1m3184/3184\u001b[0m \u001b[32m━━━━━━━━━━━━━━━━━━━━\u001b[0m\u001b[37m\u001b[0m \u001b[1m4s\u001b[0m 1ms/step - control_output_loss: 0.2583 - control_output_mae: 0.1905 - edge_output_loss: 29.6628 - edge_output_mae: 1.6055 - loss: 29.9211 - val_control_output_loss: 0.2607 - val_control_output_mae: 0.1876 - val_edge_output_loss: 29.5102 - val_edge_output_mae: 4.6904 - val_loss: 29.7726\n",
      "Epoch 16/20\n",
      "\u001b[1m3184/3184\u001b[0m \u001b[32m━━━━━━━━━━━━━━━━━━━━\u001b[0m\u001b[37m\u001b[0m \u001b[1m4s\u001b[0m 1ms/step - control_output_loss: 0.2662 - control_output_mae: 0.1909 - edge_output_loss: 44.6292 - edge_output_mae: 2.8741 - loss: 44.8954 - val_control_output_loss: 0.2585 - val_control_output_mae: 0.1887 - val_edge_output_loss: 252.8558 - val_edge_output_mae: 14.1234 - val_loss: 253.1247\n",
      "Epoch 17/20\n",
      "\u001b[1m3184/3184\u001b[0m \u001b[32m━━━━━━━━━━━━━━━━━━━━\u001b[0m\u001b[37m\u001b[0m \u001b[1m4s\u001b[0m 1ms/step - control_output_loss: 0.2687 - control_output_mae: 0.1874 - edge_output_loss: 57.1582 - edge_output_mae: 3.2582 - loss: 57.4269 - val_control_output_loss: 0.2578 - val_control_output_mae: 0.1700 - val_edge_output_loss: 2.6360 - val_edge_output_mae: 1.4573 - val_loss: 2.8940\n",
      "Epoch 18/20\n",
      "\u001b[1m3184/3184\u001b[0m \u001b[32m━━━━━━━━━━━━━━━━━━━━\u001b[0m\u001b[37m\u001b[0m \u001b[1m4s\u001b[0m 1ms/step - control_output_loss: 0.2657 - control_output_mae: 0.1902 - edge_output_loss: 67.1182 - edge_output_mae: 2.6512 - loss: 67.3840 - val_control_output_loss: 0.2575 - val_control_output_mae: 0.1834 - val_edge_output_loss: 0.2753 - val_edge_output_mae: 0.2710 - val_loss: 0.5330\n",
      "Epoch 19/20\n",
      "\u001b[1m3184/3184\u001b[0m \u001b[32m━━━━━━━━━━━━━━━━━━━━\u001b[0m\u001b[37m\u001b[0m \u001b[1m4s\u001b[0m 1ms/step - control_output_loss: 0.2691 - control_output_mae: 0.1917 - edge_output_loss: 45.2429 - edge_output_mae: 2.4217 - loss: 45.5118 - val_control_output_loss: 0.2564 - val_control_output_mae: 0.1899 - val_edge_output_loss: 33.4016 - val_edge_output_mae: 4.7454 - val_loss: 33.6602\n",
      "Epoch 20/20\n",
      "\u001b[1m3184/3184\u001b[0m \u001b[32m━━━━━━━━━━━━━━━━━━━━\u001b[0m\u001b[37m\u001b[0m \u001b[1m4s\u001b[0m 1ms/step - control_output_loss: 0.2630 - control_output_mae: 0.1873 - edge_output_loss: 52.0105 - edge_output_mae: 2.8469 - loss: 52.2736 - val_control_output_loss: 0.2583 - val_control_output_mae: 0.2015 - val_edge_output_loss: 0.3755 - val_edge_output_mae: 0.4571 - val_loss: 0.6339\n",
      "Epoch 1/10\n",
      "\u001b[1m3184/3184\u001b[0m \u001b[32m━━━━━━━━━━━━━━━━━━━━\u001b[0m\u001b[37m\u001b[0m \u001b[1m2s\u001b[0m 423us/step - edge_output_mae: 1.5743 - loss: 36.1005 - val_edge_output_mae: 3.2118 - val_loss: 13.6137\n",
      "Epoch 2/10\n",
      "\u001b[1m3184/3184\u001b[0m \u001b[32m━━━━━━━━━━━━━━━━━━━━\u001b[0m\u001b[37m\u001b[0m \u001b[1m1s\u001b[0m 406us/step - edge_output_mae: 1.2705 - loss: 6.3779 - val_edge_output_mae: 1.6033 - val_loss: 3.3392\n",
      "Epoch 3/10\n",
      "\u001b[1m3184/3184\u001b[0m \u001b[32m━━━━━━━━━━━━━━━━━━━━\u001b[0m\u001b[37m\u001b[0m \u001b[1m1s\u001b[0m 402us/step - edge_output_mae: 1.2709 - loss: 8.1990 - val_edge_output_mae: 1.2745 - val_loss: 2.2186\n",
      "Epoch 4/10\n",
      "\u001b[1m3184/3184\u001b[0m \u001b[32m━━━━━━━━━━━━━━━━━━━━\u001b[0m\u001b[37m\u001b[0m \u001b[1m1s\u001b[0m 401us/step - edge_output_mae: 1.1749 - loss: 8.6733 - val_edge_output_mae: 3.1965 - val_loss: 13.4769\n",
      "Epoch 5/10\n",
      "\u001b[1m3184/3184\u001b[0m \u001b[32m━━━━━━━━━━━━━━━━━━━━\u001b[0m\u001b[37m\u001b[0m \u001b[1m1s\u001b[0m 402us/step - edge_output_mae: 1.0307 - loss: 4.2186 - val_edge_output_mae: 0.2905 - val_loss: 0.2637\n",
      "Epoch 6/10\n",
      "\u001b[1m3184/3184\u001b[0m \u001b[32m━━━━━━━━━━━━━━━━━━━━\u001b[0m\u001b[37m\u001b[0m \u001b[1m1s\u001b[0m 403us/step - edge_output_mae: 0.9605 - loss: 3.5082 - val_edge_output_mae: 1.8489 - val_loss: 4.6318\n",
      "Epoch 7/10\n",
      "\u001b[1m3184/3184\u001b[0m \u001b[32m━━━━━━━━━━━━━━━━━━━━\u001b[0m\u001b[37m\u001b[0m \u001b[1m1s\u001b[0m 404us/step - edge_output_mae: 1.0244 - loss: 5.2484 - val_edge_output_mae: 0.3045 - val_loss: 0.2783\n",
      "Epoch 8/10\n",
      "\u001b[1m3184/3184\u001b[0m \u001b[32m━━━━━━━━━━━━━━━━━━━━\u001b[0m\u001b[37m\u001b[0m \u001b[1m1s\u001b[0m 405us/step - edge_output_mae: 0.9348 - loss: 5.4099 - val_edge_output_mae: 0.8201 - val_loss: 0.9935\n",
      "Epoch 9/10\n",
      "\u001b[1m3184/3184\u001b[0m \u001b[32m━━━━━━━━━━━━━━━━━━━━\u001b[0m\u001b[37m\u001b[0m \u001b[1m1s\u001b[0m 407us/step - edge_output_mae: 0.9489 - loss: 3.9205 - val_edge_output_mae: 0.4795 - val_loss: 0.4340\n",
      "Epoch 10/10\n",
      "\u001b[1m3184/3184\u001b[0m \u001b[32m━━━━━━━━━━━━━━━━━━━━\u001b[0m\u001b[37m\u001b[0m \u001b[1m1s\u001b[0m 404us/step - edge_output_mae: 1.1607 - loss: 5.9106 - val_edge_output_mae: 2.0281 - val_loss: 5.3051\n"
     ]
    },
    {
     "data": {
      "text/html": [
       "<pre style=\"white-space:pre;overflow-x:auto;line-height:normal;font-family:Menlo,'DejaVu Sans Mono',consolas,'Courier New',monospace\"><span style=\"font-weight: bold\">Model: \"functional_7\"</span>\n",
       "</pre>\n"
      ],
      "text/plain": [
       "\u001b[1mModel: \"functional_7\"\u001b[0m\n"
      ]
     },
     "metadata": {},
     "output_type": "display_data"
    },
    {
     "data": {
      "text/html": [
       "<pre style=\"white-space:pre;overflow-x:auto;line-height:normal;font-family:Menlo,'DejaVu Sans Mono',consolas,'Courier New',monospace\">┏━━━━━━━━━━━━━━━━━━━━━━━━━━━━━━━━━┳━━━━━━━━━━━━━━━━━━━━━━━━┳━━━━━━━━━━━━━━━┓\n",
       "┃<span style=\"font-weight: bold\"> Layer (type)                    </span>┃<span style=\"font-weight: bold\"> Output Shape           </span>┃<span style=\"font-weight: bold\">       Param # </span>┃\n",
       "┡━━━━━━━━━━━━━━━━━━━━━━━━━━━━━━━━━╇━━━━━━━━━━━━━━━━━━━━━━━━╇━━━━━━━━━━━━━━━┩\n",
       "│ input_layer_4 (<span style=\"color: #0087ff; text-decoration-color: #0087ff\">InputLayer</span>)      │ (<span style=\"color: #00d7ff; text-decoration-color: #00d7ff\">None</span>, <span style=\"color: #00af00; text-decoration-color: #00af00\">19</span>)             │             <span style=\"color: #00af00; text-decoration-color: #00af00\">0</span> │\n",
       "├─────────────────────────────────┼────────────────────────┼───────────────┤\n",
       "│ e1 (<span style=\"color: #0087ff; text-decoration-color: #0087ff\">Dense</span>)                      │ (<span style=\"color: #00d7ff; text-decoration-color: #00d7ff\">None</span>, <span style=\"color: #00af00; text-decoration-color: #00af00\">32</span>)             │           <span style=\"color: #00af00; text-decoration-color: #00af00\">640</span> │\n",
       "├─────────────────────────────────┼────────────────────────┼───────────────┤\n",
       "│ edge_output (<span style=\"color: #0087ff; text-decoration-color: #0087ff\">Dense</span>)             │ (<span style=\"color: #00d7ff; text-decoration-color: #00d7ff\">None</span>, <span style=\"color: #00af00; text-decoration-color: #00af00\">1</span>)              │            <span style=\"color: #00af00; text-decoration-color: #00af00\">33</span> │\n",
       "└─────────────────────────────────┴────────────────────────┴───────────────┘\n",
       "</pre>\n"
      ],
      "text/plain": [
       "┏━━━━━━━━━━━━━━━━━━━━━━━━━━━━━━━━━┳━━━━━━━━━━━━━━━━━━━━━━━━┳━━━━━━━━━━━━━━━┓\n",
       "┃\u001b[1m \u001b[0m\u001b[1mLayer (type)                   \u001b[0m\u001b[1m \u001b[0m┃\u001b[1m \u001b[0m\u001b[1mOutput Shape          \u001b[0m\u001b[1m \u001b[0m┃\u001b[1m \u001b[0m\u001b[1m      Param #\u001b[0m\u001b[1m \u001b[0m┃\n",
       "┡━━━━━━━━━━━━━━━━━━━━━━━━━━━━━━━━━╇━━━━━━━━━━━━━━━━━━━━━━━━╇━━━━━━━━━━━━━━━┩\n",
       "│ input_layer_4 (\u001b[38;5;33mInputLayer\u001b[0m)      │ (\u001b[38;5;45mNone\u001b[0m, \u001b[38;5;34m19\u001b[0m)             │             \u001b[38;5;34m0\u001b[0m │\n",
       "├─────────────────────────────────┼────────────────────────┼───────────────┤\n",
       "│ e1 (\u001b[38;5;33mDense\u001b[0m)                      │ (\u001b[38;5;45mNone\u001b[0m, \u001b[38;5;34m32\u001b[0m)             │           \u001b[38;5;34m640\u001b[0m │\n",
       "├─────────────────────────────────┼────────────────────────┼───────────────┤\n",
       "│ edge_output (\u001b[38;5;33mDense\u001b[0m)             │ (\u001b[38;5;45mNone\u001b[0m, \u001b[38;5;34m1\u001b[0m)              │            \u001b[38;5;34m33\u001b[0m │\n",
       "└─────────────────────────────────┴────────────────────────┴───────────────┘\n"
      ]
     },
     "metadata": {},
     "output_type": "display_data"
    },
    {
     "data": {
      "text/html": [
       "<pre style=\"white-space:pre;overflow-x:auto;line-height:normal;font-family:Menlo,'DejaVu Sans Mono',consolas,'Courier New',monospace\"><span style=\"font-weight: bold\"> Total params: </span><span style=\"color: #00af00; text-decoration-color: #00af00\">741</span> (2.90 KB)\n",
       "</pre>\n"
      ],
      "text/plain": [
       "\u001b[1m Total params: \u001b[0m\u001b[38;5;34m741\u001b[0m (2.90 KB)\n"
      ]
     },
     "metadata": {},
     "output_type": "display_data"
    },
    {
     "data": {
      "text/html": [
       "<pre style=\"white-space:pre;overflow-x:auto;line-height:normal;font-family:Menlo,'DejaVu Sans Mono',consolas,'Courier New',monospace\"><span style=\"font-weight: bold\"> Trainable params: </span><span style=\"color: #00af00; text-decoration-color: #00af00\">33</span> (132.00 B)\n",
       "</pre>\n"
      ],
      "text/plain": [
       "\u001b[1m Trainable params: \u001b[0m\u001b[38;5;34m33\u001b[0m (132.00 B)\n"
      ]
     },
     "metadata": {},
     "output_type": "display_data"
    },
    {
     "data": {
      "text/html": [
       "<pre style=\"white-space:pre;overflow-x:auto;line-height:normal;font-family:Menlo,'DejaVu Sans Mono',consolas,'Courier New',monospace\"><span style=\"font-weight: bold\"> Non-trainable params: </span><span style=\"color: #00af00; text-decoration-color: #00af00\">640</span> (2.50 KB)\n",
       "</pre>\n"
      ],
      "text/plain": [
       "\u001b[1m Non-trainable params: \u001b[0m\u001b[38;5;34m640\u001b[0m (2.50 KB)\n"
      ]
     },
     "metadata": {},
     "output_type": "display_data"
    },
    {
     "data": {
      "text/html": [
       "<pre style=\"white-space:pre;overflow-x:auto;line-height:normal;font-family:Menlo,'DejaVu Sans Mono',consolas,'Courier New',monospace\"><span style=\"font-weight: bold\"> Optimizer params: </span><span style=\"color: #00af00; text-decoration-color: #00af00\">68</span> (276.00 B)\n",
       "</pre>\n"
      ],
      "text/plain": [
       "\u001b[1m Optimizer params: \u001b[0m\u001b[38;5;34m68\u001b[0m (276.00 B)\n"
      ]
     },
     "metadata": {},
     "output_type": "display_data"
    },
    {
     "data": {
      "text/html": [
       "<pre style=\"white-space:pre;overflow-x:auto;line-height:normal;font-family:Menlo,'DejaVu Sans Mono',consolas,'Courier New',monospace\"><span style=\"font-weight: bold\">Model: \"functional_8\"</span>\n",
       "</pre>\n"
      ],
      "text/plain": [
       "\u001b[1mModel: \"functional_8\"\u001b[0m\n"
      ]
     },
     "metadata": {},
     "output_type": "display_data"
    },
    {
     "data": {
      "text/html": [
       "<pre style=\"white-space:pre;overflow-x:auto;line-height:normal;font-family:Menlo,'DejaVu Sans Mono',consolas,'Courier New',monospace\">┏━━━━━━━━━━━━━━━━━━━━━━━━━━━━━━━━━┳━━━━━━━━━━━━━━━━━━━━━━━━┳━━━━━━━━━━━━━━━┓\n",
       "┃<span style=\"font-weight: bold\"> Layer (type)                    </span>┃<span style=\"font-weight: bold\"> Output Shape           </span>┃<span style=\"font-weight: bold\">       Param # </span>┃\n",
       "┡━━━━━━━━━━━━━━━━━━━━━━━━━━━━━━━━━╇━━━━━━━━━━━━━━━━━━━━━━━━╇━━━━━━━━━━━━━━━┩\n",
       "│ input_layer_5 (<span style=\"color: #0087ff; text-decoration-color: #0087ff\">InputLayer</span>)      │ (<span style=\"color: #00d7ff; text-decoration-color: #00d7ff\">None</span>, <span style=\"color: #00af00; text-decoration-color: #00af00\">32</span>)             │             <span style=\"color: #00af00; text-decoration-color: #00af00\">0</span> │\n",
       "├─────────────────────────────────┼────────────────────────┼───────────────┤\n",
       "│ controlmodel (<span style=\"color: #0087ff; text-decoration-color: #0087ff\">Dense</span>)            │ (<span style=\"color: #00d7ff; text-decoration-color: #00d7ff\">None</span>, <span style=\"color: #00af00; text-decoration-color: #00af00\">64</span>)             │         <span style=\"color: #00af00; text-decoration-color: #00af00\">2,112</span> │\n",
       "├─────────────────────────────────┼────────────────────────┼───────────────┤\n",
       "│ l1 (<span style=\"color: #0087ff; text-decoration-color: #0087ff\">Dense</span>)                      │ (<span style=\"color: #00d7ff; text-decoration-color: #00d7ff\">None</span>, <span style=\"color: #00af00; text-decoration-color: #00af00\">64</span>)             │         <span style=\"color: #00af00; text-decoration-color: #00af00\">4,160</span> │\n",
       "├─────────────────────────────────┼────────────────────────┼───────────────┤\n",
       "│ l2 (<span style=\"color: #0087ff; text-decoration-color: #0087ff\">Dense</span>)                      │ (<span style=\"color: #00d7ff; text-decoration-color: #00d7ff\">None</span>, <span style=\"color: #00af00; text-decoration-color: #00af00\">128</span>)            │         <span style=\"color: #00af00; text-decoration-color: #00af00\">8,320</span> │\n",
       "├─────────────────────────────────┼────────────────────────┼───────────────┤\n",
       "│ l3 (<span style=\"color: #0087ff; text-decoration-color: #0087ff\">Dense</span>)                      │ (<span style=\"color: #00d7ff; text-decoration-color: #00d7ff\">None</span>, <span style=\"color: #00af00; text-decoration-color: #00af00\">256</span>)            │        <span style=\"color: #00af00; text-decoration-color: #00af00\">33,024</span> │\n",
       "├─────────────────────────────────┼────────────────────────┼───────────────┤\n",
       "│ l4 (<span style=\"color: #0087ff; text-decoration-color: #0087ff\">Dense</span>)                      │ (<span style=\"color: #00d7ff; text-decoration-color: #00d7ff\">None</span>, <span style=\"color: #00af00; text-decoration-color: #00af00\">128</span>)            │        <span style=\"color: #00af00; text-decoration-color: #00af00\">32,896</span> │\n",
       "├─────────────────────────────────┼────────────────────────┼───────────────┤\n",
       "│ l5 (<span style=\"color: #0087ff; text-decoration-color: #0087ff\">Dense</span>)                      │ (<span style=\"color: #00d7ff; text-decoration-color: #00d7ff\">None</span>, <span style=\"color: #00af00; text-decoration-color: #00af00\">64</span>)             │         <span style=\"color: #00af00; text-decoration-color: #00af00\">8,256</span> │\n",
       "├─────────────────────────────────┼────────────────────────┼───────────────┤\n",
       "│ l6 (<span style=\"color: #0087ff; text-decoration-color: #0087ff\">Dense</span>)                      │ (<span style=\"color: #00d7ff; text-decoration-color: #00d7ff\">None</span>, <span style=\"color: #00af00; text-decoration-color: #00af00\">64</span>)             │         <span style=\"color: #00af00; text-decoration-color: #00af00\">4,160</span> │\n",
       "├─────────────────────────────────┼────────────────────────┼───────────────┤\n",
       "│ control_output (<span style=\"color: #0087ff; text-decoration-color: #0087ff\">Dense</span>)          │ (<span style=\"color: #00d7ff; text-decoration-color: #00d7ff\">None</span>, <span style=\"color: #00af00; text-decoration-color: #00af00\">1</span>)              │            <span style=\"color: #00af00; text-decoration-color: #00af00\">65</span> │\n",
       "└─────────────────────────────────┴────────────────────────┴───────────────┘\n",
       "</pre>\n"
      ],
      "text/plain": [
       "┏━━━━━━━━━━━━━━━━━━━━━━━━━━━━━━━━━┳━━━━━━━━━━━━━━━━━━━━━━━━┳━━━━━━━━━━━━━━━┓\n",
       "┃\u001b[1m \u001b[0m\u001b[1mLayer (type)                   \u001b[0m\u001b[1m \u001b[0m┃\u001b[1m \u001b[0m\u001b[1mOutput Shape          \u001b[0m\u001b[1m \u001b[0m┃\u001b[1m \u001b[0m\u001b[1m      Param #\u001b[0m\u001b[1m \u001b[0m┃\n",
       "┡━━━━━━━━━━━━━━━━━━━━━━━━━━━━━━━━━╇━━━━━━━━━━━━━━━━━━━━━━━━╇━━━━━━━━━━━━━━━┩\n",
       "│ input_layer_5 (\u001b[38;5;33mInputLayer\u001b[0m)      │ (\u001b[38;5;45mNone\u001b[0m, \u001b[38;5;34m32\u001b[0m)             │             \u001b[38;5;34m0\u001b[0m │\n",
       "├─────────────────────────────────┼────────────────────────┼───────────────┤\n",
       "│ controlmodel (\u001b[38;5;33mDense\u001b[0m)            │ (\u001b[38;5;45mNone\u001b[0m, \u001b[38;5;34m64\u001b[0m)             │         \u001b[38;5;34m2,112\u001b[0m │\n",
       "├─────────────────────────────────┼────────────────────────┼───────────────┤\n",
       "│ l1 (\u001b[38;5;33mDense\u001b[0m)                      │ (\u001b[38;5;45mNone\u001b[0m, \u001b[38;5;34m64\u001b[0m)             │         \u001b[38;5;34m4,160\u001b[0m │\n",
       "├─────────────────────────────────┼────────────────────────┼───────────────┤\n",
       "│ l2 (\u001b[38;5;33mDense\u001b[0m)                      │ (\u001b[38;5;45mNone\u001b[0m, \u001b[38;5;34m128\u001b[0m)            │         \u001b[38;5;34m8,320\u001b[0m │\n",
       "├─────────────────────────────────┼────────────────────────┼───────────────┤\n",
       "│ l3 (\u001b[38;5;33mDense\u001b[0m)                      │ (\u001b[38;5;45mNone\u001b[0m, \u001b[38;5;34m256\u001b[0m)            │        \u001b[38;5;34m33,024\u001b[0m │\n",
       "├─────────────────────────────────┼────────────────────────┼───────────────┤\n",
       "│ l4 (\u001b[38;5;33mDense\u001b[0m)                      │ (\u001b[38;5;45mNone\u001b[0m, \u001b[38;5;34m128\u001b[0m)            │        \u001b[38;5;34m32,896\u001b[0m │\n",
       "├─────────────────────────────────┼────────────────────────┼───────────────┤\n",
       "│ l5 (\u001b[38;5;33mDense\u001b[0m)                      │ (\u001b[38;5;45mNone\u001b[0m, \u001b[38;5;34m64\u001b[0m)             │         \u001b[38;5;34m8,256\u001b[0m │\n",
       "├─────────────────────────────────┼────────────────────────┼───────────────┤\n",
       "│ l6 (\u001b[38;5;33mDense\u001b[0m)                      │ (\u001b[38;5;45mNone\u001b[0m, \u001b[38;5;34m64\u001b[0m)             │         \u001b[38;5;34m4,160\u001b[0m │\n",
       "├─────────────────────────────────┼────────────────────────┼───────────────┤\n",
       "│ control_output (\u001b[38;5;33mDense\u001b[0m)          │ (\u001b[38;5;45mNone\u001b[0m, \u001b[38;5;34m1\u001b[0m)              │            \u001b[38;5;34m65\u001b[0m │\n",
       "└─────────────────────────────────┴────────────────────────┴───────────────┘\n"
      ]
     },
     "metadata": {},
     "output_type": "display_data"
    },
    {
     "data": {
      "text/html": [
       "<pre style=\"white-space:pre;overflow-x:auto;line-height:normal;font-family:Menlo,'DejaVu Sans Mono',consolas,'Courier New',monospace\"><span style=\"font-weight: bold\"> Total params: </span><span style=\"color: #00af00; text-decoration-color: #00af00\">92,993</span> (363.25 KB)\n",
       "</pre>\n"
      ],
      "text/plain": [
       "\u001b[1m Total params: \u001b[0m\u001b[38;5;34m92,993\u001b[0m (363.25 KB)\n"
      ]
     },
     "metadata": {},
     "output_type": "display_data"
    },
    {
     "data": {
      "text/html": [
       "<pre style=\"white-space:pre;overflow-x:auto;line-height:normal;font-family:Menlo,'DejaVu Sans Mono',consolas,'Courier New',monospace\"><span style=\"font-weight: bold\"> Trainable params: </span><span style=\"color: #00af00; text-decoration-color: #00af00\">92,993</span> (363.25 KB)\n",
       "</pre>\n"
      ],
      "text/plain": [
       "\u001b[1m Trainable params: \u001b[0m\u001b[38;5;34m92,993\u001b[0m (363.25 KB)\n"
      ]
     },
     "metadata": {},
     "output_type": "display_data"
    },
    {
     "data": {
      "text/html": [
       "<pre style=\"white-space:pre;overflow-x:auto;line-height:normal;font-family:Menlo,'DejaVu Sans Mono',consolas,'Courier New',monospace\"><span style=\"font-weight: bold\"> Non-trainable params: </span><span style=\"color: #00af00; text-decoration-color: #00af00\">0</span> (0.00 B)\n",
       "</pre>\n"
      ],
      "text/plain": [
       "\u001b[1m Non-trainable params: \u001b[0m\u001b[38;5;34m0\u001b[0m (0.00 B)\n"
      ]
     },
     "metadata": {},
     "output_type": "display_data"
    },
    {
     "name": "stdout",
     "output_type": "stream",
     "text": [
      "INFO:tensorflow:Assets written to: expt/assets\n"
     ]
    },
    {
     "name": "stderr",
     "output_type": "stream",
     "text": [
      "INFO:tensorflow:Assets written to: expt/assets\n"
     ]
    },
    {
     "name": "stdout",
     "output_type": "stream",
     "text": [
      "Saved artifact at 'expt'. The following endpoints are available:\n",
      "\n",
      "* Endpoint 'serve'\n",
      "  args_0 (POSITIONAL_ONLY): TensorSpec(shape=(None, 19), dtype=tf.float32, name='keras_tensor_84')\n",
      "Output Type:\n",
      "  List[TensorSpec(shape=(None, 32), dtype=tf.float32, name=None), TensorSpec(shape=(None, 1), dtype=tf.float32, name=None)]\n",
      "Captures:\n",
      "  6427065424: TensorSpec(shape=(), dtype=tf.resource, name=None)\n",
      "  6427058128: TensorSpec(shape=(), dtype=tf.resource, name=None)\n",
      "  6427051600: TensorSpec(shape=(), dtype=tf.resource, name=None)\n",
      "  6427062736: TensorSpec(shape=(), dtype=tf.resource, name=None)\n"
     ]
    },
    {
     "name": "stderr",
     "output_type": "stream",
     "text": [
      "W0000 00:00:1743020583.272197 13507011 tf_tfl_flatbuffer_helpers.cc:365] Ignored output_format.\n",
      "W0000 00:00:1743020583.272699 13507011 tf_tfl_flatbuffer_helpers.cc:368] Ignored drop_control_dependency.\n",
      "2025-03-26 20:23:03.273597: I tensorflow/cc/saved_model/reader.cc:83] Reading SavedModel from: ./expt\n",
      "2025-03-26 20:23:03.273804: I tensorflow/cc/saved_model/reader.cc:52] Reading meta graph with tags { serve }\n",
      "2025-03-26 20:23:03.273809: I tensorflow/cc/saved_model/reader.cc:147] Reading SavedModel debug info (if present) from: ./expt\n",
      "2025-03-26 20:23:03.276271: I tensorflow/cc/saved_model/loader.cc:236] Restoring SavedModel bundle.\n",
      "2025-03-26 20:23:03.289776: I tensorflow/cc/saved_model/loader.cc:220] Running initialization op on SavedModel bundle at path: ./expt\n",
      "2025-03-26 20:23:03.292691: I tensorflow/cc/saved_model/loader.cc:466] SavedModel load for tags { serve }; Status: success: OK. Took 19096 microseconds.\n"
     ]
    }
   ],
   "source": [
    "## S+1\n",
    "\n",
    "import pandas as pd\n",
    "from sklearn.preprocessing import LabelEncoder\n",
    "from tensorflow.keras import Input, Model, layers\n",
    "from sklearn.model_selection import train_test_split\n",
    "\n",
    "# Load and preprocess data\n",
    "RAIN_THRESHHOLD = 0.5\n",
    "data = pd.read_csv('weather_data.csv', low_memory=False)\n",
    "data = data.sample(frac=1, random_state=2).reset_index(drop=True)\n",
    "data = data.replace('', float('nan')).dropna()\n",
    "data = data.replace(' ', float('nan'))\n",
    "data = data.dropna(subset=['wetb', 'vappr', 'rhum', 'vis'])\n",
    "X = data.drop(columns=['rain','date'])\n",
    "y = data['rain']\n",
    "print(data.isna().sum())\n",
    "\n",
    "# Ensure all data is numeric\n",
    "X = X.astype(float)\n",
    "\n",
    "# Split into training and testing sets\n",
    "X_train, X_test, y_train, y_test = train_test_split(X, y, test_size=0.2, random_state=42)\n",
    "\n",
    "# Reshape y to (num_samples, 1) for regression\n",
    "y_train = y_train.values.reshape(-1, 1)\n",
    "y_test = y_test.values.reshape(-1, 1)\n",
    "\n",
    "# Define the model\n",
    "inputs = Input(shape=(X_train.shape[1],))\n",
    "x = layers.Dense(32, activation='relu', name='e1')(inputs)\n",
    "edge_outputs = layers.Dense(1, activation='linear', name='edge_output')(x)\n",
    "x = layers.Dense(64, activation='relu', name='controlmodel')(x)\n",
    "x = layers.Dense(64, activation='relu', name='l1')(x)\n",
    "x = layers.Dense(128, activation='relu', name='l2')(x)\n",
    "x = layers.Dense(256, activation='relu', name='l3')(x)\n",
    "x = layers.Dense(128, activation='relu', name='l4')(x)\n",
    "x = layers.Dense(64, activation='relu', name='l5')(x)\n",
    "x = layers.Dense(64, activation='relu', name='l6')(x)\n",
    "\n",
    "control_outputs = layers.Dense(1, activation='linear', name='control_output')(x)\n",
    "\n",
    "# Create and compile the combined model\n",
    "combined_model = Model(inputs=inputs, outputs=[edge_outputs, control_outputs])\n",
    "combined_model.compile(optimizer='adam',\n",
    "                       loss={'edge_output': 'mean_squared_error',\n",
    "                             'control_output': 'mean_squared_error'},\n",
    "                       metrics={'edge_output': 'mae',\n",
    "                                'control_output': 'mae'})\n",
    "\n",
    "# Train the combined model\n",
    "combined_model.fit(X_train, [y_train, y_train], \n",
    "                   epochs=15, batch_size=32, \n",
    "                   validation_data=(X_test, [y_test, y_test]))\n",
    "\n",
    "# Define the edge_model\n",
    "edge_model = Model(inputs=inputs, outputs=[combined_model.get_layer('e1').output, edge_outputs])\n",
    "\n",
    "# x§This needs training \n",
    "# Set last as untrainable, then train last ones, this is not needed for contorl model becasue its last output is trained when entire model \n",
    "# gets trained\n",
    "for layer in edge_model.layers:\n",
    "    layer.trainable = False\n",
    "\n",
    "edge_model.get_layer('edge_output').trainable= True\n",
    "\n",
    "edge_model.compile(optimizer='adam',\n",
    "                   loss={'e1': None, 'edge_output': 'mean_squared_error'},\n",
    "                   metrics={'edge_output': 'mae'})\n",
    "\n",
    "history = edge_model.fit(X_train, [y_train, y_train], \n",
    "               epochs=10, batch_size=32, \n",
    "               validation_data=(X_test, [y_test, y_test]))\n",
    "\n",
    "# Define the control_model\n",
    "control_model_input = Input(shape=(32,))  # Shape of the intermediate layer output\n",
    "z = combined_model.get_layer('controlmodel')(control_model_input)\n",
    "z = combined_model.get_layer('l1')(z)\n",
    "z = combined_model.get_layer('l2')(z)\n",
    "z = combined_model.get_layer('l3')(z)\n",
    "z = combined_model.get_layer('l4')(z)\n",
    "z = combined_model.get_layer('l5')(z)\n",
    "z = combined_model.get_layer('l6')(z)\n",
    "\n",
    "\n",
    "control_model_outputs = combined_model.get_layer('control_output')(z)\n",
    "control_model = Model(inputs=control_model_input, outputs=control_model_outputs)\n",
    "\n",
    "# Inspect the models\n",
    "edge_model.summary()\n",
    "control_model.summary()\n",
    "\n",
    "edge_model.export(\"expt\")\n",
    "converter = tf.lite.TFLiteConverter.from_saved_model('./expt')\n",
    "tflite_model = converter.convert()\n",
    "with open('../deployment/models/edge_modelS1.tflite', 'wb') as f:\n",
    "  f.write(tflite_model)\n",
    "\n",
    "edge_model.save('../deployment/models/edge_modelS1.keras')\n",
    "    \n",
    "control_model.save('../deployment/models/control_modelS1.keras')\n",
    "\n"
   ]
  },
  {
   "cell_type": "markdown",
   "metadata": {},
   "source": [
    "# S2\n",
    "... same as original"
   ]
  },
  {
   "cell_type": "markdown",
   "metadata": {},
   "source": [
    "# S3"
   ]
  },
  {
   "cell_type": "code",
   "execution_count": 23,
   "metadata": {},
   "outputs": [
    {
     "name": "stdout",
     "output_type": "stream",
     "text": [
      "date     0\n",
      "ind      0\n",
      "rain     0\n",
      "ind1     0\n",
      "temp     0\n",
      "ind2     0\n",
      "wetb     0\n",
      "dewpt    0\n",
      "vappr    0\n",
      "rhum     0\n",
      "msl      0\n",
      "ind3     0\n",
      "wdsp     0\n",
      "ind4     0\n",
      "wddir    0\n",
      "ww       0\n",
      "w        0\n",
      "sun      0\n",
      "vis      0\n",
      "clht     0\n",
      "clamt    0\n",
      "dtype: int64\n",
      "Epoch 1/20\n",
      "\u001b[1m3184/3184\u001b[0m \u001b[32m━━━━━━━━━━━━━━━━━━━━\u001b[0m\u001b[37m\u001b[0m \u001b[1m4s\u001b[0m 1ms/step - control_output_loss: 619.9954 - control_output_mae: 3.9663 - edge_output_loss: 7846.7236 - edge_output_mae: 19.3902 - loss: 8466.7246 - val_control_output_loss: 0.6813 - val_control_output_mae: 0.6981 - val_edge_output_loss: 185.2354 - val_edge_output_mae: 11.3749 - val_loss: 185.9262\n",
      "Epoch 2/20\n",
      "\u001b[1m3184/3184\u001b[0m \u001b[32m━━━━━━━━━━━━━━━━━━━━\u001b[0m\u001b[37m\u001b[0m \u001b[1m3s\u001b[0m 1ms/step - control_output_loss: 0.9753 - control_output_mae: 0.4970 - edge_output_loss: 589.5010 - edge_output_mae: 8.3955 - loss: 590.4766 - val_control_output_loss: 1.2968 - val_control_output_mae: 0.9513 - val_edge_output_loss: 22.5373 - val_edge_output_mae: 4.1327 - val_loss: 23.8357\n",
      "Epoch 3/20\n",
      "\u001b[1m3184/3184\u001b[0m \u001b[32m━━━━━━━━━━━━━━━━━━━━\u001b[0m\u001b[37m\u001b[0m \u001b[1m3s\u001b[0m 1ms/step - control_output_loss: 0.3905 - control_output_mae: 0.3455 - edge_output_loss: 233.8905 - edge_output_mae: 5.6924 - loss: 234.2811 - val_control_output_loss: 0.2566 - val_control_output_mae: 0.2172 - val_edge_output_loss: 5.0390 - val_edge_output_mae: 2.0264 - val_loss: 5.2961\n",
      "Epoch 4/20\n",
      "\u001b[1m3184/3184\u001b[0m \u001b[32m━━━━━━━━━━━━━━━━━━━━\u001b[0m\u001b[37m\u001b[0m \u001b[1m3s\u001b[0m 1ms/step - control_output_loss: 4.4308 - control_output_mae: 0.2958 - edge_output_loss: 258.2236 - edge_output_mae: 6.8360 - loss: 262.6543 - val_control_output_loss: 0.3648 - val_control_output_mae: 0.4349 - val_edge_output_loss: 0.7803 - val_edge_output_mae: 0.6427 - val_loss: 1.1453\n",
      "Epoch 5/20\n",
      "\u001b[1m3184/3184\u001b[0m \u001b[32m━━━━━━━━━━━━━━━━━━━━\u001b[0m\u001b[37m\u001b[0m \u001b[1m3s\u001b[0m 1ms/step - control_output_loss: 0.2611 - control_output_mae: 0.2287 - edge_output_loss: 144.9084 - edge_output_mae: 3.7576 - loss: 145.1691 - val_control_output_loss: 0.5892 - val_control_output_mae: 0.6101 - val_edge_output_loss: 25497.5684 - val_edge_output_mae: 137.2385 - val_loss: 25499.3926\n",
      "Epoch 6/20\n",
      "\u001b[1m3184/3184\u001b[0m \u001b[32m━━━━━━━━━━━━━━━━━━━━\u001b[0m\u001b[37m\u001b[0m \u001b[1m3s\u001b[0m 1ms/step - control_output_loss: 0.2967 - control_output_mae: 0.2711 - edge_output_loss: 311.0584 - edge_output_mae: 4.8745 - loss: 311.3551 - val_control_output_loss: 0.2540 - val_control_output_mae: 0.2020 - val_edge_output_loss: 0.4212 - val_edge_output_mae: 0.4197 - val_loss: 0.6753\n",
      "Epoch 7/20\n",
      "\u001b[1m3184/3184\u001b[0m \u001b[32m━━━━━━━━━━━━━━━━━━━━\u001b[0m\u001b[37m\u001b[0m \u001b[1m4s\u001b[0m 1ms/step - control_output_loss: 0.2760 - control_output_mae: 0.2391 - edge_output_loss: 86.9724 - edge_output_mae: 3.1900 - loss: 87.2484 - val_control_output_loss: 0.2486 - val_control_output_mae: 0.2347 - val_edge_output_loss: 4.7520 - val_edge_output_mae: 1.9365 - val_loss: 5.0009\n",
      "Epoch 8/20\n",
      "\u001b[1m3184/3184\u001b[0m \u001b[32m━━━━━━━━━━━━━━━━━━━━\u001b[0m\u001b[37m\u001b[0m \u001b[1m4s\u001b[0m 1ms/step - control_output_loss: 0.2550 - control_output_mae: 0.2080 - edge_output_loss: 108.9035 - edge_output_mae: 4.0180 - loss: 109.1584 - val_control_output_loss: 0.2538 - val_control_output_mae: 0.2077 - val_edge_output_loss: 0.3441 - val_edge_output_mae: 0.3478 - val_loss: 0.5980\n",
      "Epoch 9/20\n",
      "\u001b[1m3184/3184\u001b[0m \u001b[32m━━━━━━━━━━━━━━━━━━━━\u001b[0m\u001b[37m\u001b[0m \u001b[1m3s\u001b[0m 1ms/step - control_output_loss: 0.2581 - control_output_mae: 0.1962 - edge_output_loss: 15.6403 - edge_output_mae: 1.2190 - loss: 15.8984 - val_control_output_loss: 0.2428 - val_control_output_mae: 0.1642 - val_edge_output_loss: 10.9523 - val_edge_output_mae: 2.9260 - val_loss: 11.1957\n",
      "Epoch 10/20\n",
      "\u001b[1m3184/3184\u001b[0m \u001b[32m━━━━━━━━━━━━━━━━━━━━\u001b[0m\u001b[37m\u001b[0m \u001b[1m3s\u001b[0m 1ms/step - control_output_loss: 0.2524 - control_output_mae: 0.2031 - edge_output_loss: 53.9407 - edge_output_mae: 3.5407 - loss: 54.1931 - val_control_output_loss: 0.2281 - val_control_output_mae: 0.2039 - val_edge_output_loss: 1.4023 - val_edge_output_mae: 0.9457 - val_loss: 1.6306\n",
      "Epoch 11/20\n",
      "\u001b[1m3184/3184\u001b[0m \u001b[32m━━━━━━━━━━━━━━━━━━━━\u001b[0m\u001b[37m\u001b[0m \u001b[1m3s\u001b[0m 1ms/step - control_output_loss: 0.2479 - control_output_mae: 0.1916 - edge_output_loss: 40.3548 - edge_output_mae: 2.7157 - loss: 40.6028 - val_control_output_loss: 0.2144 - val_control_output_mae: 0.1486 - val_edge_output_loss: 0.7498 - val_edge_output_mae: 0.6343 - val_loss: 0.9644\n",
      "Epoch 12/20\n",
      "\u001b[1m3184/3184\u001b[0m \u001b[32m━━━━━━━━━━━━━━━━━━━━\u001b[0m\u001b[37m\u001b[0m \u001b[1m3s\u001b[0m 1ms/step - control_output_loss: 0.2410 - control_output_mae: 0.1844 - edge_output_loss: 31.1796 - edge_output_mae: 1.8455 - loss: 31.4206 - val_control_output_loss: 0.2210 - val_control_output_mae: 0.1617 - val_edge_output_loss: 0.2499 - val_edge_output_mae: 0.2375 - val_loss: 0.4710\n",
      "Epoch 13/20\n",
      "\u001b[1m3184/3184\u001b[0m \u001b[32m━━━━━━━━━━━━━━━━━━━━\u001b[0m\u001b[37m\u001b[0m \u001b[1m3s\u001b[0m 1ms/step - control_output_loss: 0.2505 - control_output_mae: 0.1859 - edge_output_loss: 17.1963 - edge_output_mae: 1.2431 - loss: 17.4468 - val_control_output_loss: 0.2229 - val_control_output_mae: 0.1641 - val_edge_output_loss: 0.3160 - val_edge_output_mae: 0.3370 - val_loss: 0.5390\n",
      "Epoch 14/20\n",
      "\u001b[1m3184/3184\u001b[0m \u001b[32m━━━━━━━━━━━━━━━━━━━━\u001b[0m\u001b[37m\u001b[0m \u001b[1m3s\u001b[0m 1ms/step - control_output_loss: 0.2237 - control_output_mae: 0.1753 - edge_output_loss: 18.8037 - edge_output_mae: 1.2898 - loss: 19.0274 - val_control_output_loss: 0.2043 - val_control_output_mae: 0.1614 - val_edge_output_loss: 0.2545 - val_edge_output_mae: 0.2516 - val_loss: 0.4589\n",
      "Epoch 15/20\n",
      "\u001b[1m3184/3184\u001b[0m \u001b[32m━━━━━━━━━━━━━━━━━━━━\u001b[0m\u001b[37m\u001b[0m \u001b[1m3s\u001b[0m 1ms/step - control_output_loss: 0.2301 - control_output_mae: 0.1753 - edge_output_loss: 32.3916 - edge_output_mae: 2.4838 - loss: 32.6217 - val_control_output_loss: 0.2062 - val_control_output_mae: 0.1681 - val_edge_output_loss: 2.5400 - val_edge_output_mae: 1.3769 - val_loss: 2.7464\n",
      "Epoch 16/20\n",
      "\u001b[1m3184/3184\u001b[0m \u001b[32m━━━━━━━━━━━━━━━━━━━━\u001b[0m\u001b[37m\u001b[0m \u001b[1m4s\u001b[0m 1ms/step - control_output_loss: 0.2328 - control_output_mae: 0.1756 - edge_output_loss: 22.3599 - edge_output_mae: 1.5023 - loss: 22.5928 - val_control_output_loss: 0.2250 - val_control_output_mae: 0.1739 - val_edge_output_loss: 5.4476 - val_edge_output_mae: 2.0577 - val_loss: 5.6730\n",
      "Epoch 17/20\n",
      "\u001b[1m3184/3184\u001b[0m \u001b[32m━━━━━━━━━━━━━━━━━━━━\u001b[0m\u001b[37m\u001b[0m \u001b[1m3s\u001b[0m 1ms/step - control_output_loss: 0.2059 - control_output_mae: 0.1693 - edge_output_loss: 8.8894 - edge_output_mae: 1.0058 - loss: 9.0953 - val_control_output_loss: 0.2116 - val_control_output_mae: 0.1639 - val_edge_output_loss: 0.4601 - val_edge_output_mae: 0.5525 - val_loss: 0.6717\n",
      "Epoch 18/20\n",
      "\u001b[1m3184/3184\u001b[0m \u001b[32m━━━━━━━━━━━━━━━━━━━━\u001b[0m\u001b[37m\u001b[0m \u001b[1m3s\u001b[0m 1ms/step - control_output_loss: 0.2048 - control_output_mae: 0.1664 - edge_output_loss: 15.0281 - edge_output_mae: 1.6320 - loss: 15.2329 - val_control_output_loss: 0.2071 - val_control_output_mae: 0.1803 - val_edge_output_loss: 0.3371 - val_edge_output_mae: 0.3907 - val_loss: 0.5443\n",
      "Epoch 19/20\n",
      "\u001b[1m3184/3184\u001b[0m \u001b[32m━━━━━━━━━━━━━━━━━━━━\u001b[0m\u001b[37m\u001b[0m \u001b[1m4s\u001b[0m 1ms/step - control_output_loss: 0.2085 - control_output_mae: 0.1595 - edge_output_loss: 7.0891 - edge_output_mae: 0.8942 - loss: 7.2977 - val_control_output_loss: 0.2010 - val_control_output_mae: 0.1807 - val_edge_output_loss: 0.2959 - val_edge_output_mae: 0.2769 - val_loss: 0.4970\n",
      "Epoch 20/20\n",
      "\u001b[1m3184/3184\u001b[0m \u001b[32m━━━━━━━━━━━━━━━━━━━━\u001b[0m\u001b[37m\u001b[0m \u001b[1m3s\u001b[0m 1ms/step - control_output_loss: 0.2187 - control_output_mae: 0.1646 - edge_output_loss: 9.4477 - edge_output_mae: 1.1892 - loss: 9.6664 - val_control_output_loss: 0.2139 - val_control_output_mae: 0.1362 - val_edge_output_loss: 0.4366 - val_edge_output_mae: 0.5097 - val_loss: 0.6506\n",
      "Epoch 1/10\n",
      "\u001b[1m3184/3184\u001b[0m \u001b[32m━━━━━━━━━━━━━━━━━━━━\u001b[0m\u001b[37m\u001b[0m \u001b[1m2s\u001b[0m 440us/step - edge_output_mae: 0.3689 - loss: 0.6318 - val_edge_output_mae: 0.5550 - val_loss: 0.4738\n",
      "Epoch 2/10\n",
      "\u001b[1m3184/3184\u001b[0m \u001b[32m━━━━━━━━━━━━━━━━━━━━\u001b[0m\u001b[37m\u001b[0m \u001b[1m2s\u001b[0m 617us/step - edge_output_mae: 0.3736 - loss: 0.3728 - val_edge_output_mae: 0.2363 - val_loss: 0.2201\n",
      "Epoch 3/10\n",
      "\u001b[1m3184/3184\u001b[0m \u001b[32m━━━━━━━━━━━━━━━━━━━━\u001b[0m\u001b[37m\u001b[0m \u001b[1m1s\u001b[0m 419us/step - edge_output_mae: 0.3443 - loss: 0.3487 - val_edge_output_mae: 0.6902 - val_loss: 0.6669\n",
      "Epoch 4/10\n",
      "\u001b[1m3184/3184\u001b[0m \u001b[32m━━━━━━━━━━━━━━━━━━━━\u001b[0m\u001b[37m\u001b[0m \u001b[1m1s\u001b[0m 423us/step - edge_output_mae: 0.3597 - loss: 0.3754 - val_edge_output_mae: 0.6392 - val_loss: 0.5944\n",
      "Epoch 5/10\n",
      "\u001b[1m3184/3184\u001b[0m \u001b[32m━━━━━━━━━━━━━━━━━━━━\u001b[0m\u001b[37m\u001b[0m \u001b[1m1s\u001b[0m 428us/step - edge_output_mae: 0.3533 - loss: 0.3316 - val_edge_output_mae: 0.4409 - val_loss: 0.3499\n",
      "Epoch 6/10\n",
      "\u001b[1m3184/3184\u001b[0m \u001b[32m━━━━━━━━━━━━━━━━━━━━\u001b[0m\u001b[37m\u001b[0m \u001b[1m1s\u001b[0m 418us/step - edge_output_mae: 0.3551 - loss: 0.3324 - val_edge_output_mae: 0.3760 - val_loss: 0.2942\n",
      "Epoch 7/10\n",
      "\u001b[1m3184/3184\u001b[0m \u001b[32m━━━━━━━━━━━━━━━━━━━━\u001b[0m\u001b[37m\u001b[0m \u001b[1m1s\u001b[0m 417us/step - edge_output_mae: 0.3467 - loss: 0.3182 - val_edge_output_mae: 0.5372 - val_loss: 0.4597\n",
      "Epoch 8/10\n",
      "\u001b[1m3184/3184\u001b[0m \u001b[32m━━━━━━━━━━━━━━━━━━━━\u001b[0m\u001b[37m\u001b[0m \u001b[1m1s\u001b[0m 418us/step - edge_output_mae: 0.3475 - loss: 0.3436 - val_edge_output_mae: 0.5329 - val_loss: 0.4568\n",
      "Epoch 9/10\n",
      "\u001b[1m3184/3184\u001b[0m \u001b[32m━━━━━━━━━━━━━━━━━━━━\u001b[0m\u001b[37m\u001b[0m \u001b[1m1s\u001b[0m 419us/step - edge_output_mae: 0.3539 - loss: 0.3271 - val_edge_output_mae: 0.3172 - val_loss: 0.2561\n",
      "Epoch 10/10\n",
      "\u001b[1m3184/3184\u001b[0m \u001b[32m━━━━━━━━━━━━━━━━━━━━\u001b[0m\u001b[37m\u001b[0m \u001b[1m1s\u001b[0m 416us/step - edge_output_mae: 0.3802 - loss: 0.4061 - val_edge_output_mae: 0.6269 - val_loss: 0.5796\n"
     ]
    },
    {
     "data": {
      "text/html": [
       "<pre style=\"white-space:pre;overflow-x:auto;line-height:normal;font-family:Menlo,'DejaVu Sans Mono',consolas,'Courier New',monospace\"><span style=\"font-weight: bold\">Model: \"functional_10\"</span>\n",
       "</pre>\n"
      ],
      "text/plain": [
       "\u001b[1mModel: \"functional_10\"\u001b[0m\n"
      ]
     },
     "metadata": {},
     "output_type": "display_data"
    },
    {
     "data": {
      "text/html": [
       "<pre style=\"white-space:pre;overflow-x:auto;line-height:normal;font-family:Menlo,'DejaVu Sans Mono',consolas,'Courier New',monospace\">┏━━━━━━━━━━━━━━━━━━━━━━━━━━━━━━━━━┳━━━━━━━━━━━━━━━━━━━━━━━━┳━━━━━━━━━━━━━━━┓\n",
       "┃<span style=\"font-weight: bold\"> Layer (type)                    </span>┃<span style=\"font-weight: bold\"> Output Shape           </span>┃<span style=\"font-weight: bold\">       Param # </span>┃\n",
       "┡━━━━━━━━━━━━━━━━━━━━━━━━━━━━━━━━━╇━━━━━━━━━━━━━━━━━━━━━━━━╇━━━━━━━━━━━━━━━┩\n",
       "│ input_layer_6 (<span style=\"color: #0087ff; text-decoration-color: #0087ff\">InputLayer</span>)      │ (<span style=\"color: #00d7ff; text-decoration-color: #00d7ff\">None</span>, <span style=\"color: #00af00; text-decoration-color: #00af00\">19</span>)             │             <span style=\"color: #00af00; text-decoration-color: #00af00\">0</span> │\n",
       "├─────────────────────────────────┼────────────────────────┼───────────────┤\n",
       "│ e1 (<span style=\"color: #0087ff; text-decoration-color: #0087ff\">Dense</span>)                      │ (<span style=\"color: #00d7ff; text-decoration-color: #00d7ff\">None</span>, <span style=\"color: #00af00; text-decoration-color: #00af00\">64</span>)             │         <span style=\"color: #00af00; text-decoration-color: #00af00\">1,280</span> │\n",
       "├─────────────────────────────────┼────────────────────────┼───────────────┤\n",
       "│ e3 (<span style=\"color: #0087ff; text-decoration-color: #0087ff\">Dense</span>)                      │ (<span style=\"color: #00d7ff; text-decoration-color: #00d7ff\">None</span>, <span style=\"color: #00af00; text-decoration-color: #00af00\">32</span>)             │         <span style=\"color: #00af00; text-decoration-color: #00af00\">2,080</span> │\n",
       "├─────────────────────────────────┼────────────────────────┼───────────────┤\n",
       "│ edge_output (<span style=\"color: #0087ff; text-decoration-color: #0087ff\">Dense</span>)             │ (<span style=\"color: #00d7ff; text-decoration-color: #00d7ff\">None</span>, <span style=\"color: #00af00; text-decoration-color: #00af00\">1</span>)              │            <span style=\"color: #00af00; text-decoration-color: #00af00\">33</span> │\n",
       "└─────────────────────────────────┴────────────────────────┴───────────────┘\n",
       "</pre>\n"
      ],
      "text/plain": [
       "┏━━━━━━━━━━━━━━━━━━━━━━━━━━━━━━━━━┳━━━━━━━━━━━━━━━━━━━━━━━━┳━━━━━━━━━━━━━━━┓\n",
       "┃\u001b[1m \u001b[0m\u001b[1mLayer (type)                   \u001b[0m\u001b[1m \u001b[0m┃\u001b[1m \u001b[0m\u001b[1mOutput Shape          \u001b[0m\u001b[1m \u001b[0m┃\u001b[1m \u001b[0m\u001b[1m      Param #\u001b[0m\u001b[1m \u001b[0m┃\n",
       "┡━━━━━━━━━━━━━━━━━━━━━━━━━━━━━━━━━╇━━━━━━━━━━━━━━━━━━━━━━━━╇━━━━━━━━━━━━━━━┩\n",
       "│ input_layer_6 (\u001b[38;5;33mInputLayer\u001b[0m)      │ (\u001b[38;5;45mNone\u001b[0m, \u001b[38;5;34m19\u001b[0m)             │             \u001b[38;5;34m0\u001b[0m │\n",
       "├─────────────────────────────────┼────────────────────────┼───────────────┤\n",
       "│ e1 (\u001b[38;5;33mDense\u001b[0m)                      │ (\u001b[38;5;45mNone\u001b[0m, \u001b[38;5;34m64\u001b[0m)             │         \u001b[38;5;34m1,280\u001b[0m │\n",
       "├─────────────────────────────────┼────────────────────────┼───────────────┤\n",
       "│ e3 (\u001b[38;5;33mDense\u001b[0m)                      │ (\u001b[38;5;45mNone\u001b[0m, \u001b[38;5;34m32\u001b[0m)             │         \u001b[38;5;34m2,080\u001b[0m │\n",
       "├─────────────────────────────────┼────────────────────────┼───────────────┤\n",
       "│ edge_output (\u001b[38;5;33mDense\u001b[0m)             │ (\u001b[38;5;45mNone\u001b[0m, \u001b[38;5;34m1\u001b[0m)              │            \u001b[38;5;34m33\u001b[0m │\n",
       "└─────────────────────────────────┴────────────────────────┴───────────────┘\n"
      ]
     },
     "metadata": {},
     "output_type": "display_data"
    },
    {
     "data": {
      "text/html": [
       "<pre style=\"white-space:pre;overflow-x:auto;line-height:normal;font-family:Menlo,'DejaVu Sans Mono',consolas,'Courier New',monospace\"><span style=\"font-weight: bold\"> Total params: </span><span style=\"color: #00af00; text-decoration-color: #00af00\">3,461</span> (13.52 KB)\n",
       "</pre>\n"
      ],
      "text/plain": [
       "\u001b[1m Total params: \u001b[0m\u001b[38;5;34m3,461\u001b[0m (13.52 KB)\n"
      ]
     },
     "metadata": {},
     "output_type": "display_data"
    },
    {
     "data": {
      "text/html": [
       "<pre style=\"white-space:pre;overflow-x:auto;line-height:normal;font-family:Menlo,'DejaVu Sans Mono',consolas,'Courier New',monospace\"><span style=\"font-weight: bold\"> Trainable params: </span><span style=\"color: #00af00; text-decoration-color: #00af00\">33</span> (132.00 B)\n",
       "</pre>\n"
      ],
      "text/plain": [
       "\u001b[1m Trainable params: \u001b[0m\u001b[38;5;34m33\u001b[0m (132.00 B)\n"
      ]
     },
     "metadata": {},
     "output_type": "display_data"
    },
    {
     "data": {
      "text/html": [
       "<pre style=\"white-space:pre;overflow-x:auto;line-height:normal;font-family:Menlo,'DejaVu Sans Mono',consolas,'Courier New',monospace\"><span style=\"font-weight: bold\"> Non-trainable params: </span><span style=\"color: #00af00; text-decoration-color: #00af00\">3,360</span> (13.12 KB)\n",
       "</pre>\n"
      ],
      "text/plain": [
       "\u001b[1m Non-trainable params: \u001b[0m\u001b[38;5;34m3,360\u001b[0m (13.12 KB)\n"
      ]
     },
     "metadata": {},
     "output_type": "display_data"
    },
    {
     "data": {
      "text/html": [
       "<pre style=\"white-space:pre;overflow-x:auto;line-height:normal;font-family:Menlo,'DejaVu Sans Mono',consolas,'Courier New',monospace\"><span style=\"font-weight: bold\"> Optimizer params: </span><span style=\"color: #00af00; text-decoration-color: #00af00\">68</span> (276.00 B)\n",
       "</pre>\n"
      ],
      "text/plain": [
       "\u001b[1m Optimizer params: \u001b[0m\u001b[38;5;34m68\u001b[0m (276.00 B)\n"
      ]
     },
     "metadata": {},
     "output_type": "display_data"
    },
    {
     "data": {
      "text/html": [
       "<pre style=\"white-space:pre;overflow-x:auto;line-height:normal;font-family:Menlo,'DejaVu Sans Mono',consolas,'Courier New',monospace\"><span style=\"font-weight: bold\">Model: \"functional_11\"</span>\n",
       "</pre>\n"
      ],
      "text/plain": [
       "\u001b[1mModel: \"functional_11\"\u001b[0m\n"
      ]
     },
     "metadata": {},
     "output_type": "display_data"
    },
    {
     "data": {
      "text/html": [
       "<pre style=\"white-space:pre;overflow-x:auto;line-height:normal;font-family:Menlo,'DejaVu Sans Mono',consolas,'Courier New',monospace\">┏━━━━━━━━━━━━━━━━━━━━━━━━━━━━━━━━━┳━━━━━━━━━━━━━━━━━━━━━━━━┳━━━━━━━━━━━━━━━┓\n",
       "┃<span style=\"font-weight: bold\"> Layer (type)                    </span>┃<span style=\"font-weight: bold\"> Output Shape           </span>┃<span style=\"font-weight: bold\">       Param # </span>┃\n",
       "┡━━━━━━━━━━━━━━━━━━━━━━━━━━━━━━━━━╇━━━━━━━━━━━━━━━━━━━━━━━━╇━━━━━━━━━━━━━━━┩\n",
       "│ input_layer_7 (<span style=\"color: #0087ff; text-decoration-color: #0087ff\">InputLayer</span>)      │ (<span style=\"color: #00d7ff; text-decoration-color: #00d7ff\">None</span>, <span style=\"color: #00af00; text-decoration-color: #00af00\">32</span>)             │             <span style=\"color: #00af00; text-decoration-color: #00af00\">0</span> │\n",
       "├─────────────────────────────────┼────────────────────────┼───────────────┤\n",
       "│ controlmodel (<span style=\"color: #0087ff; text-decoration-color: #0087ff\">Dense</span>)            │ (<span style=\"color: #00d7ff; text-decoration-color: #00d7ff\">None</span>, <span style=\"color: #00af00; text-decoration-color: #00af00\">64</span>)             │         <span style=\"color: #00af00; text-decoration-color: #00af00\">2,112</span> │\n",
       "├─────────────────────────────────┼────────────────────────┼───────────────┤\n",
       "│ l1 (<span style=\"color: #0087ff; text-decoration-color: #0087ff\">Dense</span>)                      │ (<span style=\"color: #00d7ff; text-decoration-color: #00d7ff\">None</span>, <span style=\"color: #00af00; text-decoration-color: #00af00\">256</span>)            │        <span style=\"color: #00af00; text-decoration-color: #00af00\">16,640</span> │\n",
       "├─────────────────────────────────┼────────────────────────┼───────────────┤\n",
       "│ l2 (<span style=\"color: #0087ff; text-decoration-color: #0087ff\">Dense</span>)                      │ (<span style=\"color: #00d7ff; text-decoration-color: #00d7ff\">None</span>, <span style=\"color: #00af00; text-decoration-color: #00af00\">128</span>)            │        <span style=\"color: #00af00; text-decoration-color: #00af00\">32,896</span> │\n",
       "├─────────────────────────────────┼────────────────────────┼───────────────┤\n",
       "│ l3 (<span style=\"color: #0087ff; text-decoration-color: #0087ff\">Dense</span>)                      │ (<span style=\"color: #00d7ff; text-decoration-color: #00d7ff\">None</span>, <span style=\"color: #00af00; text-decoration-color: #00af00\">64</span>)             │         <span style=\"color: #00af00; text-decoration-color: #00af00\">8,256</span> │\n",
       "├─────────────────────────────────┼────────────────────────┼───────────────┤\n",
       "│ l4 (<span style=\"color: #0087ff; text-decoration-color: #0087ff\">Dense</span>)                      │ (<span style=\"color: #00d7ff; text-decoration-color: #00d7ff\">None</span>, <span style=\"color: #00af00; text-decoration-color: #00af00\">64</span>)             │         <span style=\"color: #00af00; text-decoration-color: #00af00\">4,160</span> │\n",
       "├─────────────────────────────────┼────────────────────────┼───────────────┤\n",
       "│ control_output (<span style=\"color: #0087ff; text-decoration-color: #0087ff\">Dense</span>)          │ (<span style=\"color: #00d7ff; text-decoration-color: #00d7ff\">None</span>, <span style=\"color: #00af00; text-decoration-color: #00af00\">1</span>)              │            <span style=\"color: #00af00; text-decoration-color: #00af00\">65</span> │\n",
       "└─────────────────────────────────┴────────────────────────┴───────────────┘\n",
       "</pre>\n"
      ],
      "text/plain": [
       "┏━━━━━━━━━━━━━━━━━━━━━━━━━━━━━━━━━┳━━━━━━━━━━━━━━━━━━━━━━━━┳━━━━━━━━━━━━━━━┓\n",
       "┃\u001b[1m \u001b[0m\u001b[1mLayer (type)                   \u001b[0m\u001b[1m \u001b[0m┃\u001b[1m \u001b[0m\u001b[1mOutput Shape          \u001b[0m\u001b[1m \u001b[0m┃\u001b[1m \u001b[0m\u001b[1m      Param #\u001b[0m\u001b[1m \u001b[0m┃\n",
       "┡━━━━━━━━━━━━━━━━━━━━━━━━━━━━━━━━━╇━━━━━━━━━━━━━━━━━━━━━━━━╇━━━━━━━━━━━━━━━┩\n",
       "│ input_layer_7 (\u001b[38;5;33mInputLayer\u001b[0m)      │ (\u001b[38;5;45mNone\u001b[0m, \u001b[38;5;34m32\u001b[0m)             │             \u001b[38;5;34m0\u001b[0m │\n",
       "├─────────────────────────────────┼────────────────────────┼───────────────┤\n",
       "│ controlmodel (\u001b[38;5;33mDense\u001b[0m)            │ (\u001b[38;5;45mNone\u001b[0m, \u001b[38;5;34m64\u001b[0m)             │         \u001b[38;5;34m2,112\u001b[0m │\n",
       "├─────────────────────────────────┼────────────────────────┼───────────────┤\n",
       "│ l1 (\u001b[38;5;33mDense\u001b[0m)                      │ (\u001b[38;5;45mNone\u001b[0m, \u001b[38;5;34m256\u001b[0m)            │        \u001b[38;5;34m16,640\u001b[0m │\n",
       "├─────────────────────────────────┼────────────────────────┼───────────────┤\n",
       "│ l2 (\u001b[38;5;33mDense\u001b[0m)                      │ (\u001b[38;5;45mNone\u001b[0m, \u001b[38;5;34m128\u001b[0m)            │        \u001b[38;5;34m32,896\u001b[0m │\n",
       "├─────────────────────────────────┼────────────────────────┼───────────────┤\n",
       "│ l3 (\u001b[38;5;33mDense\u001b[0m)                      │ (\u001b[38;5;45mNone\u001b[0m, \u001b[38;5;34m64\u001b[0m)             │         \u001b[38;5;34m8,256\u001b[0m │\n",
       "├─────────────────────────────────┼────────────────────────┼───────────────┤\n",
       "│ l4 (\u001b[38;5;33mDense\u001b[0m)                      │ (\u001b[38;5;45mNone\u001b[0m, \u001b[38;5;34m64\u001b[0m)             │         \u001b[38;5;34m4,160\u001b[0m │\n",
       "├─────────────────────────────────┼────────────────────────┼───────────────┤\n",
       "│ control_output (\u001b[38;5;33mDense\u001b[0m)          │ (\u001b[38;5;45mNone\u001b[0m, \u001b[38;5;34m1\u001b[0m)              │            \u001b[38;5;34m65\u001b[0m │\n",
       "└─────────────────────────────────┴────────────────────────┴───────────────┘\n"
      ]
     },
     "metadata": {},
     "output_type": "display_data"
    },
    {
     "data": {
      "text/html": [
       "<pre style=\"white-space:pre;overflow-x:auto;line-height:normal;font-family:Menlo,'DejaVu Sans Mono',consolas,'Courier New',monospace\"><span style=\"font-weight: bold\"> Total params: </span><span style=\"color: #00af00; text-decoration-color: #00af00\">64,129</span> (250.50 KB)\n",
       "</pre>\n"
      ],
      "text/plain": [
       "\u001b[1m Total params: \u001b[0m\u001b[38;5;34m64,129\u001b[0m (250.50 KB)\n"
      ]
     },
     "metadata": {},
     "output_type": "display_data"
    },
    {
     "data": {
      "text/html": [
       "<pre style=\"white-space:pre;overflow-x:auto;line-height:normal;font-family:Menlo,'DejaVu Sans Mono',consolas,'Courier New',monospace\"><span style=\"font-weight: bold\"> Trainable params: </span><span style=\"color: #00af00; text-decoration-color: #00af00\">64,129</span> (250.50 KB)\n",
       "</pre>\n"
      ],
      "text/plain": [
       "\u001b[1m Trainable params: \u001b[0m\u001b[38;5;34m64,129\u001b[0m (250.50 KB)\n"
      ]
     },
     "metadata": {},
     "output_type": "display_data"
    },
    {
     "data": {
      "text/html": [
       "<pre style=\"white-space:pre;overflow-x:auto;line-height:normal;font-family:Menlo,'DejaVu Sans Mono',consolas,'Courier New',monospace\"><span style=\"font-weight: bold\"> Non-trainable params: </span><span style=\"color: #00af00; text-decoration-color: #00af00\">0</span> (0.00 B)\n",
       "</pre>\n"
      ],
      "text/plain": [
       "\u001b[1m Non-trainable params: \u001b[0m\u001b[38;5;34m0\u001b[0m (0.00 B)\n"
      ]
     },
     "metadata": {},
     "output_type": "display_data"
    },
    {
     "name": "stdout",
     "output_type": "stream",
     "text": [
      "INFO:tensorflow:Assets written to: expt/assets\n"
     ]
    },
    {
     "name": "stderr",
     "output_type": "stream",
     "text": [
      "INFO:tensorflow:Assets written to: expt/assets\n"
     ]
    },
    {
     "name": "stdout",
     "output_type": "stream",
     "text": [
      "Saved artifact at 'expt'. The following endpoints are available:\n",
      "\n",
      "* Endpoint 'serve'\n",
      "  args_0 (POSITIONAL_ONLY): TensorSpec(shape=(None, 19), dtype=tf.float32, name='keras_tensor_104')\n",
      "Output Type:\n",
      "  List[TensorSpec(shape=(None, 32), dtype=tf.float32, name=None), TensorSpec(shape=(None, 1), dtype=tf.float32, name=None)]\n",
      "Captures:\n",
      "  6345019024: TensorSpec(shape=(), dtype=tf.resource, name=None)\n",
      "  6427053712: TensorSpec(shape=(), dtype=tf.resource, name=None)\n",
      "  6345022672: TensorSpec(shape=(), dtype=tf.resource, name=None)\n",
      "  6441278480: TensorSpec(shape=(), dtype=tf.resource, name=None)\n",
      "  6441278096: TensorSpec(shape=(), dtype=tf.resource, name=None)\n",
      "  6441271376: TensorSpec(shape=(), dtype=tf.resource, name=None)\n"
     ]
    },
    {
     "name": "stderr",
     "output_type": "stream",
     "text": [
      "W0000 00:00:1743020666.984740 13507011 tf_tfl_flatbuffer_helpers.cc:365] Ignored output_format.\n",
      "W0000 00:00:1743020666.984928 13507011 tf_tfl_flatbuffer_helpers.cc:368] Ignored drop_control_dependency.\n",
      "2025-03-26 20:24:26.985947: I tensorflow/cc/saved_model/reader.cc:83] Reading SavedModel from: ./expt\n",
      "2025-03-26 20:24:26.986236: I tensorflow/cc/saved_model/reader.cc:52] Reading meta graph with tags { serve }\n",
      "2025-03-26 20:24:26.986241: I tensorflow/cc/saved_model/reader.cc:147] Reading SavedModel debug info (if present) from: ./expt\n",
      "2025-03-26 20:24:26.989280: I tensorflow/cc/saved_model/loader.cc:236] Restoring SavedModel bundle.\n",
      "2025-03-26 20:24:27.005645: I tensorflow/cc/saved_model/loader.cc:220] Running initialization op on SavedModel bundle at path: ./expt\n",
      "2025-03-26 20:24:27.009526: I tensorflow/cc/saved_model/loader.cc:466] SavedModel load for tags { serve }; Status: success: OK. Took 23581 microseconds.\n"
     ]
    }
   ],
   "source": [
    "import pandas as pd\n",
    "from sklearn.preprocessing import LabelEncoder\n",
    "from tensorflow.keras import Input, Model, layers\n",
    "from sklearn.model_selection import train_test_split\n",
    "\n",
    "# Load and preprocess data\n",
    "RAIN_THRESHHOLD = 0.5\n",
    "data = pd.read_csv('weather_data.csv', low_memory=False)\n",
    "data = data.sample(frac=1, random_state=2).reset_index(drop=True)\n",
    "data = data.replace('', float('nan')).dropna()\n",
    "data = data.replace(' ', float('nan'))\n",
    "data = data.dropna(subset=['wetb', 'vappr', 'rhum', 'vis'])\n",
    "X = data.drop(columns=['rain','date'])\n",
    "y = data['rain']\n",
    "print(data.isna().sum())\n",
    "\n",
    "# Ensure all data is numeric\n",
    "X = X.astype(float)\n",
    "\n",
    "# Split into training and testing sets\n",
    "X_train, X_test, y_train, y_test = train_test_split(X, y, test_size=0.2, random_state=42)\n",
    "\n",
    "# Reshape y to (num_samples, 1) for regression\n",
    "y_train = y_train.values.reshape(-1, 1)\n",
    "y_test = y_test.values.reshape(-1, 1)\n",
    "\n",
    "# Define the model\n",
    "inputs = Input(shape=(X_train.shape[1],))\n",
    "x = layers.Dense(64, activation='relu', name='e1')(inputs)\n",
    "z = layers.Dense(64, activation='relu', name='e2')(x)\n",
    "x = layers.Dense(32, activation='relu', name='e3')(x)\n",
    "edge_outputs = layers.Dense(1, activation='linear', name='edge_output')(x)\n",
    "x = layers.Dense(64, activation='relu', name='controlmodel')(x)\n",
    "x = layers.Dense(256, activation='relu', name='l1')(x)\n",
    "x = layers.Dense(128, activation='relu', name='l2')(x)\n",
    "x = layers.Dense(64, activation='relu', name='l3')(x)\n",
    "x = layers.Dense(64, activation='relu', name='l4')(x)\n",
    "\n",
    "control_outputs = layers.Dense(1, activation='linear', name='control_output')(x)\n",
    "\n",
    "# Create and compile the combined model\n",
    "combined_model = Model(inputs=inputs, outputs=[edge_outputs, control_outputs])\n",
    "combined_model.compile(optimizer='adam',\n",
    "                       loss={'edge_output': 'mean_squared_error',\n",
    "                             'control_output': 'mean_squared_error'},\n",
    "                       metrics={'edge_output': 'mae',\n",
    "                                'control_output': 'mae'})\n",
    "\n",
    "# Train the combined model\n",
    "combined_model.fit(X_train, [y_train, y_train], \n",
    "                   epochs=20, batch_size=32, \n",
    "                   validation_data=(X_test, [y_test, y_test]))\n",
    "\n",
    "# Define the edge_model\n",
    "edge_model = Model(inputs=inputs, outputs=[combined_model.get_layer('e3').output, edge_outputs])\n",
    "\n",
    "# x§This needs training \n",
    "# Set last as untrainable, then train last ones, this is not needed for contorl model becasue its last output is trained when entire model \n",
    "# gets trained\n",
    "for layer in edge_model.layers:\n",
    "    layer.trainable = False\n",
    "\n",
    "edge_model.get_layer('edge_output').trainable= True\n",
    "\n",
    "edge_model.compile(optimizer='adam',\n",
    "                   loss={'e3': None, 'edge_output': 'mean_squared_error'},\n",
    "                   metrics={'edge_output': 'mae'})\n",
    "\n",
    "history = edge_model.fit(X_train, [y_train, y_train], \n",
    "               epochs=15, batch_size=32, \n",
    "               validation_data=(X_test, [y_test, y_test]))\n",
    "\n",
    "# Define the control_model\n",
    "control_model_input = Input(shape=(32,))  # Shape of the intermediate layer output\n",
    "z = combined_model.get_layer('controlmodel')(control_model_input)\n",
    "z = combined_model.get_layer('l1')(z)\n",
    "z = combined_model.get_layer('l2')(z)\n",
    "z = combined_model.get_layer('l3')(z)\n",
    "z = combined_model.get_layer('l4')(z)\n",
    "\n",
    "control_model_outputs = combined_model.get_layer('control_output')(z)\n",
    "control_model = Model(inputs=control_model_input, outputs=control_model_outputs)\n",
    "\n",
    "# Inspect the models\n",
    "edge_model.summary()\n",
    "control_model.summary()\n",
    "\n",
    "edge_model.export(\"expt\")\n",
    "converter = tf.lite.TFLiteConverter.from_saved_model('./expt')\n",
    "tflite_model = converter.convert()\n",
    "with open('../deployment/models/edge_modelS3.tflite', 'wb') as f:\n",
    "  f.write(tflite_model)\n",
    "\n",
    "edge_model.save('../deployment/models/edge_modelS3.keras')\n",
    "    \n",
    "control_model.save('../deployment/models/control_modelS3.keras')\n",
    "\n"
   ]
  },
  {
   "cell_type": "markdown",
   "metadata": {},
   "source": [
    "# S4"
   ]
  },
  {
   "cell_type": "code",
   "execution_count": 24,
   "metadata": {},
   "outputs": [
    {
     "name": "stdout",
     "output_type": "stream",
     "text": [
      "date     0\n",
      "ind      0\n",
      "rain     0\n",
      "ind1     0\n",
      "temp     0\n",
      "ind2     0\n",
      "wetb     0\n",
      "dewpt    0\n",
      "vappr    0\n",
      "rhum     0\n",
      "msl      0\n",
      "ind3     0\n",
      "wdsp     0\n",
      "ind4     0\n",
      "wddir    0\n",
      "ww       0\n",
      "w        0\n",
      "sun      0\n",
      "vis      0\n",
      "clht     0\n",
      "clamt    0\n",
      "dtype: int64\n",
      "Epoch 1/20\n",
      "\u001b[1m3184/3184\u001b[0m \u001b[32m━━━━━━━━━━━━━━━━━━━━\u001b[0m\u001b[37m\u001b[0m \u001b[1m4s\u001b[0m 1ms/step - control_output_loss: 196.3886 - control_output_mae: 2.8870 - edge_output_loss: 4867.5928 - edge_output_mae: 17.4264 - loss: 5063.9800 - val_control_output_loss: 0.4330 - val_control_output_mae: 0.4465 - val_edge_output_loss: 35.4569 - val_edge_output_mae: 5.3040 - val_loss: 35.8899\n",
      "Epoch 2/20\n",
      "\u001b[1m3184/3184\u001b[0m \u001b[32m━━━━━━━━━━━━━━━━━━━━\u001b[0m\u001b[37m\u001b[0m \u001b[1m3s\u001b[0m 1ms/step - control_output_loss: 0.7699 - control_output_mae: 0.4697 - edge_output_loss: 137.8849 - edge_output_mae: 3.8237 - loss: 138.6546 - val_control_output_loss: 0.3448 - val_control_output_mae: 0.4064 - val_edge_output_loss: 1348.2474 - val_edge_output_mae: 31.2761 - val_loss: 1348.6633\n",
      "Epoch 3/20\n",
      "\u001b[1m3184/3184\u001b[0m \u001b[32m━━━━━━━━━━━━━━━━━━━━\u001b[0m\u001b[37m\u001b[0m \u001b[1m3s\u001b[0m 1ms/step - control_output_loss: 0.3933 - control_output_mae: 0.3351 - edge_output_loss: 187.1723 - edge_output_mae: 5.9799 - loss: 187.5655 - val_control_output_loss: 0.2655 - val_control_output_mae: 0.2239 - val_edge_output_loss: 1.0323 - val_edge_output_mae: 0.8415 - val_loss: 1.2980\n",
      "Epoch 4/20\n",
      "\u001b[1m3184/3184\u001b[0m \u001b[32m━━━━━━━━━━━━━━━━━━━━\u001b[0m\u001b[37m\u001b[0m \u001b[1m3s\u001b[0m 992us/step - control_output_loss: 0.6140 - control_output_mae: 0.3097 - edge_output_loss: 99.9085 - edge_output_mae: 2.7745 - loss: 100.5224 - val_control_output_loss: 0.2589 - val_control_output_mae: 0.1855 - val_edge_output_loss: 1.3876 - val_edge_output_mae: 1.0055 - val_loss: 1.6466\n",
      "Epoch 5/20\n",
      "\u001b[1m3184/3184\u001b[0m \u001b[32m━━━━━━━━━━━━━━━━━━━━\u001b[0m\u001b[37m\u001b[0m \u001b[1m4s\u001b[0m 1ms/step - control_output_loss: 0.2681 - control_output_mae: 0.2159 - edge_output_loss: 29.2442 - edge_output_mae: 2.2546 - loss: 29.5123 - val_control_output_loss: 0.2708 - val_control_output_mae: 0.2250 - val_edge_output_loss: 4.1042 - val_edge_output_mae: 1.7847 - val_loss: 4.3753\n",
      "Epoch 6/20\n",
      "\u001b[1m3184/3184\u001b[0m \u001b[32m━━━━━━━━━━━━━━━━━━━━\u001b[0m\u001b[37m\u001b[0m \u001b[1m3s\u001b[0m 1ms/step - control_output_loss: 0.2755 - control_output_mae: 0.2248 - edge_output_loss: 6.4124 - edge_output_mae: 0.9457 - loss: 6.6879 - val_control_output_loss: 0.2524 - val_control_output_mae: 0.1741 - val_edge_output_loss: 4.4169 - val_edge_output_mae: 1.8558 - val_loss: 4.6696\n",
      "Epoch 7/20\n",
      "\u001b[1m3184/3184\u001b[0m \u001b[32m━━━━━━━━━━━━━━━━━━━━\u001b[0m\u001b[37m\u001b[0m \u001b[1m3s\u001b[0m 1ms/step - control_output_loss: 0.2677 - control_output_mae: 0.1905 - edge_output_loss: 11.0544 - edge_output_mae: 1.0562 - loss: 11.3221 - val_control_output_loss: 0.2389 - val_control_output_mae: 0.1815 - val_edge_output_loss: 0.3238 - val_edge_output_mae: 0.4016 - val_loss: 0.5628\n",
      "Epoch 8/20\n",
      "\u001b[1m3184/3184\u001b[0m \u001b[32m━━━━━━━━━━━━━━━━━━━━\u001b[0m\u001b[37m\u001b[0m \u001b[1m4s\u001b[0m 1ms/step - control_output_loss: 0.2351 - control_output_mae: 0.1825 - edge_output_loss: 1.9436 - edge_output_mae: 0.6605 - loss: 2.1787 - val_control_output_loss: 0.2209 - val_control_output_mae: 0.1711 - val_edge_output_loss: 2.4617 - val_edge_output_mae: 1.3581 - val_loss: 2.6828\n",
      "Epoch 9/20\n",
      "\u001b[1m3184/3184\u001b[0m \u001b[32m━━━━━━━━━━━━━━━━━━━━\u001b[0m\u001b[37m\u001b[0m \u001b[1m3s\u001b[0m 1ms/step - control_output_loss: 0.2202 - control_output_mae: 0.1679 - edge_output_loss: 0.4290 - edge_output_mae: 0.3969 - loss: 0.6493 - val_control_output_loss: 0.2006 - val_control_output_mae: 0.1525 - val_edge_output_loss: 0.7822 - val_edge_output_mae: 0.7247 - val_loss: 0.9830\n",
      "Epoch 10/20\n",
      "\u001b[1m3184/3184\u001b[0m \u001b[32m━━━━━━━━━━━━━━━━━━━━\u001b[0m\u001b[37m\u001b[0m \u001b[1m3s\u001b[0m 1ms/step - control_output_loss: 0.2232 - control_output_mae: 0.1617 - edge_output_loss: 0.3176 - edge_output_mae: 0.2558 - loss: 0.5409 - val_control_output_loss: 0.2074 - val_control_output_mae: 0.1478 - val_edge_output_loss: 0.2691 - val_edge_output_mae: 0.2581 - val_loss: 0.4766\n",
      "Epoch 11/20\n",
      "\u001b[1m3184/3184\u001b[0m \u001b[32m━━━━━━━━━━━━━━━━━━━━\u001b[0m\u001b[37m\u001b[0m \u001b[1m3s\u001b[0m 1ms/step - control_output_loss: 0.2217 - control_output_mae: 0.1617 - edge_output_loss: 0.2431 - edge_output_mae: 0.2115 - loss: 0.4648 - val_control_output_loss: 0.1939 - val_control_output_mae: 0.1327 - val_edge_output_loss: 0.2089 - val_edge_output_mae: 0.1801 - val_loss: 0.4029\n",
      "Epoch 12/20\n",
      "\u001b[1m3184/3184\u001b[0m \u001b[32m━━━━━━━━━━━━━━━━━━━━\u001b[0m\u001b[37m\u001b[0m \u001b[1m3s\u001b[0m 1ms/step - control_output_loss: 0.2320 - control_output_mae: 0.1662 - edge_output_loss: 0.2518 - edge_output_mae: 0.2108 - loss: 0.4839 - val_control_output_loss: 0.2124 - val_control_output_mae: 0.1657 - val_edge_output_loss: 0.2107 - val_edge_output_mae: 0.1702 - val_loss: 0.4231\n",
      "Epoch 13/20\n",
      "\u001b[1m3184/3184\u001b[0m \u001b[32m━━━━━━━━━━━━━━━━━━━━\u001b[0m\u001b[37m\u001b[0m \u001b[1m3s\u001b[0m 1ms/step - control_output_loss: 0.2485 - control_output_mae: 0.1768 - edge_output_loss: 0.2497 - edge_output_mae: 0.1768 - loss: 0.4982 - val_control_output_loss: 0.2239 - val_control_output_mae: 0.1907 - val_edge_output_loss: 0.2260 - val_edge_output_mae: 0.1869 - val_loss: 0.4500\n",
      "Epoch 14/20\n",
      "\u001b[1m3184/3184\u001b[0m \u001b[32m━━━━━━━━━━━━━━━━━━━━\u001b[0m\u001b[37m\u001b[0m \u001b[1m4s\u001b[0m 1ms/step - control_output_loss: 0.2286 - control_output_mae: 0.1701 - edge_output_loss: 0.2314 - edge_output_mae: 0.1700 - loss: 0.4599 - val_control_output_loss: 0.2863 - val_control_output_mae: 0.2114 - val_edge_output_loss: 0.3383 - val_edge_output_mae: 0.2421 - val_loss: 0.6248\n",
      "Epoch 15/20\n",
      "\u001b[1m3184/3184\u001b[0m \u001b[32m━━━━━━━━━━━━━━━━━━━━\u001b[0m\u001b[37m\u001b[0m \u001b[1m3s\u001b[0m 1ms/step - control_output_loss: 0.2932 - control_output_mae: 0.2147 - edge_output_loss: 0.3021 - edge_output_mae: 0.2195 - loss: 0.5954 - val_control_output_loss: 0.2203 - val_control_output_mae: 0.1820 - val_edge_output_loss: 0.2200 - val_edge_output_mae: 0.1835 - val_loss: 0.4404\n",
      "Epoch 16/20\n",
      "\u001b[1m3184/3184\u001b[0m \u001b[32m━━━━━━━━━━━━━━━━━━━━\u001b[0m\u001b[37m\u001b[0m \u001b[1m3s\u001b[0m 1ms/step - control_output_loss: 0.2241 - control_output_mae: 0.1715 - edge_output_loss: 0.2259 - edge_output_mae: 0.1711 - loss: 0.4500 - val_control_output_loss: 0.2227 - val_control_output_mae: 0.1798 - val_edge_output_loss: 0.2214 - val_edge_output_mae: 0.1775 - val_loss: 0.4443\n",
      "Epoch 17/20\n",
      "\u001b[1m3184/3184\u001b[0m \u001b[32m━━━━━━━━━━━━━━━━━━━━\u001b[0m\u001b[37m\u001b[0m \u001b[1m4s\u001b[0m 1ms/step - control_output_loss: 0.2281 - control_output_mae: 0.1706 - edge_output_loss: 0.2337 - edge_output_mae: 0.1707 - loss: 0.4618 - val_control_output_loss: 0.2172 - val_control_output_mae: 0.2010 - val_edge_output_loss: 0.2194 - val_edge_output_mae: 0.1739 - val_loss: 0.4366\n",
      "Epoch 18/20\n",
      "\u001b[1m3184/3184\u001b[0m \u001b[32m━━━━━━━━━━━━━━━━━━━━\u001b[0m\u001b[37m\u001b[0m \u001b[1m5s\u001b[0m 1ms/step - control_output_loss: 0.2161 - control_output_mae: 0.1661 - edge_output_loss: 0.2149 - edge_output_mae: 0.1664 - loss: 0.4310 - val_control_output_loss: 0.2136 - val_control_output_mae: 0.1708 - val_edge_output_loss: 0.2117 - val_edge_output_mae: 0.1642 - val_loss: 0.4255\n",
      "Epoch 19/20\n",
      "\u001b[1m3184/3184\u001b[0m \u001b[32m━━━━━━━━━━━━━━━━━━━━\u001b[0m\u001b[37m\u001b[0m \u001b[1m7s\u001b[0m 2ms/step - control_output_loss: 0.2315 - control_output_mae: 0.1667 - edge_output_loss: 0.2312 - edge_output_mae: 0.1655 - loss: 0.4627 - val_control_output_loss: 0.2104 - val_control_output_mae: 0.1633 - val_edge_output_loss: 0.2377 - val_edge_output_mae: 0.1635 - val_loss: 0.4482\n",
      "Epoch 20/20\n",
      "\u001b[1m3184/3184\u001b[0m \u001b[32m━━━━━━━━━━━━━━━━━━━━\u001b[0m\u001b[37m\u001b[0m \u001b[1m5s\u001b[0m 1ms/step - control_output_loss: 0.2235 - control_output_mae: 0.1572 - edge_output_loss: 0.2232 - edge_output_mae: 0.1570 - loss: 0.4467 - val_control_output_loss: 0.2050 - val_control_output_mae: 0.1594 - val_edge_output_loss: 0.2049 - val_edge_output_mae: 0.1624 - val_loss: 0.4099\n",
      "Epoch 1/10\n",
      "\u001b[1m3184/3184\u001b[0m \u001b[32m━━━━━━━━━━━━━━━━━━━━\u001b[0m\u001b[37m\u001b[0m \u001b[1m2s\u001b[0m 472us/step - edge_output_mae: 0.1608 - loss: 0.2252 - val_edge_output_mae: 0.1633 - val_loss: 0.2046\n",
      "Epoch 2/10\n",
      "\u001b[1m3184/3184\u001b[0m \u001b[32m━━━━━━━━━━━━━━━━━━━━\u001b[0m\u001b[37m\u001b[0m \u001b[1m2s\u001b[0m 560us/step - edge_output_mae: 0.1609 - loss: 0.2243 - val_edge_output_mae: 0.1533 - val_loss: 0.2042\n",
      "Epoch 3/10\n",
      "\u001b[1m3184/3184\u001b[0m \u001b[32m━━━━━━━━━━━━━━━━━━━━\u001b[0m\u001b[37m\u001b[0m \u001b[1m1s\u001b[0m 455us/step - edge_output_mae: 0.1592 - loss: 0.2066 - val_edge_output_mae: 0.1552 - val_loss: 0.2042\n",
      "Epoch 4/10\n",
      "\u001b[1m3184/3184\u001b[0m \u001b[32m━━━━━━━━━━━━━━━━━━━━\u001b[0m\u001b[37m\u001b[0m \u001b[1m1s\u001b[0m 464us/step - edge_output_mae: 0.1578 - loss: 0.2109 - val_edge_output_mae: 0.1614 - val_loss: 0.2041\n",
      "Epoch 5/10\n",
      "\u001b[1m3184/3184\u001b[0m \u001b[32m━━━━━━━━━━━━━━━━━━━━\u001b[0m\u001b[37m\u001b[0m \u001b[1m1s\u001b[0m 429us/step - edge_output_mae: 0.1583 - loss: 0.2044 - val_edge_output_mae: 0.1557 - val_loss: 0.2041\n",
      "Epoch 6/10\n",
      "\u001b[1m3184/3184\u001b[0m \u001b[32m━━━━━━━━━━━━━━━━━━━━\u001b[0m\u001b[37m\u001b[0m \u001b[1m2s\u001b[0m 575us/step - edge_output_mae: 0.1584 - loss: 0.2094 - val_edge_output_mae: 0.1503 - val_loss: 0.2042\n",
      "Epoch 7/10\n",
      "\u001b[1m3184/3184\u001b[0m \u001b[32m━━━━━━━━━━━━━━━━━━━━\u001b[0m\u001b[37m\u001b[0m \u001b[1m2s\u001b[0m 469us/step - edge_output_mae: 0.1550 - loss: 0.2006 - val_edge_output_mae: 0.1565 - val_loss: 0.2040\n",
      "Epoch 8/10\n",
      "\u001b[1m3184/3184\u001b[0m \u001b[32m━━━━━━━━━━━━━━━━━━━━\u001b[0m\u001b[37m\u001b[0m \u001b[1m2s\u001b[0m 509us/step - edge_output_mae: 0.1578 - loss: 0.2050 - val_edge_output_mae: 0.1587 - val_loss: 0.2042\n",
      "Epoch 9/10\n",
      "\u001b[1m3184/3184\u001b[0m \u001b[32m━━━━━━━━━━━━━━━━━━━━\u001b[0m\u001b[37m\u001b[0m \u001b[1m1s\u001b[0m 433us/step - edge_output_mae: 0.1574 - loss: 0.2079 - val_edge_output_mae: 0.1561 - val_loss: 0.2043\n",
      "Epoch 10/10\n",
      "\u001b[1m3184/3184\u001b[0m \u001b[32m━━━━━━━━━━━━━━━━━━━━\u001b[0m\u001b[37m\u001b[0m \u001b[1m1s\u001b[0m 445us/step - edge_output_mae: 0.1572 - loss: 0.1941 - val_edge_output_mae: 0.1542 - val_loss: 0.2040\n"
     ]
    },
    {
     "data": {
      "text/html": [
       "<pre style=\"white-space:pre;overflow-x:auto;line-height:normal;font-family:Menlo,'DejaVu Sans Mono',consolas,'Courier New',monospace\"><span style=\"font-weight: bold\">Model: \"functional_13\"</span>\n",
       "</pre>\n"
      ],
      "text/plain": [
       "\u001b[1mModel: \"functional_13\"\u001b[0m\n"
      ]
     },
     "metadata": {},
     "output_type": "display_data"
    },
    {
     "data": {
      "text/html": [
       "<pre style=\"white-space:pre;overflow-x:auto;line-height:normal;font-family:Menlo,'DejaVu Sans Mono',consolas,'Courier New',monospace\">┏━━━━━━━━━━━━━━━━━━━━━━━━━━━━━━━━━┳━━━━━━━━━━━━━━━━━━━━━━━━┳━━━━━━━━━━━━━━━┓\n",
       "┃<span style=\"font-weight: bold\"> Layer (type)                    </span>┃<span style=\"font-weight: bold\"> Output Shape           </span>┃<span style=\"font-weight: bold\">       Param # </span>┃\n",
       "┡━━━━━━━━━━━━━━━━━━━━━━━━━━━━━━━━━╇━━━━━━━━━━━━━━━━━━━━━━━━╇━━━━━━━━━━━━━━━┩\n",
       "│ input_layer_8 (<span style=\"color: #0087ff; text-decoration-color: #0087ff\">InputLayer</span>)      │ (<span style=\"color: #00d7ff; text-decoration-color: #00d7ff\">None</span>, <span style=\"color: #00af00; text-decoration-color: #00af00\">19</span>)             │             <span style=\"color: #00af00; text-decoration-color: #00af00\">0</span> │\n",
       "├─────────────────────────────────┼────────────────────────┼───────────────┤\n",
       "│ e1 (<span style=\"color: #0087ff; text-decoration-color: #0087ff\">Dense</span>)                      │ (<span style=\"color: #00d7ff; text-decoration-color: #00d7ff\">None</span>, <span style=\"color: #00af00; text-decoration-color: #00af00\">64</span>)             │         <span style=\"color: #00af00; text-decoration-color: #00af00\">1,280</span> │\n",
       "├─────────────────────────────────┼────────────────────────┼───────────────┤\n",
       "│ e3 (<span style=\"color: #0087ff; text-decoration-color: #0087ff\">Dense</span>)                      │ (<span style=\"color: #00d7ff; text-decoration-color: #00d7ff\">None</span>, <span style=\"color: #00af00; text-decoration-color: #00af00\">64</span>)             │         <span style=\"color: #00af00; text-decoration-color: #00af00\">4,160</span> │\n",
       "├─────────────────────────────────┼────────────────────────┼───────────────┤\n",
       "│ e4 (<span style=\"color: #0087ff; text-decoration-color: #0087ff\">Dense</span>)                      │ (<span style=\"color: #00d7ff; text-decoration-color: #00d7ff\">None</span>, <span style=\"color: #00af00; text-decoration-color: #00af00\">32</span>)             │         <span style=\"color: #00af00; text-decoration-color: #00af00\">2,080</span> │\n",
       "├─────────────────────────────────┼────────────────────────┼───────────────┤\n",
       "│ edge_output (<span style=\"color: #0087ff; text-decoration-color: #0087ff\">Dense</span>)             │ (<span style=\"color: #00d7ff; text-decoration-color: #00d7ff\">None</span>, <span style=\"color: #00af00; text-decoration-color: #00af00\">1</span>)              │            <span style=\"color: #00af00; text-decoration-color: #00af00\">33</span> │\n",
       "└─────────────────────────────────┴────────────────────────┴───────────────┘\n",
       "</pre>\n"
      ],
      "text/plain": [
       "┏━━━━━━━━━━━━━━━━━━━━━━━━━━━━━━━━━┳━━━━━━━━━━━━━━━━━━━━━━━━┳━━━━━━━━━━━━━━━┓\n",
       "┃\u001b[1m \u001b[0m\u001b[1mLayer (type)                   \u001b[0m\u001b[1m \u001b[0m┃\u001b[1m \u001b[0m\u001b[1mOutput Shape          \u001b[0m\u001b[1m \u001b[0m┃\u001b[1m \u001b[0m\u001b[1m      Param #\u001b[0m\u001b[1m \u001b[0m┃\n",
       "┡━━━━━━━━━━━━━━━━━━━━━━━━━━━━━━━━━╇━━━━━━━━━━━━━━━━━━━━━━━━╇━━━━━━━━━━━━━━━┩\n",
       "│ input_layer_8 (\u001b[38;5;33mInputLayer\u001b[0m)      │ (\u001b[38;5;45mNone\u001b[0m, \u001b[38;5;34m19\u001b[0m)             │             \u001b[38;5;34m0\u001b[0m │\n",
       "├─────────────────────────────────┼────────────────────────┼───────────────┤\n",
       "│ e1 (\u001b[38;5;33mDense\u001b[0m)                      │ (\u001b[38;5;45mNone\u001b[0m, \u001b[38;5;34m64\u001b[0m)             │         \u001b[38;5;34m1,280\u001b[0m │\n",
       "├─────────────────────────────────┼────────────────────────┼───────────────┤\n",
       "│ e3 (\u001b[38;5;33mDense\u001b[0m)                      │ (\u001b[38;5;45mNone\u001b[0m, \u001b[38;5;34m64\u001b[0m)             │         \u001b[38;5;34m4,160\u001b[0m │\n",
       "├─────────────────────────────────┼────────────────────────┼───────────────┤\n",
       "│ e4 (\u001b[38;5;33mDense\u001b[0m)                      │ (\u001b[38;5;45mNone\u001b[0m, \u001b[38;5;34m32\u001b[0m)             │         \u001b[38;5;34m2,080\u001b[0m │\n",
       "├─────────────────────────────────┼────────────────────────┼───────────────┤\n",
       "│ edge_output (\u001b[38;5;33mDense\u001b[0m)             │ (\u001b[38;5;45mNone\u001b[0m, \u001b[38;5;34m1\u001b[0m)              │            \u001b[38;5;34m33\u001b[0m │\n",
       "└─────────────────────────────────┴────────────────────────┴───────────────┘\n"
      ]
     },
     "metadata": {},
     "output_type": "display_data"
    },
    {
     "data": {
      "text/html": [
       "<pre style=\"white-space:pre;overflow-x:auto;line-height:normal;font-family:Menlo,'DejaVu Sans Mono',consolas,'Courier New',monospace\"><span style=\"font-weight: bold\"> Total params: </span><span style=\"color: #00af00; text-decoration-color: #00af00\">7,621</span> (29.77 KB)\n",
       "</pre>\n"
      ],
      "text/plain": [
       "\u001b[1m Total params: \u001b[0m\u001b[38;5;34m7,621\u001b[0m (29.77 KB)\n"
      ]
     },
     "metadata": {},
     "output_type": "display_data"
    },
    {
     "data": {
      "text/html": [
       "<pre style=\"white-space:pre;overflow-x:auto;line-height:normal;font-family:Menlo,'DejaVu Sans Mono',consolas,'Courier New',monospace\"><span style=\"font-weight: bold\"> Trainable params: </span><span style=\"color: #00af00; text-decoration-color: #00af00\">33</span> (132.00 B)\n",
       "</pre>\n"
      ],
      "text/plain": [
       "\u001b[1m Trainable params: \u001b[0m\u001b[38;5;34m33\u001b[0m (132.00 B)\n"
      ]
     },
     "metadata": {},
     "output_type": "display_data"
    },
    {
     "data": {
      "text/html": [
       "<pre style=\"white-space:pre;overflow-x:auto;line-height:normal;font-family:Menlo,'DejaVu Sans Mono',consolas,'Courier New',monospace\"><span style=\"font-weight: bold\"> Non-trainable params: </span><span style=\"color: #00af00; text-decoration-color: #00af00\">7,520</span> (29.38 KB)\n",
       "</pre>\n"
      ],
      "text/plain": [
       "\u001b[1m Non-trainable params: \u001b[0m\u001b[38;5;34m7,520\u001b[0m (29.38 KB)\n"
      ]
     },
     "metadata": {},
     "output_type": "display_data"
    },
    {
     "data": {
      "text/html": [
       "<pre style=\"white-space:pre;overflow-x:auto;line-height:normal;font-family:Menlo,'DejaVu Sans Mono',consolas,'Courier New',monospace\"><span style=\"font-weight: bold\"> Optimizer params: </span><span style=\"color: #00af00; text-decoration-color: #00af00\">68</span> (276.00 B)\n",
       "</pre>\n"
      ],
      "text/plain": [
       "\u001b[1m Optimizer params: \u001b[0m\u001b[38;5;34m68\u001b[0m (276.00 B)\n"
      ]
     },
     "metadata": {},
     "output_type": "display_data"
    },
    {
     "data": {
      "text/html": [
       "<pre style=\"white-space:pre;overflow-x:auto;line-height:normal;font-family:Menlo,'DejaVu Sans Mono',consolas,'Courier New',monospace\"><span style=\"font-weight: bold\">Model: \"functional_14\"</span>\n",
       "</pre>\n"
      ],
      "text/plain": [
       "\u001b[1mModel: \"functional_14\"\u001b[0m\n"
      ]
     },
     "metadata": {},
     "output_type": "display_data"
    },
    {
     "data": {
      "text/html": [
       "<pre style=\"white-space:pre;overflow-x:auto;line-height:normal;font-family:Menlo,'DejaVu Sans Mono',consolas,'Courier New',monospace\">┏━━━━━━━━━━━━━━━━━━━━━━━━━━━━━━━━━┳━━━━━━━━━━━━━━━━━━━━━━━━┳━━━━━━━━━━━━━━━┓\n",
       "┃<span style=\"font-weight: bold\"> Layer (type)                    </span>┃<span style=\"font-weight: bold\"> Output Shape           </span>┃<span style=\"font-weight: bold\">       Param # </span>┃\n",
       "┡━━━━━━━━━━━━━━━━━━━━━━━━━━━━━━━━━╇━━━━━━━━━━━━━━━━━━━━━━━━╇━━━━━━━━━━━━━━━┩\n",
       "│ input_layer_9 (<span style=\"color: #0087ff; text-decoration-color: #0087ff\">InputLayer</span>)      │ (<span style=\"color: #00d7ff; text-decoration-color: #00d7ff\">None</span>, <span style=\"color: #00af00; text-decoration-color: #00af00\">32</span>)             │             <span style=\"color: #00af00; text-decoration-color: #00af00\">0</span> │\n",
       "├─────────────────────────────────┼────────────────────────┼───────────────┤\n",
       "│ controlmodel (<span style=\"color: #0087ff; text-decoration-color: #0087ff\">Dense</span>)            │ (<span style=\"color: #00d7ff; text-decoration-color: #00d7ff\">None</span>, <span style=\"color: #00af00; text-decoration-color: #00af00\">64</span>)             │         <span style=\"color: #00af00; text-decoration-color: #00af00\">2,112</span> │\n",
       "├─────────────────────────────────┼────────────────────────┼───────────────┤\n",
       "│ l1 (<span style=\"color: #0087ff; text-decoration-color: #0087ff\">Dense</span>)                      │ (<span style=\"color: #00d7ff; text-decoration-color: #00d7ff\">None</span>, <span style=\"color: #00af00; text-decoration-color: #00af00\">256</span>)            │        <span style=\"color: #00af00; text-decoration-color: #00af00\">16,640</span> │\n",
       "├─────────────────────────────────┼────────────────────────┼───────────────┤\n",
       "│ l2 (<span style=\"color: #0087ff; text-decoration-color: #0087ff\">Dense</span>)                      │ (<span style=\"color: #00d7ff; text-decoration-color: #00d7ff\">None</span>, <span style=\"color: #00af00; text-decoration-color: #00af00\">128</span>)            │        <span style=\"color: #00af00; text-decoration-color: #00af00\">32,896</span> │\n",
       "├─────────────────────────────────┼────────────────────────┼───────────────┤\n",
       "│ l3 (<span style=\"color: #0087ff; text-decoration-color: #0087ff\">Dense</span>)                      │ (<span style=\"color: #00d7ff; text-decoration-color: #00d7ff\">None</span>, <span style=\"color: #00af00; text-decoration-color: #00af00\">64</span>)             │         <span style=\"color: #00af00; text-decoration-color: #00af00\">8,256</span> │\n",
       "├─────────────────────────────────┼────────────────────────┼───────────────┤\n",
       "│ control_output (<span style=\"color: #0087ff; text-decoration-color: #0087ff\">Dense</span>)          │ (<span style=\"color: #00d7ff; text-decoration-color: #00d7ff\">None</span>, <span style=\"color: #00af00; text-decoration-color: #00af00\">1</span>)              │            <span style=\"color: #00af00; text-decoration-color: #00af00\">65</span> │\n",
       "└─────────────────────────────────┴────────────────────────┴───────────────┘\n",
       "</pre>\n"
      ],
      "text/plain": [
       "┏━━━━━━━━━━━━━━━━━━━━━━━━━━━━━━━━━┳━━━━━━━━━━━━━━━━━━━━━━━━┳━━━━━━━━━━━━━━━┓\n",
       "┃\u001b[1m \u001b[0m\u001b[1mLayer (type)                   \u001b[0m\u001b[1m \u001b[0m┃\u001b[1m \u001b[0m\u001b[1mOutput Shape          \u001b[0m\u001b[1m \u001b[0m┃\u001b[1m \u001b[0m\u001b[1m      Param #\u001b[0m\u001b[1m \u001b[0m┃\n",
       "┡━━━━━━━━━━━━━━━━━━━━━━━━━━━━━━━━━╇━━━━━━━━━━━━━━━━━━━━━━━━╇━━━━━━━━━━━━━━━┩\n",
       "│ input_layer_9 (\u001b[38;5;33mInputLayer\u001b[0m)      │ (\u001b[38;5;45mNone\u001b[0m, \u001b[38;5;34m32\u001b[0m)             │             \u001b[38;5;34m0\u001b[0m │\n",
       "├─────────────────────────────────┼────────────────────────┼───────────────┤\n",
       "│ controlmodel (\u001b[38;5;33mDense\u001b[0m)            │ (\u001b[38;5;45mNone\u001b[0m, \u001b[38;5;34m64\u001b[0m)             │         \u001b[38;5;34m2,112\u001b[0m │\n",
       "├─────────────────────────────────┼────────────────────────┼───────────────┤\n",
       "│ l1 (\u001b[38;5;33mDense\u001b[0m)                      │ (\u001b[38;5;45mNone\u001b[0m, \u001b[38;5;34m256\u001b[0m)            │        \u001b[38;5;34m16,640\u001b[0m │\n",
       "├─────────────────────────────────┼────────────────────────┼───────────────┤\n",
       "│ l2 (\u001b[38;5;33mDense\u001b[0m)                      │ (\u001b[38;5;45mNone\u001b[0m, \u001b[38;5;34m128\u001b[0m)            │        \u001b[38;5;34m32,896\u001b[0m │\n",
       "├─────────────────────────────────┼────────────────────────┼───────────────┤\n",
       "│ l3 (\u001b[38;5;33mDense\u001b[0m)                      │ (\u001b[38;5;45mNone\u001b[0m, \u001b[38;5;34m64\u001b[0m)             │         \u001b[38;5;34m8,256\u001b[0m │\n",
       "├─────────────────────────────────┼────────────────────────┼───────────────┤\n",
       "│ control_output (\u001b[38;5;33mDense\u001b[0m)          │ (\u001b[38;5;45mNone\u001b[0m, \u001b[38;5;34m1\u001b[0m)              │            \u001b[38;5;34m65\u001b[0m │\n",
       "└─────────────────────────────────┴────────────────────────┴───────────────┘\n"
      ]
     },
     "metadata": {},
     "output_type": "display_data"
    },
    {
     "data": {
      "text/html": [
       "<pre style=\"white-space:pre;overflow-x:auto;line-height:normal;font-family:Menlo,'DejaVu Sans Mono',consolas,'Courier New',monospace\"><span style=\"font-weight: bold\"> Total params: </span><span style=\"color: #00af00; text-decoration-color: #00af00\">59,969</span> (234.25 KB)\n",
       "</pre>\n"
      ],
      "text/plain": [
       "\u001b[1m Total params: \u001b[0m\u001b[38;5;34m59,969\u001b[0m (234.25 KB)\n"
      ]
     },
     "metadata": {},
     "output_type": "display_data"
    },
    {
     "data": {
      "text/html": [
       "<pre style=\"white-space:pre;overflow-x:auto;line-height:normal;font-family:Menlo,'DejaVu Sans Mono',consolas,'Courier New',monospace\"><span style=\"font-weight: bold\"> Trainable params: </span><span style=\"color: #00af00; text-decoration-color: #00af00\">59,969</span> (234.25 KB)\n",
       "</pre>\n"
      ],
      "text/plain": [
       "\u001b[1m Trainable params: \u001b[0m\u001b[38;5;34m59,969\u001b[0m (234.25 KB)\n"
      ]
     },
     "metadata": {},
     "output_type": "display_data"
    },
    {
     "data": {
      "text/html": [
       "<pre style=\"white-space:pre;overflow-x:auto;line-height:normal;font-family:Menlo,'DejaVu Sans Mono',consolas,'Courier New',monospace\"><span style=\"font-weight: bold\"> Non-trainable params: </span><span style=\"color: #00af00; text-decoration-color: #00af00\">0</span> (0.00 B)\n",
       "</pre>\n"
      ],
      "text/plain": [
       "\u001b[1m Non-trainable params: \u001b[0m\u001b[38;5;34m0\u001b[0m (0.00 B)\n"
      ]
     },
     "metadata": {},
     "output_type": "display_data"
    },
    {
     "name": "stdout",
     "output_type": "stream",
     "text": [
      "INFO:tensorflow:Assets written to: expt/assets\n"
     ]
    },
    {
     "name": "stderr",
     "output_type": "stream",
     "text": [
      "INFO:tensorflow:Assets written to: expt/assets\n"
     ]
    },
    {
     "name": "stdout",
     "output_type": "stream",
     "text": [
      "Saved artifact at 'expt'. The following endpoints are available:\n",
      "\n",
      "* Endpoint 'serve'\n",
      "  args_0 (POSITIONAL_ONLY): TensorSpec(shape=(None, 19), dtype=tf.float32, name='keras_tensor_122')\n",
      "Output Type:\n",
      "  List[TensorSpec(shape=(None, 32), dtype=tf.float32, name=None), TensorSpec(shape=(None, 1), dtype=tf.float32, name=None)]\n",
      "Captures:\n",
      "  13085579536: TensorSpec(shape=(), dtype=tf.resource, name=None)\n",
      "  13085573584: TensorSpec(shape=(), dtype=tf.resource, name=None)\n",
      "  13085586832: TensorSpec(shape=(), dtype=tf.resource, name=None)\n",
      "  13085582992: TensorSpec(shape=(), dtype=tf.resource, name=None)\n",
      "  13085583760: TensorSpec(shape=(), dtype=tf.resource, name=None)\n",
      "  13085580304: TensorSpec(shape=(), dtype=tf.resource, name=None)\n",
      "  13085576848: TensorSpec(shape=(), dtype=tf.resource, name=None)\n",
      "  13085577232: TensorSpec(shape=(), dtype=tf.resource, name=None)\n"
     ]
    },
    {
     "name": "stderr",
     "output_type": "stream",
     "text": [
      "W0000 00:00:1743020758.807434 13507011 tf_tfl_flatbuffer_helpers.cc:365] Ignored output_format.\n",
      "W0000 00:00:1743020758.807998 13507011 tf_tfl_flatbuffer_helpers.cc:368] Ignored drop_control_dependency.\n",
      "2025-03-26 20:25:58.809778: I tensorflow/cc/saved_model/reader.cc:83] Reading SavedModel from: ./expt\n",
      "2025-03-26 20:25:58.810109: I tensorflow/cc/saved_model/reader.cc:52] Reading meta graph with tags { serve }\n",
      "2025-03-26 20:25:58.810115: I tensorflow/cc/saved_model/reader.cc:147] Reading SavedModel debug info (if present) from: ./expt\n",
      "2025-03-26 20:25:58.814704: I tensorflow/cc/saved_model/loader.cc:236] Restoring SavedModel bundle.\n",
      "2025-03-26 20:25:58.837347: I tensorflow/cc/saved_model/loader.cc:220] Running initialization op on SavedModel bundle at path: ./expt\n",
      "2025-03-26 20:25:58.842553: I tensorflow/cc/saved_model/loader.cc:466] SavedModel load for tags { serve }; Status: success: OK. Took 32780 microseconds.\n"
     ]
    }
   ],
   "source": [
    "import pandas as pd\n",
    "from sklearn.preprocessing import LabelEncoder\n",
    "from tensorflow.keras import Input, Model, layers\n",
    "from sklearn.model_selection import train_test_split\n",
    "\n",
    "# Load and preprocess data\n",
    "RAIN_THRESHHOLD = 0.5\n",
    "data = pd.read_csv('weather_data.csv', low_memory=False)\n",
    "data = data.sample(frac=1, random_state=2).reset_index(drop=True)\n",
    "data = data.replace('', float('nan')).dropna()\n",
    "data = data.replace(' ', float('nan'))\n",
    "data = data.dropna(subset=['wetb', 'vappr', 'rhum', 'vis'])\n",
    "X = data.drop(columns=['rain','date'])\n",
    "y = data['rain']\n",
    "print(data.isna().sum())\n",
    "\n",
    "# Ensure all data is numeric\n",
    "X = X.astype(float)\n",
    "\n",
    "# Split into training and testing sets\n",
    "X_train, X_test, y_train, y_test = train_test_split(X, y, test_size=0.2, random_state=42)\n",
    "\n",
    "# Reshape y to (num_samples, 1) for regression\n",
    "y_train = y_train.values.reshape(-1, 1)\n",
    "y_test = y_test.values.reshape(-1, 1)\n",
    "\n",
    "# Define the model\n",
    "inputs = Input(shape=(X_train.shape[1],))\n",
    "x = layers.Dense(64, activation='relu', name='e1')(inputs)\n",
    "z = layers.Dense(64, activation='relu', name='e2')(x)\n",
    "x = layers.Dense(64, activation='relu', name='e3')(x)\n",
    "x = layers.Dense(32, activation='relu', name='e4')(x)\n",
    "edge_outputs = layers.Dense(1, activation='linear', name='edge_output')(x)\n",
    "x = layers.Dense(64, activation='relu', name='controlmodel')(x)\n",
    "x = layers.Dense(256, activation='relu', name='l1')(x)\n",
    "x = layers.Dense(128, activation='relu', name='l2')(x)\n",
    "x = layers.Dense(64, activation='relu', name='l3')(x)\n",
    "\n",
    "control_outputs = layers.Dense(1, activation='linear', name='control_output')(x)\n",
    "\n",
    "# Create and compile the combined model\n",
    "combined_model = Model(inputs=inputs, outputs=[edge_outputs, control_outputs])\n",
    "combined_model.compile(optimizer='adam',\n",
    "                       loss={'edge_output': 'mean_squared_error',\n",
    "                             'control_output': 'mean_squared_error'},\n",
    "                       metrics={'edge_output': 'mae',\n",
    "                                'control_output': 'mae'})\n",
    "\n",
    "# Train the combined model\n",
    "combined_model.fit(X_train, [y_train, y_train], \n",
    "                   epochs=10, batch_size=32, \n",
    "                   validation_data=(X_test, [y_test, y_test]))\n",
    "\n",
    "# Define the edge_model\n",
    "edge_model = Model(inputs=inputs, outputs=[combined_model.get_layer('e4').output, edge_outputs])\n",
    "\n",
    "# x§This needs training \n",
    "# Set last as untrainable, then train last ones, this is not needed for contorl model becasue its last output is trained when entire model \n",
    "# gets trained\n",
    "for layer in edge_model.layers:\n",
    "    layer.trainable = False\n",
    "\n",
    "edge_model.get_layer('edge_output').trainable= True\n",
    "\n",
    "edge_model.compile(optimizer='adam',\n",
    "                   loss={'e4': None, 'edge_output': 'mean_squared_error'},\n",
    "                   metrics={'edge_output': 'mae'})\n",
    "\n",
    "history = edge_model.fit(X_train, [y_train, y_train], \n",
    "               epochs=15, batch_size=32, \n",
    "               validation_data=(X_test, [y_test, y_test]))\n",
    "\n",
    "# Define the control_model\n",
    "control_model_input = Input(shape=(32,))  # Shape of the intermediate layer output\n",
    "z = combined_model.get_layer('controlmodel')(control_model_input)\n",
    "z = combined_model.get_layer('l1')(z)\n",
    "z = combined_model.get_layer('l2')(z)\n",
    "z = combined_model.get_layer('l3')(z)\n",
    "\n",
    "control_model_outputs = combined_model.get_layer('control_output')(z)\n",
    "control_model = Model(inputs=control_model_input, outputs=control_model_outputs)\n",
    "\n",
    "# Inspect the models\n",
    "edge_model.summary()\n",
    "control_model.summary()\n",
    "\n",
    "edge_model.export(\"expt\")\n",
    "converter = tf.lite.TFLiteConverter.from_saved_model('./expt')\n",
    "tflite_model = converter.convert()\n",
    "with open('../deployment/models/edge_modelS4.tflite', 'wb') as f:\n",
    "  f.write(tflite_model)\n",
    "\n",
    "edge_model.save('../deployment/models/edge_modelS4.keras')\n",
    "    \n",
    "control_model.save('../deployment/models/control_modelS4.keras')\n",
    "\n"
   ]
  },
  {
   "cell_type": "markdown",
   "metadata": {},
   "source": [
    "## S5"
   ]
  },
  {
   "cell_type": "code",
   "execution_count": 25,
   "metadata": {},
   "outputs": [
    {
     "name": "stdout",
     "output_type": "stream",
     "text": [
      "date     0\n",
      "ind      0\n",
      "rain     0\n",
      "ind1     0\n",
      "temp     0\n",
      "ind2     0\n",
      "wetb     0\n",
      "dewpt    0\n",
      "vappr    0\n",
      "rhum     0\n",
      "msl      0\n",
      "ind3     0\n",
      "wdsp     0\n",
      "ind4     0\n",
      "wddir    0\n",
      "ww       0\n",
      "w        0\n",
      "sun      0\n",
      "vis      0\n",
      "clht     0\n",
      "clamt    0\n",
      "dtype: int64\n",
      "Epoch 1/20\n",
      "\u001b[1m3184/3184\u001b[0m \u001b[32m━━━━━━━━━━━━━━━━━━━━\u001b[0m\u001b[37m\u001b[0m \u001b[1m5s\u001b[0m 1ms/step - control_output_loss: 13693.0371 - control_output_mae: 13.5191 - edge_output_loss: 24105.9082 - edge_output_mae: 25.5536 - loss: 37798.9570 - val_control_output_loss: 0.3793 - val_control_output_mae: 0.4188 - val_edge_output_loss: 1.7812 - val_edge_output_mae: 1.1215 - val_loss: 2.1607\n",
      "Epoch 2/20\n",
      "\u001b[1m3184/3184\u001b[0m \u001b[32m━━━━━━━━━━━━━━━━━━━━\u001b[0m\u001b[37m\u001b[0m \u001b[1m3s\u001b[0m 1ms/step - control_output_loss: 0.3552 - control_output_mae: 0.3433 - edge_output_loss: 73.3040 - edge_output_mae: 3.6016 - loss: 73.6592 - val_control_output_loss: 0.3296 - val_control_output_mae: 0.3590 - val_edge_output_loss: 22.2616 - val_edge_output_mae: 4.1673 - val_loss: 22.5923\n",
      "Epoch 3/20\n",
      "\u001b[1m3184/3184\u001b[0m \u001b[32m━━━━━━━━━━━━━━━━━━━━\u001b[0m\u001b[37m\u001b[0m \u001b[1m3s\u001b[0m 1ms/step - control_output_loss: 0.6293 - control_output_mae: 0.3639 - edge_output_loss: 48.0878 - edge_output_mae: 2.3682 - loss: 48.7171 - val_control_output_loss: 0.2418 - val_control_output_mae: 0.2233 - val_edge_output_loss: 1.2459 - val_edge_output_mae: 0.9030 - val_loss: 1.4879\n",
      "Epoch 4/20\n",
      "\u001b[1m3184/3184\u001b[0m \u001b[32m━━━━━━━━━━━━━━━━━━━━\u001b[0m\u001b[37m\u001b[0m \u001b[1m3s\u001b[0m 981us/step - control_output_loss: 0.2657 - control_output_mae: 0.2705 - edge_output_loss: 2.2723 - edge_output_mae: 0.8392 - loss: 2.5379 - val_control_output_loss: 0.2166 - val_control_output_mae: 0.2106 - val_edge_output_loss: 0.3212 - val_edge_output_mae: 0.3530 - val_loss: 0.5379\n",
      "Epoch 5/20\n",
      "\u001b[1m3184/3184\u001b[0m \u001b[32m━━━━━━━━━━━━━━━━━━━━\u001b[0m\u001b[37m\u001b[0m \u001b[1m3s\u001b[0m 968us/step - control_output_loss: 2.5102 - control_output_mae: 0.3290 - edge_output_loss: 27.7575 - edge_output_mae: 0.6709 - loss: 30.2677 - val_control_output_loss: 0.2358 - val_control_output_mae: 0.1682 - val_edge_output_loss: 0.2357 - val_edge_output_mae: 0.1719 - val_loss: 0.4716\n",
      "Epoch 6/20\n",
      "\u001b[1m3184/3184\u001b[0m \u001b[32m━━━━━━━━━━━━━━━━━━━━\u001b[0m\u001b[37m\u001b[0m \u001b[1m3s\u001b[0m 1ms/step - control_output_loss: 0.2461 - control_output_mae: 0.1866 - edge_output_loss: 0.2546 - edge_output_mae: 0.2041 - loss: 0.5007 - val_control_output_loss: 0.2219 - val_control_output_mae: 0.1396 - val_edge_output_loss: 0.2245 - val_edge_output_mae: 0.1917 - val_loss: 0.4465\n",
      "Epoch 7/20\n",
      "\u001b[1m3184/3184\u001b[0m \u001b[32m━━━━━━━━━━━━━━━━━━━━\u001b[0m\u001b[37m\u001b[0m \u001b[1m3s\u001b[0m 925us/step - control_output_loss: 0.2247 - control_output_mae: 0.1666 - edge_output_loss: 0.2296 - edge_output_mae: 0.1721 - loss: 0.4544 - val_control_output_loss: 0.2538 - val_control_output_mae: 0.2048 - val_edge_output_loss: 0.2422 - val_edge_output_mae: 0.1924 - val_loss: 0.4961\n",
      "Epoch 8/20\n",
      "\u001b[1m3184/3184\u001b[0m \u001b[32m━━━━━━━━━━━━━━━━━━━━\u001b[0m\u001b[37m\u001b[0m \u001b[1m3s\u001b[0m 936us/step - control_output_loss: 0.2302 - control_output_mae: 0.1716 - edge_output_loss: 0.2351 - edge_output_mae: 0.1749 - loss: 0.4652 - val_control_output_loss: 0.2319 - val_control_output_mae: 0.1549 - val_edge_output_loss: 0.2239 - val_edge_output_mae: 0.1607 - val_loss: 0.4559\n",
      "Epoch 9/20\n",
      "\u001b[1m3184/3184\u001b[0m \u001b[32m━━━━━━━━━━━━━━━━━━━━\u001b[0m\u001b[37m\u001b[0m \u001b[1m3s\u001b[0m 1ms/step - control_output_loss: 0.2692 - control_output_mae: 0.1872 - edge_output_loss: 0.2743 - edge_output_mae: 0.1882 - loss: 0.5435 - val_control_output_loss: 0.3044 - val_control_output_mae: 0.2298 - val_edge_output_loss: 0.3043 - val_edge_output_mae: 0.2312 - val_loss: 0.6088\n",
      "Epoch 10/20\n",
      "\u001b[1m3184/3184\u001b[0m \u001b[32m━━━━━━━━━━━━━━━━━━━━\u001b[0m\u001b[37m\u001b[0m \u001b[1m3s\u001b[0m 930us/step - control_output_loss: 0.2717 - control_output_mae: 0.2067 - edge_output_loss: 0.2718 - edge_output_mae: 0.2061 - loss: 0.5434 - val_control_output_loss: 0.2177 - val_control_output_mae: 0.1864 - val_edge_output_loss: 0.2149 - val_edge_output_mae: 0.1878 - val_loss: 0.4327\n",
      "Epoch 11/20\n",
      "\u001b[1m3184/3184\u001b[0m \u001b[32m━━━━━━━━━━━━━━━━━━━━\u001b[0m\u001b[37m\u001b[0m \u001b[1m3s\u001b[0m 918us/step - control_output_loss: 0.2420 - control_output_mae: 0.1749 - edge_output_loss: 0.2421 - edge_output_mae: 0.1740 - loss: 0.4841 - val_control_output_loss: 0.2259 - val_control_output_mae: 0.1647 - val_edge_output_loss: 0.2229 - val_edge_output_mae: 0.1652 - val_loss: 0.4489\n",
      "Epoch 12/20\n",
      "\u001b[1m3184/3184\u001b[0m \u001b[32m━━━━━━━━━━━━━━━━━━━━\u001b[0m\u001b[37m\u001b[0m \u001b[1m3s\u001b[0m 934us/step - control_output_loss: 0.2357 - control_output_mae: 0.1843 - edge_output_loss: 0.2381 - edge_output_mae: 0.1840 - loss: 0.4738 - val_control_output_loss: 0.2194 - val_control_output_mae: 0.1725 - val_edge_output_loss: 0.2306 - val_edge_output_mae: 0.1795 - val_loss: 0.4501\n",
      "Epoch 13/20\n",
      "\u001b[1m3184/3184\u001b[0m \u001b[32m━━━━━━━━━━━━━━━━━━━━\u001b[0m\u001b[37m\u001b[0m \u001b[1m3s\u001b[0m 905us/step - control_output_loss: 0.2356 - control_output_mae: 0.1776 - edge_output_loss: 0.2348 - edge_output_mae: 0.1767 - loss: 0.4703 - val_control_output_loss: 0.2112 - val_control_output_mae: 0.1706 - val_edge_output_loss: 0.2112 - val_edge_output_mae: 0.1676 - val_loss: 0.4225\n",
      "Epoch 14/20\n",
      "\u001b[1m3184/3184\u001b[0m \u001b[32m━━━━━━━━━━━━━━━━━━━━\u001b[0m\u001b[37m\u001b[0m \u001b[1m3s\u001b[0m 907us/step - control_output_loss: 0.2818 - control_output_mae: 0.2141 - edge_output_loss: 0.2934 - edge_output_mae: 0.2204 - loss: 0.5751 - val_control_output_loss: 0.2554 - val_control_output_mae: 0.1820 - val_edge_output_loss: 0.2890 - val_edge_output_mae: 0.2319 - val_loss: 0.5445\n",
      "Epoch 15/20\n",
      "\u001b[1m3184/3184\u001b[0m \u001b[32m━━━━━━━━━━━━━━━━━━━━\u001b[0m\u001b[37m\u001b[0m \u001b[1m3s\u001b[0m 914us/step - control_output_loss: 0.2647 - control_output_mae: 0.1928 - edge_output_loss: 0.2969 - edge_output_mae: 0.2427 - loss: 0.5616 - val_control_output_loss: 0.2410 - val_control_output_mae: 0.1654 - val_edge_output_loss: 0.2845 - val_edge_output_mae: 0.2374 - val_loss: 0.5256\n",
      "Epoch 16/20\n",
      "\u001b[1m3184/3184\u001b[0m \u001b[32m━━━━━━━━━━━━━━━━━━━━\u001b[0m\u001b[37m\u001b[0m \u001b[1m3s\u001b[0m 901us/step - control_output_loss: 0.2439 - control_output_mae: 0.1767 - edge_output_loss: 0.2814 - edge_output_mae: 0.2324 - loss: 0.5254 - val_control_output_loss: 0.2572 - val_control_output_mae: 0.1836 - val_edge_output_loss: 0.2830 - val_edge_output_mae: 0.2504 - val_loss: 0.5404\n",
      "Epoch 17/20\n",
      "\u001b[1m3184/3184\u001b[0m \u001b[32m━━━━━━━━━━━━━━━━━━━━\u001b[0m\u001b[37m\u001b[0m \u001b[1m3s\u001b[0m 974us/step - control_output_loss: 0.2590 - control_output_mae: 0.1823 - edge_output_loss: 0.2866 - edge_output_mae: 0.2161 - loss: 0.5456 - val_control_output_loss: 0.2381 - val_control_output_mae: 0.1901 - val_edge_output_loss: 0.2798 - val_edge_output_mae: 0.2752 - val_loss: 0.5181\n",
      "Epoch 18/20\n",
      "\u001b[1m3184/3184\u001b[0m \u001b[32m━━━━━━━━━━━━━━━━━━━━\u001b[0m\u001b[37m\u001b[0m \u001b[1m3s\u001b[0m 926us/step - control_output_loss: 0.2372 - control_output_mae: 0.1780 - edge_output_loss: 0.2688 - edge_output_mae: 0.2468 - loss: 0.5060 - val_control_output_loss: 0.2313 - val_control_output_mae: 0.1557 - val_edge_output_loss: 0.2445 - val_edge_output_mae: 0.1718 - val_loss: 0.4759\n",
      "Epoch 19/20\n",
      "\u001b[1m3184/3184\u001b[0m \u001b[32m━━━━━━━━━━━━━━━━━━━━\u001b[0m\u001b[37m\u001b[0m \u001b[1m3s\u001b[0m 923us/step - control_output_loss: 0.2676 - control_output_mae: 0.1842 - edge_output_loss: 0.2744 - edge_output_mae: 0.2085 - loss: 0.5420 - val_control_output_loss: 0.2666 - val_control_output_mae: 0.1850 - val_edge_output_loss: 0.2692 - val_edge_output_mae: 0.2078 - val_loss: 0.5360\n",
      "Epoch 20/20\n",
      "\u001b[1m3184/3184\u001b[0m \u001b[32m━━━━━━━━━━━━━━━━━━━━\u001b[0m\u001b[37m\u001b[0m \u001b[1m3s\u001b[0m 918us/step - control_output_loss: 0.2775 - control_output_mae: 0.1949 - edge_output_loss: 0.2785 - edge_output_mae: 0.2101 - loss: 0.5560 - val_control_output_loss: 0.2630 - val_control_output_mae: 0.2078 - val_edge_output_loss: 0.2670 - val_edge_output_mae: 0.2339 - val_loss: 0.5302\n",
      "Epoch 1/10\n",
      "\u001b[1m3184/3184\u001b[0m \u001b[32m━━━━━━━━━━━━━━━━━━━━\u001b[0m\u001b[37m\u001b[0m \u001b[1m2s\u001b[0m 472us/step - edge_output_mae: 0.1908 - loss: 0.2625 - val_edge_output_mae: 0.1845 - val_loss: 0.2598\n",
      "Epoch 2/10\n",
      "\u001b[1m3184/3184\u001b[0m \u001b[32m━━━━━━━━━━━━━━━━━━━━\u001b[0m\u001b[37m\u001b[0m \u001b[1m1s\u001b[0m 442us/step - edge_output_mae: 0.1906 - loss: 0.2494 - val_edge_output_mae: 0.2096 - val_loss: 0.2618\n",
      "Epoch 3/10\n",
      "\u001b[1m3184/3184\u001b[0m \u001b[32m━━━━━━━━━━━━━━━━━━━━\u001b[0m\u001b[37m\u001b[0m \u001b[1m1s\u001b[0m 465us/step - edge_output_mae: 0.1943 - loss: 0.2595 - val_edge_output_mae: 0.1936 - val_loss: 0.2599\n",
      "Epoch 4/10\n",
      "\u001b[1m3184/3184\u001b[0m \u001b[32m━━━━━━━━━━━━━━━━━━━━\u001b[0m\u001b[37m\u001b[0m \u001b[1m1s\u001b[0m 459us/step - edge_output_mae: 0.1955 - loss: 0.2641 - val_edge_output_mae: 0.1849 - val_loss: 0.2596\n",
      "Epoch 5/10\n",
      "\u001b[1m3184/3184\u001b[0m \u001b[32m━━━━━━━━━━━━━━━━━━━━\u001b[0m\u001b[37m\u001b[0m \u001b[1m1s\u001b[0m 465us/step - edge_output_mae: 0.1940 - loss: 0.2713 - val_edge_output_mae: 0.1848 - val_loss: 0.2598\n",
      "Epoch 6/10\n",
      "\u001b[1m3184/3184\u001b[0m \u001b[32m━━━━━━━━━━━━━━━━━━━━\u001b[0m\u001b[37m\u001b[0m \u001b[1m1s\u001b[0m 449us/step - edge_output_mae: 0.1928 - loss: 0.2530 - val_edge_output_mae: 0.1934 - val_loss: 0.2599\n",
      "Epoch 7/10\n",
      "\u001b[1m3184/3184\u001b[0m \u001b[32m━━━━━━━━━━━━━━━━━━━━\u001b[0m\u001b[37m\u001b[0m \u001b[1m1s\u001b[0m 449us/step - edge_output_mae: 0.1948 - loss: 0.2684 - val_edge_output_mae: 0.1853 - val_loss: 0.2595\n",
      "Epoch 8/10\n",
      "\u001b[1m3184/3184\u001b[0m \u001b[32m━━━━━━━━━━━━━━━━━━━━\u001b[0m\u001b[37m\u001b[0m \u001b[1m1s\u001b[0m 457us/step - edge_output_mae: 0.1908 - loss: 0.2466 - val_edge_output_mae: 0.1863 - val_loss: 0.2597\n",
      "Epoch 9/10\n",
      "\u001b[1m3184/3184\u001b[0m \u001b[32m━━━━━━━━━━━━━━━━━━━━\u001b[0m\u001b[37m\u001b[0m \u001b[1m1s\u001b[0m 452us/step - edge_output_mae: 0.1940 - loss: 0.2644 - val_edge_output_mae: 0.1859 - val_loss: 0.2598\n",
      "Epoch 10/10\n",
      "\u001b[1m3184/3184\u001b[0m \u001b[32m━━━━━━━━━━━━━━━━━━━━\u001b[0m\u001b[37m\u001b[0m \u001b[1m2s\u001b[0m 468us/step - edge_output_mae: 0.1922 - loss: 0.2588 - val_edge_output_mae: 0.1901 - val_loss: 0.2595\n"
     ]
    },
    {
     "data": {
      "text/html": [
       "<pre style=\"white-space:pre;overflow-x:auto;line-height:normal;font-family:Menlo,'DejaVu Sans Mono',consolas,'Courier New',monospace\"><span style=\"font-weight: bold\">Model: \"functional_16\"</span>\n",
       "</pre>\n"
      ],
      "text/plain": [
       "\u001b[1mModel: \"functional_16\"\u001b[0m\n"
      ]
     },
     "metadata": {},
     "output_type": "display_data"
    },
    {
     "data": {
      "text/html": [
       "<pre style=\"white-space:pre;overflow-x:auto;line-height:normal;font-family:Menlo,'DejaVu Sans Mono',consolas,'Courier New',monospace\">┏━━━━━━━━━━━━━━━━━━━━━━━━━━━━━━━━━┳━━━━━━━━━━━━━━━━━━━━━━━━┳━━━━━━━━━━━━━━━┓\n",
       "┃<span style=\"font-weight: bold\"> Layer (type)                    </span>┃<span style=\"font-weight: bold\"> Output Shape           </span>┃<span style=\"font-weight: bold\">       Param # </span>┃\n",
       "┡━━━━━━━━━━━━━━━━━━━━━━━━━━━━━━━━━╇━━━━━━━━━━━━━━━━━━━━━━━━╇━━━━━━━━━━━━━━━┩\n",
       "│ input_layer_10 (<span style=\"color: #0087ff; text-decoration-color: #0087ff\">InputLayer</span>)     │ (<span style=\"color: #00d7ff; text-decoration-color: #00d7ff\">None</span>, <span style=\"color: #00af00; text-decoration-color: #00af00\">19</span>)             │             <span style=\"color: #00af00; text-decoration-color: #00af00\">0</span> │\n",
       "├─────────────────────────────────┼────────────────────────┼───────────────┤\n",
       "│ e1 (<span style=\"color: #0087ff; text-decoration-color: #0087ff\">Dense</span>)                      │ (<span style=\"color: #00d7ff; text-decoration-color: #00d7ff\">None</span>, <span style=\"color: #00af00; text-decoration-color: #00af00\">64</span>)             │         <span style=\"color: #00af00; text-decoration-color: #00af00\">1,280</span> │\n",
       "├─────────────────────────────────┼────────────────────────┼───────────────┤\n",
       "│ e3 (<span style=\"color: #0087ff; text-decoration-color: #0087ff\">Dense</span>)                      │ (<span style=\"color: #00d7ff; text-decoration-color: #00d7ff\">None</span>, <span style=\"color: #00af00; text-decoration-color: #00af00\">64</span>)             │         <span style=\"color: #00af00; text-decoration-color: #00af00\">4,160</span> │\n",
       "├─────────────────────────────────┼────────────────────────┼───────────────┤\n",
       "│ e4 (<span style=\"color: #0087ff; text-decoration-color: #0087ff\">Dense</span>)                      │ (<span style=\"color: #00d7ff; text-decoration-color: #00d7ff\">None</span>, <span style=\"color: #00af00; text-decoration-color: #00af00\">256</span>)            │        <span style=\"color: #00af00; text-decoration-color: #00af00\">16,640</span> │\n",
       "├─────────────────────────────────┼────────────────────────┼───────────────┤\n",
       "│ e5 (<span style=\"color: #0087ff; text-decoration-color: #0087ff\">Dense</span>)                      │ (<span style=\"color: #00d7ff; text-decoration-color: #00d7ff\">None</span>, <span style=\"color: #00af00; text-decoration-color: #00af00\">32</span>)             │         <span style=\"color: #00af00; text-decoration-color: #00af00\">8,224</span> │\n",
       "├─────────────────────────────────┼────────────────────────┼───────────────┤\n",
       "│ edge_output (<span style=\"color: #0087ff; text-decoration-color: #0087ff\">Dense</span>)             │ (<span style=\"color: #00d7ff; text-decoration-color: #00d7ff\">None</span>, <span style=\"color: #00af00; text-decoration-color: #00af00\">1</span>)              │            <span style=\"color: #00af00; text-decoration-color: #00af00\">33</span> │\n",
       "└─────────────────────────────────┴────────────────────────┴───────────────┘\n",
       "</pre>\n"
      ],
      "text/plain": [
       "┏━━━━━━━━━━━━━━━━━━━━━━━━━━━━━━━━━┳━━━━━━━━━━━━━━━━━━━━━━━━┳━━━━━━━━━━━━━━━┓\n",
       "┃\u001b[1m \u001b[0m\u001b[1mLayer (type)                   \u001b[0m\u001b[1m \u001b[0m┃\u001b[1m \u001b[0m\u001b[1mOutput Shape          \u001b[0m\u001b[1m \u001b[0m┃\u001b[1m \u001b[0m\u001b[1m      Param #\u001b[0m\u001b[1m \u001b[0m┃\n",
       "┡━━━━━━━━━━━━━━━━━━━━━━━━━━━━━━━━━╇━━━━━━━━━━━━━━━━━━━━━━━━╇━━━━━━━━━━━━━━━┩\n",
       "│ input_layer_10 (\u001b[38;5;33mInputLayer\u001b[0m)     │ (\u001b[38;5;45mNone\u001b[0m, \u001b[38;5;34m19\u001b[0m)             │             \u001b[38;5;34m0\u001b[0m │\n",
       "├─────────────────────────────────┼────────────────────────┼───────────────┤\n",
       "│ e1 (\u001b[38;5;33mDense\u001b[0m)                      │ (\u001b[38;5;45mNone\u001b[0m, \u001b[38;5;34m64\u001b[0m)             │         \u001b[38;5;34m1,280\u001b[0m │\n",
       "├─────────────────────────────────┼────────────────────────┼───────────────┤\n",
       "│ e3 (\u001b[38;5;33mDense\u001b[0m)                      │ (\u001b[38;5;45mNone\u001b[0m, \u001b[38;5;34m64\u001b[0m)             │         \u001b[38;5;34m4,160\u001b[0m │\n",
       "├─────────────────────────────────┼────────────────────────┼───────────────┤\n",
       "│ e4 (\u001b[38;5;33mDense\u001b[0m)                      │ (\u001b[38;5;45mNone\u001b[0m, \u001b[38;5;34m256\u001b[0m)            │        \u001b[38;5;34m16,640\u001b[0m │\n",
       "├─────────────────────────────────┼────────────────────────┼───────────────┤\n",
       "│ e5 (\u001b[38;5;33mDense\u001b[0m)                      │ (\u001b[38;5;45mNone\u001b[0m, \u001b[38;5;34m32\u001b[0m)             │         \u001b[38;5;34m8,224\u001b[0m │\n",
       "├─────────────────────────────────┼────────────────────────┼───────────────┤\n",
       "│ edge_output (\u001b[38;5;33mDense\u001b[0m)             │ (\u001b[38;5;45mNone\u001b[0m, \u001b[38;5;34m1\u001b[0m)              │            \u001b[38;5;34m33\u001b[0m │\n",
       "└─────────────────────────────────┴────────────────────────┴───────────────┘\n"
      ]
     },
     "metadata": {},
     "output_type": "display_data"
    },
    {
     "data": {
      "text/html": [
       "<pre style=\"white-space:pre;overflow-x:auto;line-height:normal;font-family:Menlo,'DejaVu Sans Mono',consolas,'Courier New',monospace\"><span style=\"font-weight: bold\"> Total params: </span><span style=\"color: #00af00; text-decoration-color: #00af00\">30,405</span> (118.77 KB)\n",
       "</pre>\n"
      ],
      "text/plain": [
       "\u001b[1m Total params: \u001b[0m\u001b[38;5;34m30,405\u001b[0m (118.77 KB)\n"
      ]
     },
     "metadata": {},
     "output_type": "display_data"
    },
    {
     "data": {
      "text/html": [
       "<pre style=\"white-space:pre;overflow-x:auto;line-height:normal;font-family:Menlo,'DejaVu Sans Mono',consolas,'Courier New',monospace\"><span style=\"font-weight: bold\"> Trainable params: </span><span style=\"color: #00af00; text-decoration-color: #00af00\">33</span> (132.00 B)\n",
       "</pre>\n"
      ],
      "text/plain": [
       "\u001b[1m Trainable params: \u001b[0m\u001b[38;5;34m33\u001b[0m (132.00 B)\n"
      ]
     },
     "metadata": {},
     "output_type": "display_data"
    },
    {
     "data": {
      "text/html": [
       "<pre style=\"white-space:pre;overflow-x:auto;line-height:normal;font-family:Menlo,'DejaVu Sans Mono',consolas,'Courier New',monospace\"><span style=\"font-weight: bold\"> Non-trainable params: </span><span style=\"color: #00af00; text-decoration-color: #00af00\">30,304</span> (118.38 KB)\n",
       "</pre>\n"
      ],
      "text/plain": [
       "\u001b[1m Non-trainable params: \u001b[0m\u001b[38;5;34m30,304\u001b[0m (118.38 KB)\n"
      ]
     },
     "metadata": {},
     "output_type": "display_data"
    },
    {
     "data": {
      "text/html": [
       "<pre style=\"white-space:pre;overflow-x:auto;line-height:normal;font-family:Menlo,'DejaVu Sans Mono',consolas,'Courier New',monospace\"><span style=\"font-weight: bold\"> Optimizer params: </span><span style=\"color: #00af00; text-decoration-color: #00af00\">68</span> (276.00 B)\n",
       "</pre>\n"
      ],
      "text/plain": [
       "\u001b[1m Optimizer params: \u001b[0m\u001b[38;5;34m68\u001b[0m (276.00 B)\n"
      ]
     },
     "metadata": {},
     "output_type": "display_data"
    },
    {
     "data": {
      "text/html": [
       "<pre style=\"white-space:pre;overflow-x:auto;line-height:normal;font-family:Menlo,'DejaVu Sans Mono',consolas,'Courier New',monospace\"><span style=\"font-weight: bold\">Model: \"functional_17\"</span>\n",
       "</pre>\n"
      ],
      "text/plain": [
       "\u001b[1mModel: \"functional_17\"\u001b[0m\n"
      ]
     },
     "metadata": {},
     "output_type": "display_data"
    },
    {
     "data": {
      "text/html": [
       "<pre style=\"white-space:pre;overflow-x:auto;line-height:normal;font-family:Menlo,'DejaVu Sans Mono',consolas,'Courier New',monospace\">┏━━━━━━━━━━━━━━━━━━━━━━━━━━━━━━━━━┳━━━━━━━━━━━━━━━━━━━━━━━━┳━━━━━━━━━━━━━━━┓\n",
       "┃<span style=\"font-weight: bold\"> Layer (type)                    </span>┃<span style=\"font-weight: bold\"> Output Shape           </span>┃<span style=\"font-weight: bold\">       Param # </span>┃\n",
       "┡━━━━━━━━━━━━━━━━━━━━━━━━━━━━━━━━━╇━━━━━━━━━━━━━━━━━━━━━━━━╇━━━━━━━━━━━━━━━┩\n",
       "│ input_layer_11 (<span style=\"color: #0087ff; text-decoration-color: #0087ff\">InputLayer</span>)     │ (<span style=\"color: #00d7ff; text-decoration-color: #00d7ff\">None</span>, <span style=\"color: #00af00; text-decoration-color: #00af00\">32</span>)             │             <span style=\"color: #00af00; text-decoration-color: #00af00\">0</span> │\n",
       "├─────────────────────────────────┼────────────────────────┼───────────────┤\n",
       "│ controlmodel (<span style=\"color: #0087ff; text-decoration-color: #0087ff\">Dense</span>)            │ (<span style=\"color: #00d7ff; text-decoration-color: #00d7ff\">None</span>, <span style=\"color: #00af00; text-decoration-color: #00af00\">64</span>)             │         <span style=\"color: #00af00; text-decoration-color: #00af00\">2,112</span> │\n",
       "├─────────────────────────────────┼────────────────────────┼───────────────┤\n",
       "│ l1 (<span style=\"color: #0087ff; text-decoration-color: #0087ff\">Dense</span>)                      │ (<span style=\"color: #00d7ff; text-decoration-color: #00d7ff\">None</span>, <span style=\"color: #00af00; text-decoration-color: #00af00\">128</span>)            │         <span style=\"color: #00af00; text-decoration-color: #00af00\">8,320</span> │\n",
       "├─────────────────────────────────┼────────────────────────┼───────────────┤\n",
       "│ l2 (<span style=\"color: #0087ff; text-decoration-color: #0087ff\">Dense</span>)                      │ (<span style=\"color: #00d7ff; text-decoration-color: #00d7ff\">None</span>, <span style=\"color: #00af00; text-decoration-color: #00af00\">64</span>)             │         <span style=\"color: #00af00; text-decoration-color: #00af00\">8,256</span> │\n",
       "├─────────────────────────────────┼────────────────────────┼───────────────┤\n",
       "│ control_output (<span style=\"color: #0087ff; text-decoration-color: #0087ff\">Dense</span>)          │ (<span style=\"color: #00d7ff; text-decoration-color: #00d7ff\">None</span>, <span style=\"color: #00af00; text-decoration-color: #00af00\">1</span>)              │            <span style=\"color: #00af00; text-decoration-color: #00af00\">65</span> │\n",
       "└─────────────────────────────────┴────────────────────────┴───────────────┘\n",
       "</pre>\n"
      ],
      "text/plain": [
       "┏━━━━━━━━━━━━━━━━━━━━━━━━━━━━━━━━━┳━━━━━━━━━━━━━━━━━━━━━━━━┳━━━━━━━━━━━━━━━┓\n",
       "┃\u001b[1m \u001b[0m\u001b[1mLayer (type)                   \u001b[0m\u001b[1m \u001b[0m┃\u001b[1m \u001b[0m\u001b[1mOutput Shape          \u001b[0m\u001b[1m \u001b[0m┃\u001b[1m \u001b[0m\u001b[1m      Param #\u001b[0m\u001b[1m \u001b[0m┃\n",
       "┡━━━━━━━━━━━━━━━━━━━━━━━━━━━━━━━━━╇━━━━━━━━━━━━━━━━━━━━━━━━╇━━━━━━━━━━━━━━━┩\n",
       "│ input_layer_11 (\u001b[38;5;33mInputLayer\u001b[0m)     │ (\u001b[38;5;45mNone\u001b[0m, \u001b[38;5;34m32\u001b[0m)             │             \u001b[38;5;34m0\u001b[0m │\n",
       "├─────────────────────────────────┼────────────────────────┼───────────────┤\n",
       "│ controlmodel (\u001b[38;5;33mDense\u001b[0m)            │ (\u001b[38;5;45mNone\u001b[0m, \u001b[38;5;34m64\u001b[0m)             │         \u001b[38;5;34m2,112\u001b[0m │\n",
       "├─────────────────────────────────┼────────────────────────┼───────────────┤\n",
       "│ l1 (\u001b[38;5;33mDense\u001b[0m)                      │ (\u001b[38;5;45mNone\u001b[0m, \u001b[38;5;34m128\u001b[0m)            │         \u001b[38;5;34m8,320\u001b[0m │\n",
       "├─────────────────────────────────┼────────────────────────┼───────────────┤\n",
       "│ l2 (\u001b[38;5;33mDense\u001b[0m)                      │ (\u001b[38;5;45mNone\u001b[0m, \u001b[38;5;34m64\u001b[0m)             │         \u001b[38;5;34m8,256\u001b[0m │\n",
       "├─────────────────────────────────┼────────────────────────┼───────────────┤\n",
       "│ control_output (\u001b[38;5;33mDense\u001b[0m)          │ (\u001b[38;5;45mNone\u001b[0m, \u001b[38;5;34m1\u001b[0m)              │            \u001b[38;5;34m65\u001b[0m │\n",
       "└─────────────────────────────────┴────────────────────────┴───────────────┘\n"
      ]
     },
     "metadata": {},
     "output_type": "display_data"
    },
    {
     "data": {
      "text/html": [
       "<pre style=\"white-space:pre;overflow-x:auto;line-height:normal;font-family:Menlo,'DejaVu Sans Mono',consolas,'Courier New',monospace\"><span style=\"font-weight: bold\"> Total params: </span><span style=\"color: #00af00; text-decoration-color: #00af00\">18,753</span> (73.25 KB)\n",
       "</pre>\n"
      ],
      "text/plain": [
       "\u001b[1m Total params: \u001b[0m\u001b[38;5;34m18,753\u001b[0m (73.25 KB)\n"
      ]
     },
     "metadata": {},
     "output_type": "display_data"
    },
    {
     "data": {
      "text/html": [
       "<pre style=\"white-space:pre;overflow-x:auto;line-height:normal;font-family:Menlo,'DejaVu Sans Mono',consolas,'Courier New',monospace\"><span style=\"font-weight: bold\"> Trainable params: </span><span style=\"color: #00af00; text-decoration-color: #00af00\">18,753</span> (73.25 KB)\n",
       "</pre>\n"
      ],
      "text/plain": [
       "\u001b[1m Trainable params: \u001b[0m\u001b[38;5;34m18,753\u001b[0m (73.25 KB)\n"
      ]
     },
     "metadata": {},
     "output_type": "display_data"
    },
    {
     "data": {
      "text/html": [
       "<pre style=\"white-space:pre;overflow-x:auto;line-height:normal;font-family:Menlo,'DejaVu Sans Mono',consolas,'Courier New',monospace\"><span style=\"font-weight: bold\"> Non-trainable params: </span><span style=\"color: #00af00; text-decoration-color: #00af00\">0</span> (0.00 B)\n",
       "</pre>\n"
      ],
      "text/plain": [
       "\u001b[1m Non-trainable params: \u001b[0m\u001b[38;5;34m0\u001b[0m (0.00 B)\n"
      ]
     },
     "metadata": {},
     "output_type": "display_data"
    },
    {
     "name": "stdout",
     "output_type": "stream",
     "text": [
      "INFO:tensorflow:Assets written to: expt/assets\n"
     ]
    },
    {
     "name": "stderr",
     "output_type": "stream",
     "text": [
      "INFO:tensorflow:Assets written to: expt/assets\n"
     ]
    },
    {
     "name": "stdout",
     "output_type": "stream",
     "text": [
      "Saved artifact at 'expt'. The following endpoints are available:\n",
      "\n",
      "* Endpoint 'serve'\n",
      "  args_0 (POSITIONAL_ONLY): TensorSpec(shape=(None, 19), dtype=tf.float32, name='keras_tensor_139')\n",
      "Output Type:\n",
      "  List[TensorSpec(shape=(None, 32), dtype=tf.float32, name=None), TensorSpec(shape=(None, 1), dtype=tf.float32, name=None)]\n",
      "Captures:\n",
      "  4373901968: TensorSpec(shape=(), dtype=tf.resource, name=None)\n",
      "  6427054288: TensorSpec(shape=(), dtype=tf.resource, name=None)\n",
      "  13085589136: TensorSpec(shape=(), dtype=tf.resource, name=None)\n",
      "  13048272400: TensorSpec(shape=(), dtype=tf.resource, name=None)\n",
      "  13048270480: TensorSpec(shape=(), dtype=tf.resource, name=None)\n",
      "  13085580880: TensorSpec(shape=(), dtype=tf.resource, name=None)\n",
      "  6427058896: TensorSpec(shape=(), dtype=tf.resource, name=None)\n",
      "  13048353936: TensorSpec(shape=(), dtype=tf.resource, name=None)\n",
      "  13048351248: TensorSpec(shape=(), dtype=tf.resource, name=None)\n",
      "  13048277968: TensorSpec(shape=(), dtype=tf.resource, name=None)\n"
     ]
    },
    {
     "name": "stderr",
     "output_type": "stream",
     "text": [
      "W0000 00:00:1743020837.807534 13507011 tf_tfl_flatbuffer_helpers.cc:365] Ignored output_format.\n",
      "W0000 00:00:1743020837.808102 13507011 tf_tfl_flatbuffer_helpers.cc:368] Ignored drop_control_dependency.\n",
      "2025-03-26 20:27:17.810084: I tensorflow/cc/saved_model/reader.cc:83] Reading SavedModel from: ./expt\n",
      "2025-03-26 20:27:17.810471: I tensorflow/cc/saved_model/reader.cc:52] Reading meta graph with tags { serve }\n",
      "2025-03-26 20:27:17.810476: I tensorflow/cc/saved_model/reader.cc:147] Reading SavedModel debug info (if present) from: ./expt\n",
      "2025-03-26 20:27:17.816310: I tensorflow/cc/saved_model/loader.cc:236] Restoring SavedModel bundle.\n",
      "2025-03-26 20:27:17.841685: I tensorflow/cc/saved_model/loader.cc:220] Running initialization op on SavedModel bundle at path: ./expt\n",
      "2025-03-26 20:27:17.846796: I tensorflow/cc/saved_model/loader.cc:466] SavedModel load for tags { serve }; Status: success: OK. Took 36717 microseconds.\n"
     ]
    }
   ],
   "source": [
    "import pandas as pd\n",
    "from sklearn.preprocessing import LabelEncoder\n",
    "from tensorflow.keras import Input, Model, layers\n",
    "from sklearn.model_selection import train_test_split\n",
    "\n",
    "# Load and preprocess data\n",
    "RAIN_THRESHHOLD = 0.5\n",
    "data = pd.read_csv('weather_data.csv', low_memory=False)\n",
    "data = data.sample(frac=1, random_state=2).reset_index(drop=True)\n",
    "data = data.replace('', float('nan')).dropna()\n",
    "data = data.replace(' ', float('nan'))\n",
    "data = data.dropna(subset=['wetb', 'vappr', 'rhum', 'vis'])\n",
    "X = data.drop(columns=['rain','date'])\n",
    "y = data['rain']\n",
    "print(data.isna().sum())\n",
    "\n",
    "# Ensure all data is numeric\n",
    "X = X.astype(float)\n",
    "\n",
    "# Split into training and testing sets\n",
    "X_train, X_test, y_train, y_test = train_test_split(X, y, test_size=0.2, random_state=42)\n",
    "\n",
    "# Reshape y to (num_samples, 1) for regression\n",
    "y_train = y_train.values.reshape(-1, 1)\n",
    "y_test = y_test.values.reshape(-1, 1)\n",
    "\n",
    "# Define the model\n",
    "inputs = Input(shape=(X_train.shape[1],))\n",
    "x = layers.Dense(64, activation='relu', name='e1')(inputs)\n",
    "z = layers.Dense(64, activation='relu', name='e2')(x)\n",
    "x = layers.Dense(64, activation='relu', name='e3')(x)\n",
    "x = layers.Dense(256, activation='relu', name='e4')(x)\n",
    "x = layers.Dense(32, activation='relu', name='e5')(x)\n",
    "edge_outputs = layers.Dense(1, activation='linear', name='edge_output')(x)\n",
    "x = layers.Dense(64, activation='relu', name='controlmodel')(x)\n",
    "x = layers.Dense(128, activation='relu', name='l1')(x)\n",
    "x = layers.Dense(64, activation='relu', name='l2')(x)\n",
    "\n",
    "control_outputs = layers.Dense(1, activation='linear', name='control_output')(x)\n",
    "\n",
    "# Create and compile the combined model\n",
    "combined_model = Model(inputs=inputs, outputs=[edge_outputs, control_outputs])\n",
    "combined_model.compile(optimizer='adam',\n",
    "                       loss={'edge_output': 'mean_squared_error',\n",
    "                             'control_output': 'mean_squared_error'},\n",
    "                       metrics={'edge_output': 'mae',\n",
    "                                'control_output': 'mae'})\n",
    "\n",
    "# Train the combined model\n",
    "combined_model.fit(X_train, [y_train, y_train], \n",
    "                   epochs=15, batch_size=32, \n",
    "                   validation_data=(X_test, [y_test, y_test]))\n",
    "\n",
    "# Define the edge_model\n",
    "edge_model = Model(inputs=inputs, outputs=[combined_model.get_layer('e5').output, edge_outputs])\n",
    "\n",
    "# x§This needs training \n",
    "# Set last as untrainable, then train last ones, this is not needed for contorl model becasue its last output is trained when entire model \n",
    "# gets trained\n",
    "for layer in edge_model.layers:\n",
    "    layer.trainable = False\n",
    "\n",
    "edge_model.get_layer('edge_output').trainable= True\n",
    "\n",
    "edge_model.compile(optimizer='adam',\n",
    "                   loss={'e5': None, 'edge_output': 'mean_squared_error'},\n",
    "                   metrics={'edge_output': 'mae'})\n",
    "\n",
    "history = edge_model.fit(X_train, [y_train, y_train], \n",
    "               epochs=10, batch_size=32, \n",
    "               validation_data=(X_test, [y_test, y_test]))\n",
    "\n",
    "# Define the control_model\n",
    "control_model_input = Input(shape=(32,))  # Shape of the intermediate layer output\n",
    "z = combined_model.get_layer('controlmodel')(control_model_input)\n",
    "z = combined_model.get_layer('l1')(z)\n",
    "z = combined_model.get_layer('l2')(z)\n",
    "\n",
    "control_model_outputs = combined_model.get_layer('control_output')(z)\n",
    "control_model = Model(inputs=control_model_input, outputs=control_model_outputs)\n",
    "\n",
    "# Inspect the models\n",
    "edge_model.summary()\n",
    "control_model.summary()\n",
    "\n",
    "edge_model.export(\"expt\")\n",
    "converter = tf.lite.TFLiteConverter.from_saved_model('./expt')\n",
    "tflite_model = converter.convert()\n",
    "with open('../deployment/models/edge_modelS5.tflite', 'wb') as f:\n",
    "  f.write(tflite_model)\n",
    "\n",
    "edge_model.save('../deployment/models/edge_modelS5.keras')\n",
    "    \n",
    "control_model.save('../deployment/models/control_modelS5.keras')\n",
    "\n"
   ]
  },
  {
   "cell_type": "markdown",
   "metadata": {},
   "source": [
    "## S6"
   ]
  },
  {
   "cell_type": "code",
   "execution_count": null,
   "metadata": {},
   "outputs": [
    {
     "name": "stdout",
     "output_type": "stream",
     "text": [
      "date     0\n",
      "ind      0\n",
      "rain     0\n",
      "ind1     0\n",
      "temp     0\n",
      "ind2     0\n",
      "wetb     0\n",
      "dewpt    0\n",
      "vappr    0\n",
      "rhum     0\n",
      "msl      0\n",
      "ind3     0\n",
      "wdsp     0\n",
      "ind4     0\n",
      "wddir    0\n",
      "ww       0\n",
      "w        0\n",
      "sun      0\n",
      "vis      0\n",
      "clht     0\n",
      "clamt    0\n",
      "dtype: int64\n",
      "Epoch 1/20\n",
      "\u001b[1m3184/3184\u001b[0m \u001b[32m━━━━━━━━━━━━━━━━━━━━\u001b[0m\u001b[37m\u001b[0m \u001b[1m5s\u001b[0m 1ms/step - control_output_loss: 1369.9906 - control_output_mae: 7.5113 - edge_output_loss: 18949.2324 - edge_output_mae: 18.9685 - loss: 20319.2344 - val_control_output_loss: 3.4745 - val_control_output_mae: 1.6322 - val_edge_output_loss: 33.4103 - val_edge_output_mae: 4.9651 - val_loss: 36.8866\n",
      "Epoch 2/20\n",
      "\u001b[1m3184/3184\u001b[0m \u001b[32m━━━━━━━━━━━━━━━━━━━━\u001b[0m\u001b[37m\u001b[0m \u001b[1m3s\u001b[0m 982us/step - control_output_loss: 3.9416 - control_output_mae: 0.8238 - edge_output_loss: 116.7866 - edge_output_mae: 3.1298 - loss: 120.7283 - val_control_output_loss: 0.3621 - val_control_output_mae: 0.3552 - val_edge_output_loss: 0.3241 - val_edge_output_mae: 0.3112 - val_loss: 0.6863\n",
      "Epoch 3/20\n",
      "\u001b[1m3184/3184\u001b[0m \u001b[32m━━━━━━━━━━━━━━━━━━━━\u001b[0m\u001b[37m\u001b[0m \u001b[1m5s\u001b[0m 1ms/step - control_output_loss: 0.8714 - control_output_mae: 0.4061 - edge_output_loss: 11.0684 - edge_output_mae: 1.0211 - loss: 11.9398 - val_control_output_loss: 0.2400 - val_control_output_mae: 0.2558 - val_edge_output_loss: 0.2325 - val_edge_output_mae: 0.2182 - val_loss: 0.4726\n",
      "Epoch 4/20\n",
      "\u001b[1m3184/3184\u001b[0m \u001b[32m━━━━━━━━━━━━━━━━━━━━\u001b[0m\u001b[37m\u001b[0m \u001b[1m3s\u001b[0m 1ms/step - control_output_loss: 0.3515 - control_output_mae: 0.3348 - edge_output_loss: 0.5951 - edge_output_mae: 0.3906 - loss: 0.9466 - val_control_output_loss: 0.2393 - val_control_output_mae: 0.2507 - val_edge_output_loss: 0.2985 - val_edge_output_mae: 0.3783 - val_loss: 0.5380\n",
      "Epoch 5/20\n",
      "\u001b[1m3184/3184\u001b[0m \u001b[32m━━━━━━━━━━━━━━━━━━━━\u001b[0m\u001b[37m\u001b[0m \u001b[1m3s\u001b[0m 1ms/step - control_output_loss: 0.2765 - control_output_mae: 0.2235 - edge_output_loss: 0.5166 - edge_output_mae: 0.3103 - loss: 0.7930 - val_control_output_loss: 1.2380 - val_control_output_mae: 0.9533 - val_edge_output_loss: 1.6586 - val_edge_output_mae: 1.0535 - val_loss: 2.8968\n",
      "Epoch 6/20\n",
      "\u001b[1m3184/3184\u001b[0m \u001b[32m━━━━━━━━━━━━━━━━━━━━\u001b[0m\u001b[37m\u001b[0m \u001b[1m3s\u001b[0m 1ms/step - control_output_loss: 0.2546 - control_output_mae: 0.2202 - edge_output_loss: 0.2605 - edge_output_mae: 0.2150 - loss: 0.5152 - val_control_output_loss: 0.2425 - val_control_output_mae: 0.1829 - val_edge_output_loss: 0.2854 - val_edge_output_mae: 0.3001 - val_loss: 0.5280\n",
      "Epoch 7/20\n",
      "\u001b[1m3184/3184\u001b[0m \u001b[32m━━━━━━━━━━━━━━━━━━━━\u001b[0m\u001b[37m\u001b[0m \u001b[1m4s\u001b[0m 1ms/step - control_output_loss: 0.2302 - control_output_mae: 0.2059 - edge_output_loss: 0.2519 - edge_output_mae: 0.2441 - loss: 0.4822 - val_control_output_loss: 0.2221 - val_control_output_mae: 0.1848 - val_edge_output_loss: 0.2426 - val_edge_output_mae: 0.2652 - val_loss: 0.4647\n",
      "Epoch 8/20\n",
      "\u001b[1m3184/3184\u001b[0m \u001b[32m━━━━━━━━━━━━━━━━━━━━\u001b[0m\u001b[37m\u001b[0m \u001b[1m4s\u001b[0m 1ms/step - control_output_loss: 0.2139 - control_output_mae: 0.1868 - edge_output_loss: 0.2301 - edge_output_mae: 0.2214 - loss: 0.4439 - val_control_output_loss: 0.2528 - val_control_output_mae: 0.2628 - val_edge_output_loss: 0.2292 - val_edge_output_mae: 0.2088 - val_loss: 0.4821\n",
      "Epoch 9/20\n",
      "\u001b[1m3184/3184\u001b[0m \u001b[32m━━━━━━━━━━━━━━━━━━━━\u001b[0m\u001b[37m\u001b[0m \u001b[1m4s\u001b[0m 1ms/step - control_output_loss: 0.2230 - control_output_mae: 0.1717 - edge_output_loss: 0.2237 - edge_output_mae: 0.1774 - loss: 0.4468 - val_control_output_loss: 0.2136 - val_control_output_mae: 0.1532 - val_edge_output_loss: 0.2114 - val_edge_output_mae: 0.1520 - val_loss: 0.4251\n",
      "Epoch 10/20\n",
      "\u001b[1m3184/3184\u001b[0m \u001b[32m━━━━━━━━━━━━━━━━━━━━\u001b[0m\u001b[37m\u001b[0m \u001b[1m3s\u001b[0m 992us/step - control_output_loss: 0.2295 - control_output_mae: 0.1693 - edge_output_loss: 0.2297 - edge_output_mae: 0.1687 - loss: 0.4591 - val_control_output_loss: 0.2206 - val_control_output_mae: 0.1438 - val_edge_output_loss: 0.2191 - val_edge_output_mae: 0.1535 - val_loss: 0.4398\n",
      "Epoch 11/20\n",
      "\u001b[1m2538/3184\u001b[0m \u001b[32m━━━━━━━━━━━━━━━\u001b[0m\u001b[37m━━━━━\u001b[0m \u001b[1m0s\u001b[0m 895us/step - control_output_loss: 0.2305 - control_output_mae: 0.1681 - edge_output_loss: 0.2309 - edge_output_mae: 0.1686 - loss: 0.4614"
     ]
    }
   ],
   "source": [
    "import pandas as pd\n",
    "from sklearn.preprocessing import LabelEncoder\n",
    "from tensorflow.keras import Input, Model, layers\n",
    "from sklearn.model_selection import train_test_split\n",
    "\n",
    "# Load and preprocess data\n",
    "RAIN_THRESHHOLD = 0.5\n",
    "data = pd.read_csv('weather_data.csv', low_memory=False)\n",
    "data = data.sample(frac=1, random_state=2).reset_index(drop=True)\n",
    "data = data.replace('', float('nan')).dropna()\n",
    "data = data.replace(' ', float('nan'))\n",
    "data = data.dropna(subset=['wetb', 'vappr', 'rhum', 'vis'])\n",
    "X = data.drop(columns=['rain','date'])\n",
    "y = data['rain']\n",
    "print(data.isna().sum())\n",
    "\n",
    "# Ensure all data is numeric\n",
    "X = X.astype(float)\n",
    "\n",
    "# Split into training and testing sets\n",
    "X_train, X_test, y_train, y_test = train_test_split(X, y, test_size=0.2, random_state=42)\n",
    "\n",
    "# Reshape y to (num_samples, 1) for regression\n",
    "y_train = y_train.values.reshape(-1, 1)\n",
    "y_test = y_test.values.reshape(-1, 1)\n",
    "\n",
    "# Define the model\n",
    "inputs = Input(shape=(X_train.shape[1],))\n",
    "x = layers.Dense(64, activation='relu', name='e1')(inputs)\n",
    "z = layers.Dense(64, activation='relu', name='e2')(x)\n",
    "x = layers.Dense(64, activation='relu', name='e3')(x)\n",
    "x = layers.Dense(256, activation='relu', name='e4')(x)\n",
    "x = layers.Dense(128, activation='relu', name='e5')(x)\n",
    "x = layers.Dense(32, activation='relu', name='e6')(x)\n",
    "edge_outputs = layers.Dense(1, activation='linear', name='edge_output')(x)\n",
    "x = layers.Dense(64, activation='relu', name='controlmodel')(x)\n",
    "x = layers.Dense(64, activation='relu', name='l1')(x)\n",
    "\n",
    "control_outputs = layers.Dense(1, activation='linear', name='control_output')(x)\n",
    "\n",
    "# Create and compile the combined model\n",
    "combined_model = Model(inputs=inputs, outputs=[edge_outputs, control_outputs])\n",
    "combined_model.compile(optimizer='adam',\n",
    "                       loss={'edge_output': 'mean_squared_error',\n",
    "                             'control_output': 'mean_squared_error'},\n",
    "                       metrics={'edge_output': 'mae',\n",
    "                                'control_output': 'mae'})\n",
    "\n",
    "# Train the combined model\n",
    "combined_model.fit(X_train, [y_train, y_train], \n",
    "                   epochs=20, batch_size=32, \n",
    "                   validation_data=(X_test, [y_test, y_test]))\n",
    "\n",
    "# Define the edge_model\n",
    "edge_model = Model(inputs=inputs, outputs=[combined_model.get_layer('e6').output, edge_outputs])\n",
    "\n",
    "# x§This needs training \n",
    "# Set last as untrainable, then train last ones, this is not needed for contorl model becasue its last output is trained when entire model \n",
    "# gets trained\n",
    "for layer in edge_model.layers:\n",
    "    layer.trainable = False\n",
    "\n",
    "edge_model.get_layer('edge_output').trainable= True\n",
    "\n",
    "edge_model.compile(optimizer='adam',\n",
    "                   loss={'e6': None, 'edge_output': 'mean_squared_error'},\n",
    "                   metrics={'edge_output': 'mae'})\n",
    "\n",
    "history = edge_model.fit(X_train, [y_train, y_train], \n",
    "               epochs=10, batch_size=32, \n",
    "               validation_data=(X_test, [y_test, y_test]))\n",
    "\n",
    "# Define the control_model\n",
    "control_model_input = Input(shape=(32,))  # Shape of the intermediate layer output\n",
    "z = combined_model.get_layer('controlmodel')(control_model_input)\n",
    "z = combined_model.get_layer('l1')(z)\n",
    "\n",
    "control_model_outputs = combined_model.get_layer('control_output')(z)\n",
    "control_model = Model(inputs=control_model_input, outputs=control_model_outputs)\n",
    "\n",
    "# Inspect the models\n",
    "edge_model.summary()\n",
    "control_model.summary()\n",
    "\n",
    "edge_model.export(\"expt\")\n",
    "converter = tf.lite.TFLiteConverter.from_saved_model('./expt')\n",
    "tflite_model = converter.convert()\n",
    "with open('../deployment/models/edge_modelS6.tflite', 'wb') as f:\n",
    "  f.write(tflite_model)\n",
    "\n",
    "edge_model.save('../deployment/models/edge_modelS6.keras')\n",
    "    \n",
    "control_model.save('../deployment/models/control_modelS6.keras')\n",
    "\n"
   ]
  }
 ],
 "metadata": {
  "colab": {
   "provenance": []
  },
  "kernelspec": {
   "display_name": "Python 3 (ipykernel)",
   "language": "python",
   "name": "python3"
  },
  "language_info": {
   "codemirror_mode": {
    "name": "ipython",
    "version": 3
   },
   "file_extension": ".py",
   "mimetype": "text/x-python",
   "name": "python",
   "nbconvert_exporter": "python",
   "pygments_lexer": "ipython3",
   "version": "3.9.10"
  }
 },
 "nbformat": 4,
 "nbformat_minor": 4
}
